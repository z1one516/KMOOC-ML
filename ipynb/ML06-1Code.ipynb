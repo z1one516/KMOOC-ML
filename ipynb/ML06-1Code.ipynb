{
 "cells": [
  {
   "cell_type": "markdown",
   "metadata": {},
   "source": [
    "예수께서 이르시되 네 마음을 다하고 목숨을 다하고 뜻을 다하여 주 너의 하나님을 사랑하라 하셨으니 이것이 크고 첫째 되는 계명이요 둘째도 그와 같으니 네 이웃을 네 자신 같이 사랑하라 하셨으니 이 두 계명이 온 율법과 선지자의 강령이니라\t(마22:37-40)\n",
    "<center><img src=\"https://github.com/idebtor/KMOOC-ML/blob/master/ipynb/images/MLwithPython.png?raw=true\" width=1000></center>\n",
    "\n",
    "# Week 6-1 OOP Perceptron Coding\n",
    "\n",
    "-----------------------------------\n",
    "\n",
    "\n",
    "## 3.1 객체지향 퍼셉트론 구현:  클래스 "
   ]
  },
  {
   "cell_type": "code",
   "execution_count": 1,
   "metadata": {},
   "outputs": [],
   "source": [
    "# Implementation of Rosenblatt's perceptron algorithm for classification.\n",
    "# Author: Youngsup KIm, idebtor@gmail.com\n",
    "# 2018.03.01 - Creation\n",
    "# 2018.04.18 - works with plot_descision_region(), net_input() modified\n",
    "\n",
    "import numpy as np\n",
    "class Perceptron:\n",
    "    \"\"\"Perceptron classifier: This implementation of the Perceptron expects \n",
    "    binary class labels in {0, 1}.\n",
    "    \n",
    "    Parameters\n",
    "        eta : float (default: 0.1), Learning rate (between 0.0 and 1.0)\n",
    "        epochs : int (default: 10), Number of passes over the training dataset.\n",
    "            Prior to each epoch, the dataset is shuffled to prevent cycles.\n",
    "        random_seed : int, Random state for initializing random weights and shuffling.\n",
    "        \n",
    "        X0: If True, then X must have X_0 = 1 in all samples.\n",
    "                Set it Faslse, if X does not have X_0 \n",
    "    \n",
    "    Attributes\n",
    "        w  : 1d-array, shape={n_features, }, Model weights after fitting. Includes bias\n",
    "        w_ : 2d-array, shape={epochs, n_features}, Weights in every epoch\n",
    "        cost_ : list, Number of misclassifications in every epoch.\n",
    "\n",
    "    \"\"\"\n",
    "    def __init__(self, eta = 0.1, epochs = 10, random_seed = 1): # 생성자\n",
    "        self.eta = eta\n",
    "        self.epochs = epochs\n",
    "        self.random_seed = random_seed\n",
    "        \n",
    "    def fit(self, X, y, X0 = False):                             # 학습메소드\n",
    "        if X0 == False:\n",
    "            X = np.c_[np.ones(len(y)), X]\n",
    "        np.random.seed(self.random_seed)\n",
    "        self.w = np.random.random(X.shape[1])\n",
    "            \n",
    "        self.maxy, self.miny = y.max(), y.min()\n",
    "        self.cost_ = []\n",
    "        self.w_ = np.array([self.w])\n",
    "            \n",
    "        for i in range(self.epochs):\n",
    "            errors = 0\n",
    "            for xi, yi in zip(X, y):\n",
    "                yhat = self.activate(xi)\n",
    "                delta = self.eta * (yi - yhat) * xi\n",
    "                self.w = self.w + delta\n",
    "                if (yi != yhat): errors += 1\n",
    "            self.cost_.append(errors)\n",
    "            self.w_ = np.vstack([self.w_, self.w])\n",
    "        return self\n",
    "    \n",
    "    def net_input(self, X):                                     # 순입력메소드 \n",
    "        if X.shape[0] == self.w.shape[0]:\n",
    "            z = np.dot(self.w.T, X)\n",
    "        else:\n",
    "            z = np.dot(X, self.w[1:]) + self.w[0]\n",
    "        return z\n",
    "    \n",
    "    def activate(self, X):                                     # 활성화메소드 \n",
    "        mid = (self.maxy + self.miny) / 2\n",
    "        return np.where(self.net_input(X) > mid, self.maxy, self.miny)\n",
    "    \n",
    "    def predict(self, X):                                     # 예측메소드\n",
    "        return self.activate(X)"
   ]
  },
  {
   "cell_type": "markdown",
   "metadata": {},
   "source": [
    "-------\n",
    "_Rejoice always, pray continually, give thanks in all circumstances; for this is God’s will for you in Christ Jesus. (1 Thes 5:16-18)_"
   ]
  }
 ],
 "metadata": {
  "kernelspec": {
   "display_name": "Python 3 (ipykernel)",
   "language": "python",
   "name": "python3"
  },
  "language_info": {
   "codemirror_mode": {
    "name": "ipython",
    "version": 3
   },
   "file_extension": ".py",
   "mimetype": "text/x-python",
   "name": "python",
   "nbconvert_exporter": "python",
   "pygments_lexer": "ipython3",
   "version": "3.8.12"
  }
 },
 "nbformat": 4,
 "nbformat_minor": 2
}
