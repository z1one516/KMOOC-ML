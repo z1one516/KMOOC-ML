{
 "cells": [
  {
   "cell_type": "markdown",
   "metadata": {},
   "source": [
    "사랑은 언제까지나 떨어지지 아니하되 예언도 폐하고 방언도 그치고 지식도 폐하리라. (고린도전서 13:4)   \n",
    "Love never fails. But where there are prophecies, they will cease; where there are tongues, the will be stilled; where there is knowledge, it will pass away. (1 Corinthians 13:4)\n",
    "\n",
    "<center><img src=\"https://github.com/idebtor/KMOOC-ML/blob/master/ipynb/images/MLwithPython.png?raw=true\" width=1000></center>\n",
    "\n",
    "__NOTE:__ The following materials have been compiled and adapted from the numerous sources including my own. Please help me to keep this tutorial up-to-date by reporting any issues or questions. Send any comments or criticisms to `idebtor@gmail.com` Your assistances and comments will be appreciated."
   ]
  },
  {
   "cell_type": "markdown",
   "metadata": {},
   "source": [
    "# 제 1-3 강:  행렬$^{Matrix}$\n",
    "\n",
    "## 학습 목표\n",
    "\n",
    "- 행렬을 이해하고, 행렬 연산을 익힌다.\n",
    "\n",
    "## 학습 내용\n",
    "\n",
    "- 왜 행렬인가? \n",
    "- 행렬에 관한 용어의 이해\n",
    "- 행렬의 사칙 연산\n",
    "- 행렬의 전치, 역행렬, 단위행렬"
   ]
  },
  {
   "cell_type": "markdown",
   "metadata": {},
   "source": [
    "이번시간에는 행렬에 관해서 짚고 넘어가려합니다. 행렬을 배우신 분들도 있고 행렬을 배우지 않으신 분들도 있을 것이라 생각합니다.\n",
    "행렬을 이미 공부하신 분이라면 복습을 하는 시간이라고 생각하셔도 좋습니다."
   ]
  },
  {
   "cell_type": "markdown",
   "metadata": {},
   "source": [
    "## 왜 행렬인가?\n",
    "\n",
    "선형 대수학에서는 여러 개의 선형 방정식을 간결하게 표기할 수 있는 방법을 제공합니다.  예를 들면, 다음과 같은 두 개의 일차 방정식이 있다고 가정해 봅시다. \n",
    "\n",
    "\\begin{align}\n",
    "4x_1 - 5x_2 &= -12 \\\\\n",
    "-2x_1 + 3x_2 &= 8\n",
    "\\end{align}\n",
    "\n",
    "이러한 2개의 변수에 2개의 방정식이 있으므로, $x_1, x_2$에 관하여 해를 구할 수 있습니다. 이것을 행렬 방식으로 간결하게 표시하면 다음과 같습니다. \n",
    "\n",
    "\\begin{align}\n",
    "  Ax &= b \\ \\\\\n",
    "  A &= \\begin{bmatrix} 4 & -5 \\cr -2 & 3 \\end{bmatrix}, \\\n",
    "  b = \\begin{bmatrix} -12 \\cr 8 \\end{bmatrix}\n",
    "\\end{align}\n",
    "\n",
    "이와같이 행렬은 \"연립방정식에서 계수와 변수를 분리하여 쓰면 어떨까?\"라는 생각에서 탄생했습니다. 믿거나 말거나 이것은 역사적 사실입니다. 시간만 따지고 본다면 행렬보다 행렬식이 먼저 탄생한 셈입니다. \n",
    "\n",
    "기계학습에서는 기본적으로 많은 학습자료를 다루어야 합니다. 이때 필수적으로 필요한 것이 행렬이며 나아가서는 텐서입니다. 행렬을 이용하면 여러가지 이점들이 있습니다.\n",
    "\n",
    "- 첫째로 행렬은 이러한 모든 계산을 아주 간결하게 압축하여 표기가 가능하게 해줍니다. 우리같은 사람들에게는 아주 큰 이점이죠. 간결하니까 우리 같은 사람들이 실수를 할 수 있는 기회를 줄여주기 때문에 고마운거죠. 기계학습 덕분에 선형 대수학, 행렬도 공부하면서 감사가 넘치고, 행복했으면 좋겠습니다. \n",
    "\n",
    "- 둘째로는 프로그래밍에 적용하기 쉽습니다. 많은 컴퓨터 프로그래밍 언어가 행렬을 이해할 수 있으며, 실제 계산은 반복적이기 때문에 컴퓨터가 빠르고 효율적으로 해낼 수 있습니다. 더 감사한 일이죠, 이런 것을 여러분은 곧 경험할 것입니다. 감사에 또 감사하는 것이죠\n",
    "\n",
    "위의 말들을 요약하자면 행렬은 우리가 해야 하는 작업을 간결하고 쉽게 표현하며, 컴퓨터의 입장에서는 빠르고 효율적으로 계산을 이해할 수 있다는 것입니다. "
   ]
  },
  {
   "cell_type": "markdown",
   "metadata": {},
   "source": [
    "## 1. 용어의 이해\n",
    "\n",
    "### 1.1 스칼라\n",
    "\n",
    "크기와 방향을 가지는 벡터에 대비하는 개념으로, 크기만 있고 방향을 가지지 않는 양이 스칼라입니다. 사칙연산이 가능한 물리량입니다.  질량, 부피, 거리, 속력, 정수, 유리수, 실수,등 모든 것들이 스칼라입니다.\n"
   ]
  },
  {
   "cell_type": "markdown",
   "metadata": {},
   "source": [
    "### 1.2 벡터\n",
    "\n",
    "수학에서 벡터는 크기와 방향을 가져야 합니다. 예를 들면, 속도, 가속도, 운동량, 전기장 등의 물리량이 여기에 속합니다. 기계학습에서 1차원 배열을 벡터로 간주합니다. \n",
    "\n",
    "\n",
    "### 1.3 행렬\n",
    "\n",
    "행렬$^{matrix}$은 수 혹은 수식 등을 네모꼴로 배열한 것입니다. 2차원의 배열을 행렬이라 하며, 배열의 전체를 괄호로 묶어 표시합니다. "
   ]
  },
  {
   "cell_type": "markdown",
   "metadata": {},
   "source": [
    "### 1.4 텐서\n",
    "\n",
    "기계학습에서 텐서는 임의의 차원을 갖고 있는 배열이라는 의미로 사용합니다. 간단히 말하자면 텐서는 0차원인 스칼라, 1차원인 벡터, 2차원인 행렬, 혹은 N 차원, 고차원의 모든 행렬을 포함합니다."
   ]
  },
  {
   "cell_type": "markdown",
   "metadata": {},
   "source": [
    "## 2. 행렬의 정의\n",
    "\n",
    "행렬(Matrix)는 숫자로 이루어진 사각형 모양의 테이블입니다. 행렬에 대해 이것보다 더 복잡한 것은 없습니다. (행렬에 대해 이것보다 더 간단한 것은 없습니다.) 여러분이 스프레드 시트(엑셀)를 사용해 보았다면, 격자에 배열된 숫자로 작업하는 데에 이미 익숙할 것입니다. 어떤 사람들은 테이블이라고 부르기도 하며, 행렬이라고도 부릅니다. 다음과 같이 행렬은 숫자로 이루어진 격자 혹은 테이블입니다. "
   ]
  },
  {
   "cell_type": "markdown",
   "metadata": {},
   "source": [
    "\\begin{align}\n",
    " A = \\begin{bmatrix} 1 & 2 & 3\\cr4 & 5 & 6 \\end{bmatrix}\n",
    "\\end{align}\n",
    "\n",
    "<center>2 x 3 행렬의 예시<center> <br>\n",
    "\n",
    "여기서 $A \\in \\mathbb{R}^{m \\times n}$ 이라고 표기하며, 이는 m 행과 n 열로 구성되어 있으며, 원소들은 실수(R, real number)집합에 속한다는 것을 의미합니다. "
   ]
  },
  {
   "cell_type": "markdown",
   "metadata": {},
   "source": [
    "행렬(Matrix)은 1개 이상의 수나 식을 사각형의 배열로 나열한 것 입니다. 가로줄을 행(row), 세로줄을 열(column)이라고 부릅니다. Column에는 기둥이라는 뜻도 있다는 것을 생각해본다면 세로줄이라는 뜻도 쉽게 이해할 수 있을 것입니다. "
   ]
  },
  {
   "cell_type": "markdown",
   "metadata": {},
   "source": [
    "\n",
    "## 3. 행렬과 원소, 표기 \n",
    "- 행렬 $A$의 $i$번째 행과 $j$번째 열에 있는 원소는 $a_{ij}$로 표기합니다. \n",
    "\n",
    "\\begin{align} A_{m,n} = \n",
    " \\begin{pmatrix} a_{1,1} & a_{1,2} & \\cdots & a_{1,n} \\\\ \n",
    "                 a_{2,1} & a_{2,2} & \\cdots & a_{2,n} \\\\\n",
    "                  \\vdots  & \\vdots  & \\ddots & \\vdots  \\\\\n",
    "                  a_{m,1} & a_{m,2} & \\cdots & a_{m,n} \n",
    " \\end{pmatrix}\n",
    "\\end{align}\n",
    "\n",
    "- 행렬 $A$의 $j$번째 열은 $a_j$로 표기합니다. \n",
    "\n",
    "\\begin{align} A_{m,n} = \n",
    " \\begin{pmatrix} | & | & & | \\\\ \n",
    "                 a_1 & a_2 & \\cdots & a_n \\\\\n",
    "                 | & | & & | \\\\ \n",
    " \\end{pmatrix}\n",
    "\\end{align}\n",
    "\n",
    "- 행렬 $A$의 $i$번째 행은 $a_i^T$로 표기합니다.\n",
    "\n",
    "\\begin{align} A_{m,n} = \n",
    " \\begin{pmatrix} - & a_1^T & - \\\\ \n",
    "                 - & a_2^T & - \\\\\n",
    "                     & \\vdots & \\\\\n",
    "                 - & a_m^T & - \\\\\n",
    " \\end{pmatrix}\n",
    "\\end{align}"
   ]
  },
  {
   "cell_type": "markdown",
   "metadata": {},
   "source": [
    "## 4. 행 벡터와 열 벡터\n",
    "\n",
    "선형 대수학에서, 행 벡터는 `1 x m` 행렬, m 원소들로 구성된 단일 행 행렬이며 다음과 같이 나타낼 수 있습니다.\n",
    "\n",
    "\\begin{align} \\mathbf{w} = \\begin{bmatrix} w_1 \\ w_2 \\ \\cdots \\ w_m \\end{bmatrix} \\end{align}\n",
    "\n",
    "마찬가지로, 열 벡터는 `m x 1` 행렬, 즉 `m` 원소들의 구성된 단일 열 행렬이며 다음과 같이 표시합니다. \n",
    "\\begin{align} \\mathbf{x} = \\begin{pmatrix} x_1 \\cr x_2 \\cr \\vdots \\cr x_m \\end{pmatrix} \\end{align}\n",
    "\n",
    "이렇게 하나의 행으로만 구성되어 있으면 행 벡터, 하나의 열로만 구성되어 있으면 열 벡터라고 부릅니다. 일반적으로 행 벡터인지 열 벡터인지 언급이 없다면, 대개의 경우 열 벡터를 의미합니다. "
   ]
  },
  {
   "cell_type": "markdown",
   "metadata": {},
   "source": [
    "## 5. 행렬의 곱\n",
    "\n",
    "두 행렬 즉 $A \\in \\mathbb{R}^{m \\times n}, \\ B \\in \\mathbb{R}^{n \\times p}$의 곱은 다음과 같이 정의 합니다. \n",
    "\n",
    "\\begin{align}\n",
    "   C = AB \\in \\mathbb{R}^{m \\times p} \\qquad 단, \\ C_{ij} = \\sum_{k=1}^n a_{ik}b_{kj}.\n",
    "\\end{align}\n",
    "\n",
    "행렬의 곱은 다른 행렬의 연산들과 같이 __크기가 맞는 경우__ 에만 계산할 수 있습니다.\n",
    "\n",
    "여기서 __크기가 맞다__ 는 것은 __앞의 행렬의 열(column)의 수와 뒤의 행렬의 행(row)의 수가 같다__ 는 것을 말합니다.곱셈의 결과 나오는 행렬의 크기는 (앞의 행렬의 행(row)의 수) x (뒤의 행렬의 열(column)의 수)가 됩니다. 즉 앞의 행렬이 M x N 크기이고 뒤의 행렬이 N x P 크기인 경우에 결과는 M x P 크기의 행렬이 됩니다.\n"
   ]
  },
  {
   "cell_type": "markdown",
   "metadata": {},
   "source": [
    "<center><img src = \"https://github.com/idebtor/KMOOC-ML/blob/master/ipynb/images/ch1/Matrix_multiplication1.png?raw=true\" width = \"400\"></center>\n",
    "<center>그림 1: 행렬의 곱에서 대응하는 차원의 원소 수의 일치</center>"
   ]
  },
  {
   "cell_type": "markdown",
   "metadata": {},
   "source": [
    "다음은 행렬이 서로 곱해진 것을 보여주는 식입니다.\n",
    "\n",
    "\\begin{align}\n",
    "AB &= \\begin{bmatrix} x_{11} & x_{12} \\cr x_{21} & x_{22} \\cr x_{31} & x_{32} \\cr x_{41} & x_{42} \\end{bmatrix} \n",
    "      \\begin{bmatrix} y_{11} & y_{12} & y_{13} \\cr y_{21} & y_{22} & y_{23}\\end{bmatrix}  \\\\\n",
    "&= \n",
    "\\begin{bmatrix} \n",
    "x_{11}y_{11} + x_{12}y_{21} & x_{11}y_{12} + x_{12}y_{22} & x_{11}y_{13} + x_{12}y_{23}   \\cr \n",
    "x_{21}y_{11} + x_{22}y_{21} & x_{21}y_{12} + x_{22}y_{22} & x_{21}y_{13} + x_{22}y_{23} \\cr\n",
    "x_{31}y_{11} + x_{32}y_{21} & x_{31}y_{12} + x_{32}y_{22} & x_{31}y_{13} + x_{32}y_{23} \\cr\n",
    "x_{41}y_{11} + x_{42}y_{21} & x_{41}y_{12} + x_{42}y_{22} & x_{41}y_{13} + x_{42}y_{23} \\cr\n",
    "\\end{bmatrix}  \\\\ \n",
    "\\end{align} \n",
    "<br>\n",
    "<center>행렬A와 B의 곱(AB=C)</center>"
   ]
  },
  {
   "cell_type": "markdown",
   "metadata": {},
   "source": [
    "<center><img src = \"https://github.com/idebtor/KMOOC-ML/blob/master/ipynb/images/ch1/Matrix_multiplication.png?raw=true\" width = \"300\"></center>\n",
    "<center>그림 2: 행렬A와 B의 곱(AB=C)</center>\n",
    "<center>출처:https://en.wikipedia.org/wiki/Matrix_multiplication</center>"
   ]
  },
  {
   "cell_type": "markdown",
   "metadata": {},
   "source": [
    "식을 보면 앞의 행렬의 행(row)과 뒤의 행렬의 열(column)끼리 곱하고 더한 것을 알 수 있습니다. 일반적으로 말한다면 앞행렬의 앞에서부터 N번째 원소와 뒷행렬의 위에서부터 N번째 행렬들끼리 곱한 것을 더한 것입니다. 행렬의 크기가 커진다면 아래와 같이 됩니다."
   ]
  },
  {
   "cell_type": "markdown",
   "metadata": {},
   "source": [
    "\\begin{align}\n",
    "\\left\\lgroup\\matrix{a_{11} & a_{12} & ... & a_{1n}\\cr a_{21} & a_{22} & ... & a_{2n}\\cr \\vdots & \\vdots & \\vdots & \\vdots \\cr a_{j1} & a_{j2} & ... & a_{jn}\\cr \\vdots & \\vdots & \\vdots & \\vdots \\cr a_{m1} & a_{m2} & ... & a_{mn}}\\right\\rgroup\n",
    "\\left\\lgroup\\matrix{{b_11} & b_{12} & ... & b_{1k} & ... & b_{1q}\\cr b_{21} & b_{22} & ... & b_{2k} & ... & b_{2q}\\cr \\vdots & \\vdots & \\vdots & \\vdots & \\vdots & \\vdots \\cr b_{n1} & b_{n2} & ... & b_{nk} & ... & b_{nq}}\\right\\rgroup\n",
    "=\n",
    "\\left\\lgroup\\matrix{c_{11} & c_{12} & ... & c_{1k} & ... & c_{1q}\\cr c_{21} & c_{22} & ... & c_{2k} & ... & c_{2q}\\cr \\vdots & \\vdots & \\vdots & \\vdots & \\vdots & \\vdots \\cr c_{j1} & c_{j2} & ... & c_{jk} & ... & c_{jp}\\cr c_{m1} & c_{m2} & ... & c_{mk} & ... & c_{mq}}\\right\\rgroup\n",
    "\\end{align}\n",
    "<center>크기가 큰 행렬의 곱셈 계산</center>\n",
    "\n",
    "여기서 $c_{jk}$의 값은 $c_{jk} = a_{j1}\\times b_{1k} + a_{j2}\\times b_{2k} + ... + a_{jn}\\times b_{nk}$가 됩니다."
   ]
  },
  {
   "cell_type": "markdown",
   "metadata": {},
   "source": [
    " "
   ]
  },
  {
   "cell_type": "markdown",
   "metadata": {},
   "source": [
    "### 5.1 두 벡터의 곱(내적)\n",
    "\n",
    "열 벡터로 표현되는 두 개의 벡터 $\\mathbf{x}, \\mathbf{y} \\in \\mathbb{R}^n$가 주어졌을 때, $\\mathbf{x}^T\\mathbf{y}$를 내적(inner product, dot product)이라고 합니다. \n",
    "\n",
    "\\begin{align} \n",
    " \\mathbf{x}^T\\mathbf{y} \\in \\mathbb{R} \n",
    "    &= \\begin{bmatrix} x_1 \\ x_2 \\ \\cdots \\ x_n \\end{bmatrix}  \n",
    "    \\begin{pmatrix} y_1 \\cr y_2 \\cr \\vdots \\cr y_n \\end{pmatrix}  \\\\\n",
    "                            &= x_1y_1 + x_2y_2 + \\cdots + x_n y_n \\\\\n",
    "                             &= \\sum_{i=1}^{n} x_iy_i \\\\\n",
    "\\end{align}\n",
    "\n",
    "이와 같은 행렬의 특별한 경우에 해당합니다. 이 때는 \n",
    "- 항상 $\\mathbf{x}^T\\mathbf{y} = \\mathbf{y}^T\\mathbf{x}$가 성립합니다. \n",
    "- 두 벡터의 크기가 같습니다. \n",
    "- 결과 값은 스칼라입니다. \n",
    "\n",
    "위의 식 끝에 나오는 $\\sum$은 \"summation, 더하기\"는 수학 기호이며, 밑첨자는 i=1부터 i을 하나씩 증가시키며 윗첨자 n이 될 때까지 나타나는 항목을 모두 더하라는 표시입니다. "
   ]
  },
  {
   "cell_type": "markdown",
   "metadata": {},
   "source": [
    "### 5.2 두 벡터의 곱(외적)\n",
    "\n",
    "열 벡터로 표현되는 두 개의 벡터 $\\mathbf{x} \\in \\mathbb{R}^m, \\mathbf{y} \\in \\mathbb{R}^n$가 주어질 때, (두 벡터의 크기가 반드시 같을 필요가 없음), 두 벡터를 $\\mathbf{x}\\mathbf{y}^T$ 외적(outer product)하면 행렬을 얻게 됩니다.  \n",
    "\n",
    "\\begin{align} \n",
    "\\mathbf{x}^T\\mathbf{y} \\in \\mathbb{R}^{m \\times n} \n",
    "        &= \\begin{pmatrix} x_1 \\cr x_2 \\cr \\vdots \\cr x_m \\end{pmatrix}\n",
    "           \\begin{pmatrix} y_1 \\ y_2 \\ \\cdots \\ y_n \\end{pmatrix} \n",
    "         = \\begin{pmatrix} x_1y_1 & x_1y_2 & \\cdots & x_1y_n \\cr\n",
    "                           x_2y_1 & x_2y_2 & \\cdots & x_2y_n \\cr\n",
    "                            ... &  &  \\cdots & \\cdots \\cr \n",
    "                           x_my_1 & x_my_2 & \\cdots & x_my_n \\end{pmatrix}\n",
    "\\end{align}\n",
    "\n",
    "외적이 유용할 때가 있습니다. \n",
    "모든 원소가 1인 열 벡터를 $\\mathbf{I} \\in \\mathbb{R}^n$라고 합시다. 또한 행렬 $A \\in \\mathbb{R}^{m \\times n}$의 모든 열이 동일한 벡터 $\\mathbf{x} \\in \\mathbb{R}^m$라고 하면, 이를 다음과 같이 표기할 수 있습니다.  \n",
    "\n",
    "\n",
    "\\begin{align} A_{m,n} &= \n",
    " \\begin{pmatrix} | & | & & | \\\\ \n",
    "                 x & x & \\cdots & x \\\\\n",
    "                 | & | & & | \\\\ \n",
    " \\end{pmatrix} = \n",
    " \\begin{pmatrix} x_1 & x_1 & \\cdots & x_1 \\\\ \n",
    "                 x_2 & x_2 & \\cdots & x_2 \\\\\n",
    "                  \\vdots  & \\vdots  & \\ddots & \\vdots  \\\\\n",
    "                  x_m & x_m & \\cdots & x_m \n",
    " \\end{pmatrix} \\\\\n",
    " &= \\begin{pmatrix} x_1 \\cr x_2 \\cr \\vdots \\cr x_m \\end{pmatrix} \n",
    "    \\begin{bmatrix} 1 & 1 & \\cdots & 1 \\end{bmatrix} \n",
    "  = \\mathbf{x}\\mathbf{I}^T\n",
    "\\end{align}\n",
    "\n",
    "\n"
   ]
  },
  {
   "cell_type": "markdown",
   "metadata": {},
   "source": [
    "### 5.3 행렬 곱의 특징\n",
    "\n",
    "`k`를 스칼라, $\\mathbf{A, B, C}$를 각 공식에서 연산이 정의되도록 크기를 정한 행렬이라고 하면 다음이 성립합니다. \n",
    "\n",
    "- 결합법칙 <br>\n",
    "    $\\mathbf {A} (\\mathbf {B} \\mathbf {C} )=(\\mathbf {AB} )\\mathbf {C} $\n",
    "- 분배법칙 <br>\n",
    "    $\\mathbf {A} (\\mathbf {B} +\\mathbf {C} )=\\mathbf {AB} +\\mathbf {AC} \\\\\n",
    "    (\\mathbf {B} +\\mathbf {C} )\\mathbf {A} =\\mathbf {BA} +\\mathbf {CA}$  <br>\n",
    "    $ k(\\mathbf {AB} )=(k\\mathbf {A} )\\mathbf {B} =\\mathbf {A} (k\\mathbf {B} )$\n",
    "- 교환법칙 <br>\n",
    "    $ \\mathbf{A}\\cdot \\mathbf{B} \\not= \\mathbf{B} \\cdot \\mathbf{A}$\n",
    "    \n",
    "앞에서 말했듯이 행렬의 곱은 앞의 행렬의 행과 뒤의 행렬의 열이 대응되는 특성이 있기 때문에  일반 적으로  교환법칙이 성립하지 않습니다.\n",
    "\n",
    "\n",
    "\n",
    "간단한 행렬로 확인해볼 수 있습니다.  \n",
    "\n",
    "\\begin{align}\n",
    "  \\begin{bmatrix} 1 & 2 \\cr 3 & 4  \\end{bmatrix} \n",
    "  \\begin{bmatrix} 0 & 1 \\cr 1 & 0 \\end{bmatrix} \n",
    "  = \\begin{bmatrix} 2 & 1 \\cr 4 & 3 \\end{bmatrix} \\\\\n",
    "    \\begin{bmatrix} 0 & 1 \\cr 1 & 0 \\end{bmatrix} \n",
    "    \\begin{bmatrix} 1 & 2 \\cr 3 & 4  \\end{bmatrix} \n",
    "  = \\begin{bmatrix} 3 & 4 \\cr 1 & 2 \\end{bmatrix} \n",
    "\\end{align}"
   ]
  },
  {
   "cell_type": "markdown",
   "metadata": {},
   "source": [
    "## 6. 행렬의 덧셈과 뺄셈\n",
    "\n",
    "행렬의 덧셈과 뺄셈은 대응하는 원소끼리 즉 같은 위치에 있는 원소끼리 가능합니다. 행렬의 크기가 서로 같은 경우에만 할 수 있습니다.\n",
    "대응하는 원소끼리 계산하고 대응하는 자리에 위치시키면 됩니다.\n",
    "행렬의 덧셈과 뺄셈은 다음과 같습니다."
   ]
  },
  {
   "cell_type": "markdown",
   "metadata": {},
   "source": [
    "\\begin{align}\n",
    "\\left\\lgroup\\matrix{x_{11} & x_{12}\\cr x_{21} & x_{22}}\\right\\rgroup\n",
    "+\n",
    "\\left\\lgroup\\matrix{y_{11} & y_{12}\\cr y_{21} & y_{22}}\\right\\rgroup\n",
    "=\n",
    "\\left\\lgroup\\matrix{x_{11} + y_{11} & x_{12} + y_{12}\\cr x_{21} + y_{21} & x_{22} + y_{22}}\\right\\rgroup\n",
    "\\end{align}"
   ]
  },
  {
   "cell_type": "markdown",
   "metadata": {},
   "source": [
    "\\begin{align}\n",
    "\\left\\lgroup\\matrix{x_{11} & x_{12}\\cr x_{21} & x_{22}}\\right\\rgroup\n",
    "-\n",
    "\\left\\lgroup\\matrix{y_{11} & y_{12}\\cr y_{21} & y_{22}}\\right\\rgroup\n",
    "=\n",
    "\\left\\lgroup\\matrix{x_{11} - y_{11} & x_{12} - y_{12}\\cr x_{21} - y_{21} & x_{22} - y_{22}}\\right\\rgroup\n",
    "\\end{align}\n",
    "\n",
    "행렬의 덧셈과 뺄셈"
   ]
  },
  {
   "cell_type": "markdown",
   "metadata": {},
   "source": [
    "#### 행렬의 상수배\n",
    "\n",
    "행렬의 상수배는 더 어렵지 않습니다. 모든 원소에 상수배를 해주면 됩니다."
   ]
  },
  {
   "cell_type": "markdown",
   "metadata": {},
   "source": [
    "\\begin{align}\n",
    "c\\left\\lgroup\\matrix{x_{11} & x_{12}\\cr x_{21} & x_{22}}\\right\\rgroup =\n",
    "\\left\\lgroup\\matrix{cx_{11} & cx_{12}\\cr cx_{21} & cx_{22}}\\right\\rgroup\n",
    "\\end{align}\n",
    "\n",
    "<center> 행렬의 상수배 <center>"
   ]
  },
  {
   "cell_type": "markdown",
   "metadata": {},
   "source": [
    "## 7. 행렬의 전치$^{transpose}$\n",
    "\n",
    "전치는 행렬 내의 원소를 왼쪽 위에서 오른쪽 아래를 가로지르는 대각선을 기준으로 서로 위치를 바꾼 것입니다.  다른 말로, 행과 열의 인덱스를 바꾸는 것을 전치$^{transpose}$라고 합니다. \n",
    "\n",
    "다음의 동영상 파일을 보면 이해에 도움이 될 것입니다. \n",
    "<img src = \"https://github.com/idebtor/KMOOC-ML/blob/master/ipynb/images/ch1/Matrix_transpose.gif?raw=true\" width = \"200\">\n",
    "<center> 그림 3: 행렬의 전치(출처:https://en.wikipedia.org/wiki/Transpose)  </center>"
   ]
  },
  {
   "cell_type": "markdown",
   "metadata": {},
   "source": [
    "다음과 같이 M x N 행렬 $mathbf{A}^{m\\times n}의 전치행렬 $mathbf{A^T}$는 N x M 행렬이 됩니다. (T는 transpose를 뜻합니다.)\n",
    "\n",
    "\\begin{align}\n",
    "A_{m, n} = \\begin{pmatrix}\\matrix{a_{11} & a_{12} & ... & a_{1j} & ... & a_{1n}\\cr a_{21} & a_{22} & ... & a_{2j} & ... & a_{2n}\\cr \\vdots & \\vdots & \\vdots & \\vdots & \\vdots & \\vdots \\cr a_{i1} & a_{i2} & ... & a_{ij} & ... & a_{in}\\cr \\vdots & \\vdots & \\vdots & \\vdots & \\vdots & \\vdots \\cr a_{m1} & a_{m2} & ... & a_{mj} & ... & a_{mn}}\\end{pmatrix}\\\\ \\\\\n",
    "A^T = \\begin{pmatrix}\\matrix{a_{11} & a_{21} & ... & a_{i1} & ... & a_{m1}\\cr a_{12} & a_{22} & ... & a_{i2} & ... & a_{m2}\\cr \\vdots & \\vdots & \\vdots & \\vdots & \\vdots & \\vdots \\cr a_{1j} & a_{2j} & ... & a_{ij} & ... & a_{mj}\\cr \\vdots & \\vdots & \\vdots & \\vdots & \\vdots & \\vdots \\cr a_{1n} & a_{2n} & ... & a_{in} & ... & a_{nm}}\\end{pmatrix}\n",
    "\\end{align}\n",
    "행렬의 전치"
   ]
  },
  {
   "cell_type": "markdown",
   "metadata": {},
   "source": [
    "\\begin{align}\n",
    "A_{m, n} = \\begin{pmatrix}\\matrix{a_{11} & a_{12} & ... & a_{1j} & ... & a_{1n}\\cr a_{21} & a_{22} & ... & a_{2j} & ... & a_{2n}\\cr \\vdots & \\vdots & \\vdots & \\vdots & \\vdots & \\vdots \\cr a_{i1} & a_{i2} & ... & a_{ij} & ... & a_{in}\\cr \\vdots & \\vdots & \\vdots & \\vdots & \\vdots & \\vdots \\cr a_{m1} & a_{m2} & ... & a_{mj} & ... & a_{mn}}\\end{pmatrix}\\\\ \\\\\n",
    "A^T = \\begin{pmatrix}\\matrix{a_{11} & a_{21} & ... & a_{i1} & ... & a_{m1}\\cr a_{12} & a_{22} & ... & a_{i2} & ... & a_{m2}\\cr \\vdots & \\vdots & \\vdots & \\vdots & \\vdots & \\vdots \\cr a_{1j} & a_{2j} & ... & a_{ij} & ... & a_{mj}\\cr \\vdots & \\vdots & \\vdots & \\vdots & \\vdots & \\vdots \\cr a_{1n} & a_{2n} & ... & a_{in} & ... & a_{nm}}\\end{pmatrix}\n",
    "\\end{align}\n",
    "행렬의 전치"
   ]
  },
  {
   "cell_type": "markdown",
   "metadata": {},
   "source": [
    "\n",
    "\n",
    "아래는 간단한 예입니다.\n",
    "\n",
    "\\begin{align}\n",
    "B = \\begin{pmatrix}\\matrix{1 & 2 & 3\\cr 4 & 5 & 6}\\end{pmatrix} \\qquad\n",
    "B^T = \\begin{pmatrix}\\matrix{1 & 4\\cr 2 & 5\\cr 3 & 6}\\end{pmatrix}\n",
    "\\end{align}\n",
    "\n",
    "<center>전치행렬의 예시</center> \n",
    "\n",
    "간단히 설명하자면 열을 왼쪽에서부터 순서대로 행으로 옮기면 됩니다\n",
    "\n",
    "\n",
    "#### 전치의 특성 \n",
    "$\n",
    "(A^T)^T = A \\\\\n",
    "(AB)^T= B^TA^T \\\\\n",
    "(A + B)^T = A^T + B^T\n",
    "$"
   ]
  },
  {
   "cell_type": "markdown",
   "metadata": {},
   "source": [
    "#### 행/열 벡터의 전치$^{transpose}$\n",
    "\n",
    "행 벡터의 전치 행렬은 열 벡터이며, 열 벡터의 전치 행렬은 행 벡터입니다. \n",
    "\n",
    "\\begin{align} \\begin{bmatrix} x_1 \\ x_2 \\ \\cdots \\ x_m \\end{bmatrix}^T \n",
    "            = \\begin{pmatrix} x_1 \\cr x_2 \\cr \\vdots \\cr x_m \\end{pmatrix}, \\\\\n",
    "            \\begin{pmatrix} x_1 \\cr x_2 \\cr \\vdots \\cr x_m \\end{pmatrix}^T\n",
    "            = \\begin{bmatrix} x_1 \\ x_2 \\ \\cdots \\ x_m \\end{bmatrix} \\end{align}"
   ]
  },
  {
   "cell_type": "markdown",
   "metadata": {},
   "source": [
    "\n",
    "\n"
   ]
  },
  {
   "cell_type": "markdown",
   "metadata": {},
   "source": [
    "## 8. 단위행렬\n",
    "\n",
    "다음으로는 단위행렬에 대해 알아보도록 하겠습니다. 단위행렬이란 주대각선은 모두 1이고 나머지 성분은 모두 0인 행렬로 $I$로 적습니다. 여기서 $I$는 Identity를 의미합니다. 행렬에 단위행렬을 곱하여도 행렬에는 변화가 없습니다. 즉 $A\\cdot I = A$입니다. 따라서 곱셈(내적)의 항등원이 됩니다.\n",
    "\n",
    "\n",
    "\\begin{align}\n",
    "I=\\left\\lgroup\\matrix{1 & 0\\cr 0 & 1}\\right\\rgroup, \\quad\n",
    "\\left\\lgroup\\matrix{1 & 0 & 0\\cr 0 & 1 & 0\\cr 0 & 0 & 1}\\right\\rgroup, \\quad\n",
    "\\left\\lgroup\\matrix{1 & 0 & 0 & 0\\cr 0 & 1 & 0 & 0\\cr 0 & 0 & 1 & 0\\cr 0 & 0 & 0 & 1}\\right\\rgroup\n",
    "...\n",
    "\\end{align}\n",
    "<center>단위행렬<center>"
   ]
  },
  {
   "cell_type": "markdown",
   "metadata": {},
   "source": [
    "-----\n",
    "\n",
    "### 참고자료\n",
    "\n",
    "- [Jupyter Notebook 행렬 표기](http://data-blog.udacity.com/posts/2016/10/latex-primer/)\n",
    "- [Udacity Deep Learning Nanodegree](https://www.udacity.com/course/deep-learning-nanodegree--nd101)"
   ]
  },
  {
   "cell_type": "markdown",
   "metadata": {},
   "source": [
    "## 학습 정리\n",
    "- 행렬의 사용 목적\n",
    "- 행렬에 관한 용어의 이해\n",
    "- 행렬의 사칙 연산\n",
    "- 행렬의 전치, 역행렬, 단위행렬\n",
    "\n",
    "\n",
    "-------------"
   ]
  },
  {
   "cell_type": "code",
   "execution_count": null,
   "metadata": {},
   "outputs": [],
   "source": []
  }
 ],
 "metadata": {
  "kernelspec": {
   "display_name": "Python 3 (ipykernel)",
   "language": "python",
   "name": "python3"
  },
  "language_info": {
   "codemirror_mode": {
    "name": "ipython",
    "version": 3
   },
   "file_extension": ".py",
   "mimetype": "text/x-python",
   "name": "python",
   "nbconvert_exporter": "python",
   "pygments_lexer": "ipython3",
   "version": "3.8.12"
  }
 },
 "nbformat": 4,
 "nbformat_minor": 2
}
