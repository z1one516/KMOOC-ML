{
 "cells": [
  {
   "cell_type": "markdown",
   "metadata": {},
   "source": [
    "너희가 내 안에 거하고 내 말이 너희 안에 거하면 무엇이든지 원하는 대로 구하라 그리하면 이루리라 (요15:7)\n",
    "<center><img src=\"https://github.com/idebtor/KMOOC-ML/blob/master/ipynb/images/MLwithPython.png?raw=true\" width=1000></center>\n",
    "\n",
    "\n",
    "# Week 4-2 Perceptron Algorithm\n",
    "\n",
    "------------------"
   ]
  },
  {
   "cell_type": "markdown",
   "metadata": {},
   "source": [
    "\n",
    "이번 주 강의에서 사용하기 시작하는 plot_xyw()함수는 code/plot_xyw.py, joy.py 라이브러리, 혹은 JoyML04-02Code.ipynb에도 소스코드가 있습니다. 세 가지 방법 중에 하나를 택해서 사용할 수 있습니다. \n",
    "\n",
    "(방법 1) 다음과 같이 상대경로를 입력하여 실행(run)한 후, 함수를 호출할 수 있습니다. 파일 위치가 정확하지 않으면, 절대 경로를 사용하십시오. \n",
    "```\n",
    "%run code/plot_xyw.py\n",
    "\n",
    "plot_xyw(X, y, w, X0 = True, annotate = True)\n",
    "```\n",
    "\n",
    "(방법 2) joy 라이브러리를 import한 후, 함수 앞에 joy를 붙여서 호출할 수 있습니다. joy.py라이브러리는 ipynb 폴더에 있습니다. \n",
    "```\n",
    "import joy \n",
    "\n",
    "joy.plot_xyw(X, y, w, X0 = True, annotate = True)\n",
    "```\n",
    "\n",
    "(방법 3) JoyML04-02Code.ipynb 파일에 있는 소스 코드를 필요한 곳에 복사해서 사용할 수 있습니다. \n"
   ]
  },
  {
   "cell_type": "markdown",
   "metadata": {},
   "source": [
    "코드 셀의 첫줄에 다음과 같은 셀매직 명령어로 셀의 코드를 파일로 저장할 수 있습니다. \n",
    "\n",
    "%%writefile  plot_xyw.py\n",
    "\n",
    "코드 셀의 첫줄에 다음과 같은 명령어로 파일에 저장되어 있는 내용을 셀로 읽어올 수 있습니다. \n",
    "\n",
    "%load code/ploy_xyw.py"
   ]
  },
  {
   "cell_type": "markdown",
   "metadata": {},
   "source": [
    "## 4. 퍼셉트론 예제: 시각화코드"
   ]
  },
  {
   "cell_type": "code",
   "execution_count": 1,
   "metadata": {},
   "outputs": [],
   "source": [
    "#%%writefile code/plot_xyw.py\n",
    "\n",
    "#%load code/plot_xyw.py\n",
    "# Author: Youngsup Kim, idebtor@gmail.com\n",
    "# 2018.03.01 - creation\n",
    "# 2018.04.08 - handles an array of weights W, X0 options\n",
    "# 2018.04.18 - works with plot_decision_region\n",
    "\n",
    "import matplotlib.pyplot as plt\n",
    "import numpy as np\n",
    "\n",
    "def plot_xyw(x, y, W=None, X0=False, title='Perceptron',\n",
    "             classes=['class1', 'class2'], annotate=False, savefig=None):\n",
    "    \"\"\" plots data x and its class label y as well as the the linear decision\n",
    "        boundary and and the value W[-1] or w. \n",
    "\n",
    "        x(m, 2): m training samples with two features, x1 and x2 only.\n",
    "                 Its shape is (m, 2); X0 must be set to False.\n",
    "        x(m, 3): m training samples with two features x0=1, x1, x2\n",
    "                  its shape is (m, 3); X0 must be set to True.\n",
    "        y(m): m number of class labels, each value may be either 1 or -1,\n",
    "              also it may be either 1 or 0\n",
    "\n",
    "        w(3,): only one boundary to display\n",
    "               If you have an array of w's, but want to plot the last one, pass W[-1].\n",
    "        W(epochs, 3): epochs number of decision boundaries or weights\n",
    "              If there is one set of weights, its shape can be either (3, ) or (1, 3)\n",
    "\n",
    "        X0: X has x_0 = 1 term in all samples or not; if True, removed before plotting\n",
    "        annotate: add a sequence number at each sample if True\n",
    "        savefig: save the plot in a file if a filename is given\n",
    "    \"\"\"\n",
    "    if X0 == True:      # remove the first column; change shape(6x3) into shape(6x2)\n",
    "        x = x[ : , 1:]     # check a column?: np.all(X == X[0,:], axis = 0)[0] == True and X[0,0] == 1.0\n",
    "\n",
    "    # setting min max range of data - 10% of margin allowed in four sides\n",
    "    rmin, rmax = np.array(np.min(x)), np.array(np.max(x))\n",
    "    rmin -= (rmax - rmin) * 0.1\n",
    "    rmax += (rmax - rmin) * 0.1\n",
    "\n",
    "    nums = ['  {}'.format(i+1) for i in range(len(y))]    # numbering dots\n",
    "\n",
    "    for num, ix, iy in zip(nums, x, y):\n",
    "        if annotate == True:\n",
    "            plt.annotate(num, xy=ix)\n",
    "\n",
    "    # This handles class 1 and -1, class 1 and 0 as well.\n",
    "    plt.scatter(x[y==1, 0], x[y==1, 1], label=classes[0], marker='s', s=9)\n",
    "    plt.scatter(x[y!=1, 0], x[y!=1, 1], label=classes[1], marker='o', s=9)\n",
    "\n",
    "    if W is not None:\n",
    "        if W.ndim == 1:                             # one boundary in1-d array shape(3,)\n",
    "            x1 = np.arange(rmin, rmax, .1)\n",
    "            x2 = -W[0]/W[2] - W[1]/W[2]*x1\n",
    "            plt.plot(x1, x2)\n",
    "            title += ':w{}'.format(np.round(W, 2))          #display the weights at title\n",
    "        else:\n",
    "            for w in W:                                     # for every decision boundary\n",
    "                x1 = np.arange(rmin, rmax, .1)\n",
    "                x2 = -w[0]/w[2] - w[1]/w[2]*x1\n",
    "                #display all decision boundaries and legend-weights\n",
    "                plt.plot(x1, x2, label='w:{}'.format(np.round(w, 2)))\n",
    "            title += ':w{}'.format(np.round(W[-1], 2))     #display the last weights at title\n",
    "\n",
    "    plt.axhline(0, linewidth=1, linestyle='dotted')\n",
    "    plt.axvline(0, linewidth=1, linestyle='dotted')\n",
    "    plt.xlim([rmin, rmax])\n",
    "    plt.ylim([rmin, rmax])\n",
    "    plt.gca().set_aspect('equal')\n",
    "    plt.title(title)\n",
    "    plt.xlabel('$x_1$', fontsize=16)\n",
    "    plt.ylabel('$x_2$', fontsize=16)\n",
    "    if W is not None and W.ndim != 1:\n",
    "        plt.legend(loc='center left', bbox_to_anchor=(1, 0.5))\n",
    "    else:\n",
    "        plt.legend(loc='best')\n",
    "    plt.tight_layout()\n",
    "    if savefig is not None:\n",
    "        plt.savefig(savefig, bbox_inches='tight', dpi=150)\n"
   ]
  },
  {
   "cell_type": "code",
   "execution_count": 2,
   "metadata": {},
   "outputs": [
    {
     "data": {
      "image/png": "[encoded data removed]",
      "text/plain": [
       "<Figure size 432x288 with 1 Axes>"
      ]
     },
     "metadata": {
      "needs_background": "light"
     },
     "output_type": "display_data"
    }
   ],
   "source": [
    "import matplotlib.pyplot as plt  \n",
    "import numpy as np\n",
    "%matplotlib inline\n",
    "%run code/plot_xyw.py\n",
    "\n",
    "x = np.array([[1.0, 1.0], [2.0, -2.0], [-1.0, -1.5], [-2.0, -1.0], [-2.0, 1.0], [1.5, -0.5]])\n",
    "X = np.c_[np.ones(len(x)), x]\n",
    "y = np.array([1, -1, -1, -1, 1, 1])\n",
    "w = np.array([0.2, 0.5, 1.0])\n",
    "plot_xyw(X, y, w, X0 = True, annotate = True)"
   ]
  }
 ],
 "metadata": {
  "kernelspec": {
   "display_name": "Python 3 (ipykernel)",
   "language": "python",
   "name": "python3"
  },
  "language_info": {
   "codemirror_mode": {
    "name": "ipython",
    "version": 3
   },
   "file_extension": ".py",
   "mimetype": "text/x-python",
   "name": "python",
   "nbconvert_exporter": "python",
   "pygments_lexer": "ipython3",
   "version": "3.8.12"
  }
 },
 "nbformat": 4,
 "nbformat_minor": 2
}
