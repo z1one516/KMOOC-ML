{
 "cells": [
  {
   "cell_type": "markdown",
   "metadata": {},
   "source": [
    "아무 것도 염려하지 말고 다만 모든 일에 기도와 간구로, 너희 구할 것을 감사함으로 하나님께 아뢰라 그리하면 모든 지각에 뛰어난 하나님의 평강이 그리스도 예수 안에서 너희 마음과 생각을 지키시리라\t(빌4:6-7)\n",
    "<center><img src=\"https://github.com/idebtor/KMOOC-ML/blob/master/ipynb/images/MLwithPython.png?raw=true\" width=1000></center>\n",
    "\n",
    "# Week 5-3 Object-Oriented Programming(OOP)\n",
    "\n",
    "-----------------------------------\n",
    "\n",
    "## 1.1 객체: 예제코딩(속성)"
   ]
  },
  {
   "cell_type": "markdown",
   "metadata": {},
   "source": [
    "아래 셀을 실행하면, 제대로 작동하지 않을 것입니다. 왜냐하면 Car라는 클래스가 아직 정의되지 않았기 때문입니다. 객체(Object) 개념을 먼저 설명하기 위하여 이러한 코드가 먼저 소개 되었습니다.  \n",
    "\n",
    "`2. 클래스:설계`제목 아래에 있는 셀들을 먼저 실행한 후, 다음 셀을 실행하십시오. "
   ]
  },
  {
   "cell_type": "code",
   "execution_count": 7,
   "metadata": {},
   "outputs": [
    {
     "name": "stdout",
     "output_type": "stream",
     "text": [
      "4\n",
      "1380\n"
     ]
    }
   ],
   "source": [
    "myCar = Car(4, 1380)\n",
    "print(myCar.length)\n",
    "print(myCar.weight)"
   ]
  },
  {
   "cell_type": "markdown",
   "metadata": {},
   "source": [
    "## 1.2 (기능)"
   ]
  },
  {
   "cell_type": "code",
   "execution_count": 8,
   "metadata": {},
   "outputs": [
    {
     "name": "stdout",
     "output_type": "stream",
     "text": [
      "Move Forward!\n",
      "Move Backward!\n"
     ]
    }
   ],
   "source": [
    "myCar.forward()\n",
    "myCar.backward()"
   ]
  },
  {
   "cell_type": "markdown",
   "metadata": {},
   "source": [
    "## 1.3 (상호작용)\n",
    "\n",
    "다음 셀도 역시 `Person`클래스가 아직 정의되지 않았기 때문에, 다음 셀을 실행하면 오류가 발생합니다. \n",
    "\n",
    "`2. 클래스:설계`제목 아래에 있는 셀들을 먼저 실행한 후, 다음 셀을 실행하십시오. "
   ]
  },
  {
   "cell_type": "code",
   "execution_count": 15,
   "metadata": {},
   "outputs": [
    {
     "name": "stdout",
     "output_type": "stream",
     "text": [
      "Whoom!!\n"
     ]
    }
   ],
   "source": [
    "myCar = Car(4, 1380)\n",
    "owner = Person()\n",
    "owner.start(myCar)"
   ]
  },
  {
   "cell_type": "code",
   "execution_count": 16,
   "metadata": {},
   "outputs": [
    {
     "name": "stdout",
     "output_type": "stream",
     "text": [
      "0\n",
      "10\n"
     ]
    }
   ],
   "source": [
    "owner = Person()\n",
    "print(owner.pos)\n",
    "myCar.move(owner)\n",
    "print(owner.pos)"
   ]
  },
  {
   "cell_type": "markdown",
   "metadata": {},
   "source": [
    "## 1.4 (독립성)"
   ]
  },
  {
   "cell_type": "code",
   "execution_count": 17,
   "metadata": {},
   "outputs": [
    {
     "name": "stdout",
     "output_type": "stream",
     "text": [
      "10\n",
      "0\n"
     ]
    }
   ],
   "source": [
    "myCar = Car(4, 1380)\n",
    "yourCar = Car(4, 1500)\n",
    "\n",
    "myCar.speedUP()\n",
    "print(myCar.speed)\n",
    "print(yourCar.speed)"
   ]
  },
  {
   "cell_type": "markdown",
   "metadata": {},
   "source": [
    "## 2. 클래스: 설계"
   ]
  },
  {
   "cell_type": "code",
   "execution_count": 18,
   "metadata": {},
   "outputs": [],
   "source": [
    "class Car:\n",
    "    def __init__(self, length, weight):\n",
    "        self.length = length\n",
    "        self.weight = weight\n",
    "        self.speed = 0\n",
    "    def forward(self):\n",
    "        print(\"Move Forward!\")\n",
    "    def backward(self):\n",
    "        print(\"Move Backward!\")\n",
    "    def move(self, owner):\n",
    "        owner.pos += 10\n",
    "    def speedUP(self):\n",
    "        self.speed += 10\n",
    "    def change(self, length, weight):\n",
    "        self.length = length\n",
    "        self.weight = weight"
   ]
  },
  {
   "cell_type": "code",
   "execution_count": 19,
   "metadata": {},
   "outputs": [
    {
     "name": "stdout",
     "output_type": "stream",
     "text": [
      "3.5\n",
      "1200\n"
     ]
    }
   ],
   "source": [
    "myCar = Car(4, 1380)\n",
    "myCar.change(3.5, 1200)\n",
    "print(myCar.length)\n",
    "print(myCar.weight)"
   ]
  },
  {
   "cell_type": "code",
   "execution_count": 14,
   "metadata": {},
   "outputs": [],
   "source": [
    "class Person:\n",
    "    def __init__(self):\n",
    "        self.pos = 0\n",
    "    def start(self, Car):\n",
    "        print(\"Whoom!!\")  "
   ]
  },
  {
   "cell_type": "markdown",
   "metadata": {},
   "source": [
    "------------\n",
    "_In the beginning God created the heavens and the earth. Genesis1:1_"
   ]
  }
 ],
 "metadata": {
  "kernelspec": {
   "display_name": "Python 3 (ipykernel)",
   "language": "python",
   "name": "python3"
  },
  "language_info": {
   "codemirror_mode": {
    "name": "ipython",
    "version": 3
   },
   "file_extension": ".py",
   "mimetype": "text/x-python",
   "name": "python",
   "nbconvert_exporter": "python",
   "pygments_lexer": "ipython3",
   "version": "3.8.12"
  }
 },
 "nbformat": 4,
 "nbformat_minor": 2
}
