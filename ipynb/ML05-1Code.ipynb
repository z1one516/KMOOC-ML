{
 "cells": [
  {
   "cell_type": "markdown",
   "metadata": {},
   "source": [
    "### 개발 환경의 폴더 구조와 Joy 모듈"
   ]
  },
  {
   "cell_type": "markdown",
   "metadata": {},
   "source": [
    "__학습 자료 안내:__\n",
    "\n",
    "강의에서 사용한 모든 교안(pdf), 강의 자료 및 코드(ipynb)는 다음 GitHub 에서 모두 다운로드를 받을 수 있습니다.  이 방법을 추천합니다.\n",
    "\n",
    "https://github.com/idebtor/KMOOC-ML\n",
    "\n",
    "\n",
    "__개발 환경의 폴더 구조:__\n",
    "\n",
    "본 강의에서는 학습자가 아나콘다 배포판을 설치하고, 주피터 노트북 환경에서 Python3로 코딩한다고 가정합니다. 강의노트(차시와강의제목.ipynb)와 사용하는 코드는 주피터 노트북 파일(차시Code.ipynb)이나 파이썬 스크립트(.py)로 제공합니다. 주피터 노트북 파일들과 모듈 __joy.py__ 파일은 현재 작업 중에 폴더에 두며, 부수적인 데이터 파일과 코드파일은 __~/data__, 혹은 __~/code__ 폴더에 저장합니다.  예를 들어, 학습자가 바탕화면(Desktop)을 현재 작업 중인 폴더라고 한다면, 개발 폴더 구조는 다음과 같습니다.  (윈도우즈 환경인 것을 가정하고, 본 개발 환경을 설명하였지만 다른 OS환경도 대동소이합니다.)\n",
    "\n",
    "$\\texttt{~/Desktop/JoyML05-1Code.ipynb } \\\\\n",
    " \\texttt{~/Desktop/JoyML05-2Code.ipynb } \\\\\n",
    " \\texttt{~/Desktop/JoyML05-3Code.ipynb } \\\\ \n",
    " \\texttt{~/Desktop/joy.py } \\\\\n",
    " \\texttt{~/Desktop/code/plot_xyw.py }  \\\\\n",
    " \\texttt{~/Desktop/code/plot_decision_regions.py }  \\\\\n",
    " \\texttt{~/Desktop/data/iris.txt } \\\\\n",
    " \\texttt{~/Desktop/data/joydata.txt} \\\\ \n",
    " \\texttt{~/Desktop/data/train-images-idx3-ubyte.gz } \\\\ \n",
    " \\texttt{~/Desktop/data/train-labels-idx1-ubyte.gz } $ \n",
    "\n",
    "__개발 모듈과 자료:__\n",
    "\n",
    "본 강의에서는 파이썬의 기본적인 라이브러리만 사용하는 것을 원칙으로 하고 있고, 그 외에 필요한 소스 코드는 자체 개발한 __joy.py__ 스크립트 파일에 담겨져 있습니다. 그 외에 간혹 실험이나 디버깅에 필요한 파일이 있을 경우 __~/code__ 폴더 아래에 저장하여 사용합니다. \n"
   ]
  },
  {
   "cell_type": "markdown",
   "metadata": {},
   "source": [
    "### !cat data/joydata.txt 에 대하여...\n",
    "\n",
    "주피터노트북 셀에서 `!cat` 명령어가 Linux 혹은 Mac에서는 잘 실행되지만,  Windows환경에서는 작동하지 않을 수 있습니다.  \n",
    "다음과 같은 두 가지 방법 중에 하나를 제안합니다. \n",
    "\n",
    "방법 1: cat 대신 type을 주피터노트북 코드셀에서 시도해 보십시오. \n",
    "\n",
    "` !type data/joydata.txt`\n",
    "\n",
    "방법 2: 파이썬 배포판 중에 하나인 아나콘다에 있는 conda코맨드를 이용해서 Unix/Linux 코맨드 환경을 설치하는 것입니다. 먼저 윈도우의 관리자 모드의 파워쉘(Powershell) 이나 코멘드(cmd)창을 시작하여 다음 코맨드를 실행합니다. (몇 분이 걸립니다) 그러면, cat 명령어를 실행할 수 있습니다. \n",
    "\n",
    "`conda install posix` "
   ]
  },
  {
   "cell_type": "code",
   "execution_count": 1,
   "metadata": {},
   "outputs": [
    {
     "name": "stderr",
     "output_type": "stream",
     "text": [
      "'cat'��(��) ���� �Ǵ� �ܺ� ����, ������ �� �ִ� ���α׷�, �Ǵ�\n",
      "��ġ ������ �ƴմϴ�.\n"
     ]
    }
   ],
   "source": [
    "!cat data/joydata.txt"
   ]
  },
  {
   "cell_type": "markdown",
   "metadata": {},
   "source": [
    "## 3. 학습자료 읽기: 자료구조"
   ]
  },
  {
   "cell_type": "code",
   "execution_count": 2,
   "metadata": {},
   "outputs": [
    {
     "name": "stdout",
     "output_type": "stream",
     "text": [
      "[[-1.72 -3.12  1.  ]\n",
      " [ 0.31  1.85  1.  ]\n",
      " [ 1.56  2.85  1.  ]\n",
      " [ 2.64  2.41  1.  ]\n",
      " [ 1.23  2.54  1.  ]\n",
      " [ 1.33  2.03  1.  ]\n",
      " [ 1.26  2.68  1.  ]\n",
      " [ 2.58  1.79  1.  ]\n",
      " [ 2.4   0.91  1.  ]\n",
      " [ 0.51  2.44  1.  ]\n",
      " [ 2.17  2.64  1.  ]\n",
      " [ 3.38  2.94  1.  ]\n",
      " [ 1.09  3.12  1.  ]\n",
      " [ 0.68  1.43  1.  ]\n",
      " [ 3.76  0.64  1.  ]\n",
      " [ 0.73  2.97  1.  ]\n",
      " [ 0.53  2.94  1.  ]\n",
      " [ 1.49  1.25  1.  ]\n",
      " [ 3.92  3.48  1.  ]\n",
      " [ 3.87  2.91  1.  ]\n",
      " [ 1.14  3.01  1.  ]\n",
      " [ 1.73  2.8   1.  ]\n",
      " [ 2.96  1.84  1.  ]\n",
      " [ 2.61  2.92  1.  ]\n",
      " [ 2.28  0.9   1.  ]\n",
      " [ 1.93  3.71  1.  ]\n",
      " [ 1.26  1.17  1.  ]\n",
      " [ 1.9   1.34  1.  ]\n",
      " [ 3.13  0.92  1.  ]\n",
      " [ 0.85  1.46  1.  ]\n",
      " [ 1.5   3.93  1.  ]\n",
      " [ 2.95  2.09  1.  ]\n",
      " [ 0.76  2.84  1.  ]\n",
      " [ 1.    0.46  1.  ]\n",
      " [ 3.19  2.32  1.  ]\n",
      " [ 2.82  2.32  1.  ]\n",
      " [ 2.86  1.35  1.  ]\n",
      " [ 0.97  2.68  1.  ]\n",
      " [ 1.2   1.31  1.  ]\n",
      " [ 1.54  2.02  1.  ]\n",
      " [ 1.74  0.63  1.  ]\n",
      " [ 1.36 -0.22  1.  ]\n",
      " [ 2.63  0.4   1.  ]\n",
      " [ 0.9   2.05  1.  ]\n",
      " [ 1.26  2.54  1.  ]\n",
      " [ 0.71  2.27  1.  ]\n",
      " [ 1.96  0.83  1.  ]\n",
      " [ 2.52  1.83  1.  ]\n",
      " [ 2.76  2.82  1.  ]\n",
      " [ 3.16  3.34  1.  ]\n",
      " [ 1.1  -1.14  0.  ]\n",
      " [-1.33  0.34  0.  ]\n",
      " [ 0.76 -3.07  0.  ]\n",
      " [-0.37 -1.91  0.  ]\n",
      " [-1.84 -1.11  0.  ]\n",
      " [-1.5   0.24  0.  ]\n",
      " [-0.63 -1.53  0.  ]\n",
      " [-1.08 -1.23  0.  ]\n",
      " [ 0.29 -1.99  0.  ]\n",
      " [-1.26 -2.9   0.  ]\n",
      " [-5.27 -1.78  0.  ]\n",
      " [-0.49 -2.64  0.  ]\n",
      " [ 1.28 -3.64  0.  ]\n",
      " [-1.64 -1.96  0.  ]\n",
      " [ 0.25 -1.26  0.  ]\n",
      " [-1.48 -1.17  0.  ]\n",
      " [-2.94 -3.47  0.  ]\n",
      " [-2.19 -1.48  0.  ]\n",
      " [ 0.52 -0.02  0.  ]\n",
      " [-2.24 -2.12  0.  ]\n",
      " [-3.07 -2.09  0.  ]\n",
      " [-3.99  0.73  0.  ]\n",
      " [-2.41 -2.21  0.  ]\n",
      " [-3.45 -0.62  0.  ]\n",
      " [-3.96 -2.    0.  ]\n",
      " [-2.95 -1.16  0.  ]\n",
      " [-2.42 -3.35  0.  ]\n",
      " [-1.64 -1.11  0.  ]\n",
      " [-1.61 -1.28  0.  ]\n",
      " [-2.59 -2.21  0.  ]\n",
      " [-2.64 -2.2   0.  ]\n",
      " [-2.84 -3.22  0.  ]\n",
      " [-1.45 -2.26  0.  ]\n",
      " [-3.08 -1.05  0.  ]\n",
      " [-2.97 -1.53  0.  ]\n",
      " [-0.68 -1.52  0.  ]\n",
      " [-0.11 -3.43  0.  ]\n",
      " [-1.14 -2.66  0.  ]\n",
      " [-2.92 -2.51  0.  ]\n",
      " [-2.14 -1.52  0.  ]\n",
      " [-3.02 -0.44  0.  ]\n",
      " [-1.05 -3.85  0.  ]\n",
      " [ 0.28 -1.25  0.  ]\n",
      " [-0.05 -1.95  0.  ]\n",
      " [-3.2  -0.22  0.  ]\n",
      " [-2.26  0.01  0.  ]\n",
      " [-1.41 -0.23  0.  ]\n",
      " [-1.2  -0.71  0.  ]\n",
      " [-1.69  0.7   0.  ]\n",
      " [-1.52 -1.14  0.  ]]\n"
     ]
    }
   ],
   "source": [
    "import numpy as np\n",
    "data = np.genfromtxt('data/joydata.txt')\n",
    "print(data)"
   ]
  },
  {
   "cell_type": "markdown",
   "metadata": {},
   "source": [
    "## 4.1 학습 자료 다루기: 자료구조로 읽기 코드"
   ]
  },
  {
   "cell_type": "code",
   "execution_count": 3,
   "metadata": {},
   "outputs": [
    {
     "name": "stdout",
     "output_type": "stream",
     "text": [
      "[[-1.72 -3.12]\n",
      " [ 0.31  1.85]\n",
      " [ 1.56  2.85]\n",
      " [ 2.64  2.41]\n",
      " [ 1.23  2.54]]\n",
      "[1 1 1 1 1]\n"
     ]
    }
   ],
   "source": [
    "data = np.genfromtxt('data/joydata.txt')\n",
    "x, y = data[:, :2], data[:, 2]\n",
    "y = y.astype(int)\n",
    "print(x[:5])\n",
    "print(y[:5])"
   ]
  },
  {
   "cell_type": "markdown",
   "metadata": {},
   "source": [
    "## 4.2 시각화 코드"
   ]
  },
  {
   "cell_type": "code",
   "execution_count": 15,
   "metadata": {},
   "outputs": [
    {
     "data": {
      "image/png": "[encoded data removed]",
      "text/plain": [
       "<Figure size 432x288 with 1 Axes>"
      ]
     },
     "metadata": {},
     "output_type": "display_data"
    }
   ],
   "source": [
    "import numpy as np\n",
    "import matplotlib.pyplot as plt\n",
    "%matplotlib inline\n",
    "\n",
    "data = np.genfromtxt('data/joydata.txt')\n",
    "x, y = data[:, :2], data[:, 2]\n",
    "y = y.astype(int)\n",
    "\n",
    "plt.scatter(x[y == 1, 0], x[y == 1, 1], label = 'class 1', marker = 's')\n",
    "plt.scatter(x[y == 0, 0], x[y == 0, 1], label = 'class 2', marker = 'o')\n",
    "plt.xlabel('$x_1$', fontsize = 18)\n",
    "plt.ylabel('$x_2$', fontsize = 18)\n",
    "plt.legend()\n",
    "plt.show()"
   ]
  }
 ],
 "metadata": {
  "kernelspec": {
   "display_name": "Python 3 (ipykernel)",
   "language": "python",
   "name": "python3"
  },
  "language_info": {
   "codemirror_mode": {
    "name": "ipython",
    "version": 3
   },
   "file_extension": ".py",
   "mimetype": "text/x-python",
   "name": "python",
   "nbconvert_exporter": "python",
   "pygments_lexer": "ipython3",
   "version": "3.12.0"
  }
 },
 "nbformat": 4,
 "nbformat_minor": 2
}
