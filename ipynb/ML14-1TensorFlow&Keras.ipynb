{
 "cells": [
  {
   "cell_type": "markdown",
   "metadata": {},
   "source": [
    "항상 기뻐하라 쉬지 말고 기도하라 범사에 감사하라 이것이 그리스도 예수 안에서 너희를 향하신 하나님의 뜻이니라 성령을 소멸하지 말며 예언을 멸시하지 말고 범사에 헤아려 좋은 것을 취하고 악은 어떤 모양이라도 버리라\t(살전5:16-22) \n",
    "<center><img src=\"https://github.com/idebtor/KMOOC-ML/blob/master/ipynb/images/MLwithPython.png?raw=true\" width=1000></center>\n",
    "\n",
    "__NOTE:__ The following materials have been compiled and adapted from the numerous sources including my own. Please help me to keep this tutorial up-to-date by reporting any issues or questions. Send any comments or criticisms to `idebtor@gmail.com` Your assistances and comments will be appreciated.\n"
   ]
  },
  {
   "cell_type": "markdown",
   "metadata": {},
   "source": [
    "# 제 14-1 강: ML Open Framework: Tensorflow & Keras\n",
    "\n",
    "## 학습목표\n",
    "\n",
    "- 신경망 구현을 위한 오픈 프레임워크\n",
    "- Tensorflow 란?\n",
    "- Tensorflow 환경 구축\n",
    "- Keras 란?\n",
    "- Keras 환경 구축\n",
    "- Keras 를 이용한 MNIST 데이터 분석"
   ]
  },
  {
   "cell_type": "markdown",
   "metadata": {},
   "source": [
    "## 1. 신경망 구현을 오픈 프레임워크"
   ]
  },
  {
   "cell_type": "markdown",
   "metadata": {},
   "source": [
    "지금까지 우리는 인공신경망이 어떤 원리로 동작하는지에 대해 살펴보았고, 각 단계마다 직접 그것을 구현했습니다. 지난 강의에서는 MNIST 데이터셋에 적용을 해보았습니다. 혹시 여러분이 코딩하는데 어려움이 있었을지도 모르겠습니다. 인공 신경망의 은닉층이 많아지거나, 데이터의 특성에 따라 신경망에 새로운 구조를 추가시켜야 할 경우도 있습니다. 이러할 때마다 우리가 앞서 구현했던 NeuralNetwork 클래스에 새로운 기능을 추가하기에는 많은 시간과 노력이 따를 것입니다.\n",
    "\n",
    "다행히도, 우리는 신경망을 사용할때마다 이와같이 부가적인 코딩을 하지 않아도 됩니다. 이러한 목적으로 개발된 패키지가 많이 있으며, 그 중 유명한 몇가지를 소개한다면 다음과 같습니다:\n",
    "\n",
    "- [Tensorflow](https://www.tensorflow.org/)\n",
    "- [Keras](https://keras.io/)\n",
    "- [Pytorch](https://pytorch.org/)\n",
    "- [Caffe](http://caffe.berkeleyvision.org/)\n",
    "- [Theano](http://deeplearning.net/software/theano/)\n",
    "- [Scikit-learn](http://scikit-learn.org/)\n",
    "\n",
    "이번 강의에서는 Tensorflow 를 소개하겠습니다. Tensorflow 를 사용한다면 간단하게 신경망을 구성할 수 있습니다. 데이터를 읽어드린 다음, 신경망을 구성하고 학습시켜 결과를 예측하는 것을 보여드리겠습니다. "
   ]
  },
  {
   "cell_type": "markdown",
   "metadata": {},
   "source": [
    "## 2. Tensorflow 란?"
   ]
  },
  {
   "cell_type": "markdown",
   "metadata": {},
   "source": [
    "<center><img src=\"https://github.com/idebtor/KMOOC-ML/blob/master/ipynb/images/ch13/tensorflow.png?raw=true\" width=\"500\">\n",
    "<center>그림 1: Tensorflow [출처](https://tensorflow.org/)</center>"
   ]
  },
  {
   "cell_type": "markdown",
   "metadata": {},
   "source": [
    "Tensorflow는 구글이 오픈 소스로 개발하여, 이 분야의 주류가 되어가고 있습니다. 핵심 기술은 C++로 작성되었지만,  프론트 엔드 부분은 파이썬으로 작성되어서, 파이썬으로 쉽게 접근이 가능합니다. \n",
    "Tensorflow를 이용해서 이미지, 음성, 비디오 등 다양하고 많은 자료를 기계학습 할 수 있으며, GPU(Graphics Processing Unit)와 같은 하드웨어를 사용합니다. <br>\n",
    "\n",
    "참고로, 수학에서 0차원의 수를 스칼라$^{scalar}$, 1차원 배열을 벡터$^{vector}$, 2차원 배열을 행렬$^{matrix}$라고 부릅니다.  이와 같이 스칼라, 벡터와 행렬을 일반화한 것을 텐서$^{tensor}$라고 합니다. \n",
    "TensorBoard 라는 훌륭한 시각화 툴을 제공하고 있어 학습 과정을 모니터링 할 수 있습니다."
   ]
  },
  {
   "cell_type": "markdown",
   "metadata": {},
   "source": [
    "## 3. Tensorflow 환경 구축"
   ]
  },
  {
   "cell_type": "markdown",
   "metadata": {},
   "source": [
    "Tensorflow 를 사용하기 위해서는 Python 3.6 이상 버전이 설치되어야 합니다. 하지만, 우리는 Python이 포함된 아나콘다를 이용해서 Tensorflow를 설치할 것이기 때문에, Python을 따로 설치하지는 않아도 됩니다."
   ]
  },
  {
   "cell_type": "markdown",
   "metadata": {},
   "source": [
    "### 3.1 Anaconda 설치\n",
    "\n",
    "Anaconda3 를 설치하세요. 다음 링크를 통해 설치하시면 됩니다: [링크](https://www.continuum.io/downloads)"
   ]
  },
  {
   "cell_type": "markdown",
   "metadata": {},
   "source": [
    "### 3.2 Tensorflow 설치"
   ]
  },
  {
   "cell_type": "markdown",
   "metadata": {},
   "source": [
    "#### OS X or Linux\n",
    "\n",
    "아래의 명령어를 사용해서 Tensorflow 를 설치하세요.\n",
    "\n",
    "```\n",
    "conda create -n tensorflow python=3.6\n",
    "source activate tensorflow\n",
    "conda install pandas matplotlib jupyter notebook scipy scikit-learn\n",
    "pip install tensorflow\n",
    "```\n",
    "\n",
    "#### Windows\n",
    "\n",
    "cmd 혹은 Anaconda 쉘에서 아래의 명령어를 사용해서 Tensorflow 를 설치하세요.\n",
    "\n",
    "```\n",
    "conda create -n tensorflow python=3.6\n",
    "activate tensorflow\n",
    "conda install pandas matplotlib jupyter notebook scipy scikit-learn\n",
    "pip install tensorflow\n",
    "```\n",
    "\n",
    "Tensorflow 가 정상적으로 설치되었는지 확인하기 위해 아래의 코드를 실행해보세요. tensorflow 라이브러리를 import 할 때에 문제가 생기지 않는다면, 정상적으로 설치된 것입니다."
   ]
  },
  {
   "cell_type": "code",
   "execution_count": 1,
   "metadata": {
    "scrolled": true
   },
   "outputs": [],
   "source": [
    "import tensorflow as tf"
   ]
  },
  {
   "cell_type": "markdown",
   "metadata": {},
   "source": [
    "위에서 설치중에 어려움이 있다면, 아래 링크를 참고하도록 합니다.\n",
    "\n",
    "- [Anaconda 설치](https://www.continuum.io/downloads)\n",
    "- [tensorflow 설치](https://www.tensorflow.org/install/)"
   ]
  },
  {
   "cell_type": "markdown",
   "metadata": {},
   "source": [
    "## 4. Keras 란?\n",
    "<center><img src=\"https://github.com/idebtor/KMOOC-ML/blob/master/ipynb/images/ch13/keras.PNG?raw=true\" width=\"500\">\n",
    "<center>그림 2: Keras [출처](https://keras.io/)</center>\n",
    "\n",
    "Keras 는 Python 기반으로 쓰여졌으며 TensorFlow 혹은 CNTK, Theano 위에서 실행되는 신경망 API입니다. 문법을 간단하게 그리고 직관적으로 만들어 쉽게 구현할 수 있도록 만들어졌습니다. Keras 를 사용해서 Convolutional Neural Network 와 Recurrent Neural Network 도 구현할 수 있으며 두가지 딥러닝 모델을 섞어서 구현하는 것도 가능합니다. 또한 하나의 코드로 CPU 와 GPU 에서 모두 동작합니다."
   ]
  },
  {
   "cell_type": "markdown",
   "metadata": {},
   "source": [
    "## 5. Keras 환경 구축\n",
    "\n",
    "앞에서 Tensorflow를 설치했다면, Keras를 사용할 수 있습니다. 다음과 같이 keras를 사용할 수 있습니다.\n",
    "\n",
    "```python\n",
    "import tensorflow.keras as keras\n",
    "```"
   ]
  },
  {
   "cell_type": "markdown",
   "metadata": {},
   "source": [
    "## 6. Keras 를 이용한 MNIST 데이터 분석\n",
    "이제 Keras를 사용할 환경이 구축되었습니다. Keras를 이용해서 MNIST 데이터를 분석해보도록 합시다."
   ]
  },
  {
   "cell_type": "markdown",
   "metadata": {},
   "source": [
    "### 6.1 MNIST 데이터 읽어오기\n",
    "\n",
    "Keras 에는 datasets 라는 모듈이 있으며, 사람들이 많이 사용하는 데이터를 쉽게 사용할 수 있도록 만들어져 있습니다. MNIST 데이터를 읽어오기 위해서 아래와 같이 두 줄이면 충분합니다. keras.datasets 에 있는 mnist 클래스에서 load_data 메소드를 호출하면 MNIST 데이터를 임의로 섞어서 학습시킬 때 사용할 데이터와 테스트할 때 사용할 데이터로 나눠줍니다."
   ]
  },
  {
   "cell_type": "code",
   "execution_count": 1,
   "metadata": {},
   "outputs": [],
   "source": [
    "from tensorflow.keras.datasets import mnist\n",
    "\n",
    "(X_train, y_train), (X_test, y_test) = mnist.load_data()"
   ]
  },
  {
   "cell_type": "markdown",
   "metadata": {},
   "source": [
    "나뉘어진 데이터 세트의 형상은 아래와 같습니다. 학습할 데이터에는 60,000개의 입력값이, 테스트할 `X` 데이터에는 10,000개의 입력값이 저장되어있는 것을 볼 수 있습니다. 각각의 입력값은 28 x 28 의 크기로 0 ~ 255 범위에 있는 숫자가 저장됩니다. `y` 에는 해당 입력값의 실제 숫자 0 ~ 9가 저장됩니다. "
   ]
  },
  {
   "cell_type": "code",
   "execution_count": 2,
   "metadata": {},
   "outputs": [
    {
     "name": "stdout",
     "output_type": "stream",
     "text": [
      "X_train.shape: (60000, 28, 28)\n",
      "y_train.shape: (60000,)\n",
      "X_test.shape: (10000, 28, 28)\n",
      "y_test.shape:(10000,)\n",
      "\n",
      "X_train: minimum value=0, maximum value=255\n",
      "X_test: minimum value=0, maximum value=255\n",
      "y_train: minimum value=0, maximum value=9\n",
      "y_test: minimum value=0, maximum value=9\n"
     ]
    }
   ],
   "source": [
    "print(\"X_train.shape: {}\\ny_train.shape: {}\\nX_test.shape: {}\\ny_test.shape:{}\\n\".\n",
    "      format(X_train.shape, y_train.shape, X_test.shape, y_test.shape))\n",
    "print(\"X_train: minimum value={}, maximum value={}\".format(X_train.min(), X_train.max()))\n",
    "print(\"X_test: minimum value={}, maximum value={}\".format(X_test.min(), X_test.max()))\n",
    "print(\"y_train: minimum value={}, maximum value={}\".format(y_train.min(), y_train.max()))\n",
    "print(\"y_test: minimum value={}, maximum value={}\".format(y_test.min(), y_test.max()))"
   ]
  },
  {
   "cell_type": "markdown",
   "metadata": {},
   "source": [
    "### 6.2 모든 feature의 값을 0 ~ 1 사이로"
   ]
  },
  {
   "cell_type": "markdown",
   "metadata": {},
   "source": [
    "기계학습을 하게되면 일반적으로 모든 feature를 0 에서 1 사이의 값으로 맞추어서 모델을 학습하곤 합니다. 여러 이유가 있겠지만, (1) 각 입력값의 특정 feature 가 큰 범위로 변할 경우 다른 feature의 영향력이 모델링 하는 단계에서 무시될 수 있기도 하며 (2) 비용함수를 계산하는 과정에서 값이 너무 크게되는 경우도 발생합니다.\n",
    "\n",
    "MNIST 데이터는 각 feature들이 왼쪽 위에서부터 오른쪽 아래까지의 pixel 값들이기 때문에, 모든 feature들의 최소값은 0이고 최대값은 255 입니다. 따라서 모든 feature들의 값을 255로 나눠주겠습니다."
   ]
  },
  {
   "cell_type": "code",
   "execution_count": 3,
   "metadata": {},
   "outputs": [],
   "source": [
    "X_train = X_train.astype('float32')/255\n",
    "X_test = X_test.astype('float32')/255"
   ]
  },
  {
   "cell_type": "markdown",
   "metadata": {},
   "source": [
    "그 다음 정수로 저장된 `y` 값을 one-hot 으로 바꿔주겠습니다. `keras.utils` 에 있는 `np_utils` 메소드를 사용해서 쉽게 해결할 수 있습니다. 아래의 간단한 예제는 정수로 저장되어있는 `one_to_ten` 넘파이 어레이를 one-hot 으로 바꿔줍니다."
   ]
  },
  {
   "cell_type": "code",
   "execution_count": 4,
   "metadata": {},
   "outputs": [
    {
     "name": "stdout",
     "output_type": "stream",
     "text": [
      "[[1. 0. 0. 0. 0. 0. 0. 0. 0. 0.]\n",
      " [0. 1. 0. 0. 0. 0. 0. 0. 0. 0.]\n",
      " [0. 0. 1. 0. 0. 0. 0. 0. 0. 0.]\n",
      " [0. 0. 0. 1. 0. 0. 0. 0. 0. 0.]\n",
      " [0. 0. 0. 0. 1. 0. 0. 0. 0. 0.]\n",
      " [0. 0. 0. 0. 0. 1. 0. 0. 0. 0.]\n",
      " [0. 0. 0. 0. 0. 0. 1. 0. 0. 0.]\n",
      " [0. 0. 0. 0. 0. 0. 0. 1. 0. 0.]\n",
      " [0. 0. 0. 0. 0. 0. 0. 0. 1. 0.]\n",
      " [0. 0. 0. 0. 0. 0. 0. 0. 0. 1.]]\n"
     ]
    }
   ],
   "source": [
    "from tensorflow.keras import utils\n",
    "import numpy as np\n",
    "\n",
    "one_to_ten = np.array([0,1,2,3,4,5,6,7,8,9])\n",
    "one_to_ten = utils.to_categorical(one_to_ten, 10)\n",
    "print(one_to_ten)"
   ]
  },
  {
   "cell_type": "markdown",
   "metadata": {},
   "source": [
    "### 6.3 one-hot 인코딩\n",
    "이제 `y_train` 과 `y_test` 를 one-hot 인코딩 하겠습니다. `y_train` 의 처음 5개 레이블을 `[5 0 4 1 9]` 입니다. one-hot 인코딩이 정말 간단하죠?"
   ]
  },
  {
   "cell_type": "code",
   "execution_count": 5,
   "metadata": {},
   "outputs": [
    {
     "name": "stdout",
     "output_type": "stream",
     "text": [
      "previous five labels in y_train: [5 0 4 1 9]\n",
      "One-hot encoded labels of y_train: \n",
      "[[0. 0. 0. 0. 0. 1. 0. 0. 0. 0.]\n",
      " [1. 0. 0. 0. 0. 0. 0. 0. 0. 0.]\n",
      " [0. 0. 0. 0. 1. 0. 0. 0. 0. 0.]\n",
      " [0. 1. 0. 0. 0. 0. 0. 0. 0. 0.]\n",
      " [0. 0. 0. 0. 0. 0. 0. 0. 0. 1.]]\n"
     ]
    }
   ],
   "source": [
    "print(\"previous five labels in y_train: {}\".format(y_train[:5]))\n",
    "\n",
    "y_train = utils.to_categorical(y_train, 10)\n",
    "y_test = utils.to_categorical(y_test, 10)\n",
    "\n",
    "print('One-hot encoded labels of y_train: \\n{}'.format(y_train[:5]))"
   ]
  },
  {
   "cell_type": "markdown",
   "metadata": {},
   "source": [
    "### 6.4 신경망 구축"
   ]
  },
  {
   "cell_type": "markdown",
   "metadata": {},
   "source": [
    "이제 신경망을 구축합니다. 가장 간단한 종류의 신경망힌 `Sequential` 을 구축하겠습니다. `Sequential` 은 우리가 지금까지 배운 내용과 같이 단계적으로 층을 쌓아가는 것입니다. `Sequential()` 로 모델을 정의해주고, 층을 더할 때는 `add` 메소드를 사용하면 됩니다. 처음 입력값의 feature들이 몇개가 되는지 `model.add(Flatten(input_shape=X_train.shape[1:]))` 를 통해 알려주며, `Dense` 층 즉, 완전이 연결된 신경망을 더해줍니다. 1개의 은닉층에 총 512개의 뉴런을 사용하고 활성화함수로트 `relu` 를 사용하겠습니다.\n",
    "\n",
    "Dropout 은 처음 보는 개념일 수도 있는데, 간단히 설명하자면 특정 연결망이 너무 강해지는것을 방지하기 위한 용도입니다. 매번 학습을 시킬 때마다 임의로 20% 정도씩의 신경망을 학습하지 않도록 하겠습니다.\n",
    "\n",
    "마지막 층은 10개의 뉴런을 사용하며, 각각의 뉴런은 0부터 9까지의 숫자를 예측하는 역할을 합니다. 활성화함수로 `softmax` 를 사용하여서, 특정 입력값이 들어왔을 때, 마지막 층의 뉴런이 출력해내는 값의 합이 1이 되게끔 합니다. 즉, 해당 입력값에 대해 그것이 0일 확률 부터 9일 확률까지를 보여주는 것으로 해석할 수도 있습니다.\n",
    "\n",
    "`model.summary()` 를 해주면, 우리가 구축한 모델을 요약해서 보여줍니다."
   ]
  },
  {
   "cell_type": "code",
   "execution_count": 6,
   "metadata": {},
   "outputs": [
    {
     "name": "stdout",
     "output_type": "stream",
     "text": [
      "Model: \"sequential\"\n",
      "_________________________________________________________________\n",
      "Layer (type)                 Output Shape              Param #   \n",
      "=================================================================\n",
      "flatten (Flatten)            (None, 784)               0         \n",
      "_________________________________________________________________\n",
      "dense (Dense)                (None, 512)               401920    \n",
      "_________________________________________________________________\n",
      "dropout (Dropout)            (None, 512)               0         \n",
      "_________________________________________________________________\n",
      "dense_1 (Dense)              (None, 10)                5130      \n",
      "=================================================================\n",
      "Total params: 407,050\n",
      "Trainable params: 407,050\n",
      "Non-trainable params: 0\n",
      "_________________________________________________________________\n"
     ]
    }
   ],
   "source": [
    "from tensorflow.keras.models import Sequential\n",
    "from tensorflow.keras.layers import Dense, Dropout, Flatten\n",
    "\n",
    "# define the model\n",
    "model = Sequential()\n",
    "model.add(Flatten(input_shape=X_train.shape[1:]))\n",
    "model.add(Dense(512, activation='relu'))\n",
    "model.add(Dropout(0.2))\n",
    "model.add(Dense(10, activation='softmax'))\n",
    "\n",
    "# summarize the model\n",
    "model.summary()"
   ]
  },
  {
   "cell_type": "markdown",
   "metadata": {},
   "source": [
    "### 6.5 컴파일\n",
    "자, 이제 신경망을 구축했으니 모델을 컴파일하면 되겠군요. 이 단계에서는 어떤 비용함수를 쓸 것인지 (loss), 어떠한 최적화기를 사용할 것인지 (optimizer), 무엇을 기준으로 학습 할 것인지 (metrics) 를 설정해줍니다. 아래의 조합은 분류를 할 때에 일반적으로 사용합니다."
   ]
  },
  {
   "cell_type": "code",
   "execution_count": 7,
   "metadata": {},
   "outputs": [],
   "source": [
    "model.compile(loss='categorical_crossentropy', optimizer='rmsprop', \n",
    "              metrics=['accuracy'])"
   ]
  },
  {
   "cell_type": "markdown",
   "metadata": {},
   "source": [
    "### 6.6 모델 학습\n",
    "이제 모델을 학습시키는 단계입니다. `keras.callbacks` 에 있는 `ModelCheckpoint` 메소드를 사용하면 학습 결과가 좋아질 때 마다 그때의 가중치를 지정한 `filepath` 에 저장할 수 있습니다.\n",
    "\n",
    "`fit` 메소드를 사용하면 학습을 시작합니다. training 데이터를 학습할 때 사용 할 데이터와 검증 집합 (validation set) 으로 나누어서 각 `epoch` 마다 검증 집합의 loss 가 증가한다면 학습이 되고있다고 볼 수 있습니다. 그리고 각 `epoch` 마다 한번에 몇 묶음의 입력값을 사용하여 동시에 가중치를 변화시킬 것인지에 해당하는 `batch_size` 를 지정할 수 있습니다."
   ]
  },
  {
   "cell_type": "code",
   "execution_count": 8,
   "metadata": {},
   "outputs": [
    {
     "name": "stdout",
     "output_type": "stream",
     "text": [
      "Epoch 1/10\n",
      "366/375 [============================>.] - ETA: 0s - loss: 0.3048 - accuracy: 0.9112\n",
      "Epoch 00001: val_loss improved from inf to 0.14713, saving model to mnist.model.best.hdf5\n",
      "375/375 [==============================] - 1s 4ms/step - loss: 0.3021 - accuracy: 0.9118 - val_loss: 0.1471 - val_accuracy: 0.9578\n",
      "Epoch 2/10\n",
      "368/375 [============================>.] - ETA: 0s - loss: 0.1308 - accuracy: 0.9612\n",
      "Epoch 00002: val_loss improved from 0.14713 to 0.11874, saving model to mnist.model.best.hdf5\n",
      "375/375 [==============================] - 1s 4ms/step - loss: 0.1307 - accuracy: 0.9612 - val_loss: 0.1187 - val_accuracy: 0.9657\n",
      "Epoch 3/10\n",
      "367/375 [============================>.] - ETA: 0s - loss: 0.0916 - accuracy: 0.9731\n",
      "Epoch 00003: val_loss improved from 0.11874 to 0.09294, saving model to mnist.model.best.hdf5\n",
      "375/375 [==============================] - 1s 4ms/step - loss: 0.0915 - accuracy: 0.9732 - val_loss: 0.0929 - val_accuracy: 0.9728\n",
      "Epoch 4/10\n",
      "370/375 [============================>.] - ETA: 0s - loss: 0.0702 - accuracy: 0.9792\n",
      "Epoch 00004: val_loss improved from 0.09294 to 0.08008, saving model to mnist.model.best.hdf5\n",
      "375/375 [==============================] - 1s 4ms/step - loss: 0.0701 - accuracy: 0.9793 - val_loss: 0.0801 - val_accuracy: 0.9757\n",
      "Epoch 5/10\n",
      "370/375 [============================>.] - ETA: 0s - loss: 0.0548 - accuracy: 0.9834\n",
      "Epoch 00005: val_loss improved from 0.08008 to 0.07998, saving model to mnist.model.best.hdf5\n",
      "375/375 [==============================] - 1s 4ms/step - loss: 0.0548 - accuracy: 0.9835 - val_loss: 0.0800 - val_accuracy: 0.9772\n",
      "Epoch 6/10\n",
      "362/375 [===========================>..] - ETA: 0s - loss: 0.0452 - accuracy: 0.9866\n",
      "Epoch 00006: val_loss did not improve from 0.07998\n",
      "375/375 [==============================] - 1s 4ms/step - loss: 0.0450 - accuracy: 0.9865 - val_loss: 0.0801 - val_accuracy: 0.9782\n",
      "Epoch 7/10\n",
      "369/375 [============================>.] - ETA: 0s - loss: 0.0388 - accuracy: 0.9884\n",
      "Epoch 00007: val_loss improved from 0.07998 to 0.07758, saving model to mnist.model.best.hdf5\n",
      "375/375 [==============================] - 1s 4ms/step - loss: 0.0388 - accuracy: 0.9884 - val_loss: 0.0776 - val_accuracy: 0.9792\n",
      "Epoch 8/10\n",
      "368/375 [============================>.] - ETA: 0s - loss: 0.0314 - accuracy: 0.9903\n",
      "Epoch 00008: val_loss did not improve from 0.07758\n",
      "375/375 [==============================] - 1s 4ms/step - loss: 0.0313 - accuracy: 0.9904 - val_loss: 0.0815 - val_accuracy: 0.9782\n",
      "Epoch 9/10\n",
      "362/375 [===========================>..] - ETA: 0s - loss: 0.0268 - accuracy: 0.9916\n",
      "Epoch 00009: val_loss improved from 0.07758 to 0.07620, saving model to mnist.model.best.hdf5\n",
      "375/375 [==============================] - 2s 4ms/step - loss: 0.0272 - accuracy: 0.9915 - val_loss: 0.0762 - val_accuracy: 0.9801\n",
      "Epoch 10/10\n",
      "370/375 [============================>.] - ETA: 0s - loss: 0.0238 - accuracy: 0.9921\n",
      "Epoch 00010: val_loss did not improve from 0.07620\n",
      "375/375 [==============================] - 2s 4ms/step - loss: 0.0238 - accuracy: 0.9921 - val_loss: 0.0827 - val_accuracy: 0.9784\n"
     ]
    },
    {
     "data": {
      "text/plain": [
       "<tensorflow.python.keras.callbacks.History at 0x17b00521d30>"
      ]
     },
     "execution_count": 8,
     "metadata": {},
     "output_type": "execute_result"
    }
   ],
   "source": [
    "from tensorflow.keras.callbacks import ModelCheckpoint   \n",
    "\n",
    "# train the model\n",
    "checkpointer = ModelCheckpoint(filepath='mnist.model.best.hdf5', \n",
    "                               verbose=1, save_best_only=True)\n",
    "model.fit(X_train, y_train, batch_size=128, epochs=10,\n",
    "          validation_split=0.2, callbacks=[checkpointer],\n",
    "          verbose=1, shuffle=True)"
   ]
  },
  {
   "cell_type": "markdown",
   "metadata": {},
   "source": [
    "### 6.7 분류 정확도 측정\n",
    "검증 집합에서 최고의 성능을 보여주는 모델의 가중치가 `mnist.model.best.hdf5` 에 저장되어 있습니다. 이 가중치를 불러온 후에, 테스트 세트를 예측해봅니다.\n",
    "\n",
    "`evaluate` 메소드를 사용해서, 테스트 세트에 있는 입력값들의 레이블을 예측합니다. `evaluate` 메소드는 두 가지 인자를 반환하는데, `loss` 값과 `metric` 에 지정한 값입니다. `loss` 는 학습시킬 때 사용한 것이고, `metric` 은 우리가 앞서 지정한 정확도를 의미합니다. \n",
    "\n",
    "코드를 실행할 때마다 accuracy 는 차이가 있겠지만 위와 같은 인자들로 신경망을 학습시켰을 때에 98% 전후의 정확도를 보여줍니다. 즉, 0에서 9까지 적혀있는 28 x 28 사이즈의 입력값이 들어왔을 때에, 98% 정확도로 어떤 숫자인지 알아내는 신경망을 학습시킨 것입니다."
   ]
  },
  {
   "cell_type": "code",
   "execution_count": 9,
   "metadata": {},
   "outputs": [
    {
     "name": "stdout",
     "output_type": "stream",
     "text": [
      "Test accuracy: 98.19999933242798%\n"
     ]
    }
   ],
   "source": [
    "model.load_weights('mnist.model.best.hdf5')\n",
    "\n",
    "loss_and_metrics = model.evaluate(X_test, y_test, verbose=0)\n",
    "accuracy = 100 * loss_and_metrics[1]\n",
    "\n",
    "print(\"Test accuracy: {}%\".format(accuracy))"
   ]
  },
  {
   "cell_type": "markdown",
   "metadata": {},
   "source": [
    "## 7. Keras를 이용한 CNN 구현"
   ]
  },
  {
   "cell_type": "code",
   "execution_count": 10,
   "metadata": {},
   "outputs": [],
   "source": [
    "X_train = X_train.reshape(X_train.shape[0], 28, 28, 1)\n",
    "X_test = X_test.reshape(X_test.shape[0], 28, 28, 1)"
   ]
  },
  {
   "cell_type": "markdown",
   "metadata": {},
   "source": [
    "CNN을 이용하여 MNIST를 학습하기 위해서는 일반적인 Dense 층을 사용하는 것이 아닌,\n",
    "Convolutional Layer를 나타내는 Conv2D를 이용해야 합니다. \n",
    "코드에서는 Convolutional Layer에서 2 x 2 필터 16개를 사용한다는 뜻입니다. 그 다음으로는 Convolutional Layer의 dimensionality를 줄여주기 위해 MaxPooling을 진행하는 코드입니다. 이제 이 CNN을 모델을 학습시키고, MNIST 데이터를 분류하도록 테스트해봅시다. 테스트까지의 과정은 이미 앞에서 설명드렸으므로, 간단하게 넘어가겠습니다. "
   ]
  },
  {
   "cell_type": "code",
   "execution_count": 12,
   "metadata": {},
   "outputs": [
    {
     "name": "stdout",
     "output_type": "stream",
     "text": [
      "Model: \"sequential_2\"\n",
      "_________________________________________________________________\n",
      "Layer (type)                 Output Shape              Param #   \n",
      "=================================================================\n",
      "conv2d_3 (Conv2D)            (None, 27, 27, 16)        80        \n",
      "_________________________________________________________________\n",
      "dropout_4 (Dropout)          (None, 27, 27, 16)        0         \n",
      "_________________________________________________________________\n",
      "max_pooling2d_3 (MaxPooling2 (None, 13, 13, 16)        0         \n",
      "_________________________________________________________________\n",
      "conv2d_4 (Conv2D)            (None, 12, 12, 32)        2080      \n",
      "_________________________________________________________________\n",
      "dropout_5 (Dropout)          (None, 12, 12, 32)        0         \n",
      "_________________________________________________________________\n",
      "max_pooling2d_4 (MaxPooling2 (None, 6, 6, 32)          0         \n",
      "_________________________________________________________________\n",
      "conv2d_5 (Conv2D)            (None, 5, 5, 64)          8256      \n",
      "_________________________________________________________________\n",
      "dropout_6 (Dropout)          (None, 5, 5, 64)          0         \n",
      "_________________________________________________________________\n",
      "max_pooling2d_5 (MaxPooling2 (None, 2, 2, 64)          0         \n",
      "_________________________________________________________________\n",
      "flatten_2 (Flatten)          (None, 256)               0         \n",
      "_________________________________________________________________\n",
      "dense_3 (Dense)              (None, 10)                2570      \n",
      "=================================================================\n",
      "Total params: 12,986\n",
      "Trainable params: 12,986\n",
      "Non-trainable params: 0\n",
      "_________________________________________________________________\n"
     ]
    }
   ],
   "source": [
    "from keras.layers import Conv2D, MaxPooling2D\n",
    "from keras.layers import GlobalAveragePooling2D\n",
    "from keras.layers import Dropout, Flatten, Dense\n",
    "from keras.models import Sequential\n",
    "\n",
    "# define the model\n",
    "model = Sequential()\n",
    "model.add(Conv2D(filters=16, kernel_size=2,\n",
    "                 padding='valid', activation='relu',\n",
    "                 input_shape=(28, 28, 1)))\n",
    "model.add(Dropout(0.2))\n",
    "model.add(MaxPooling2D(pool_size=2))\n",
    "model.add(Conv2D(filters=32, kernel_size=2,\n",
    "                 padding='valid', activation='relu'))\n",
    "model.add(Dropout(0.2))\n",
    "model.add(MaxPooling2D(pool_size=2))\n",
    "model.add(Conv2D(filters=64, kernel_size=2,\n",
    "                 padding='valid', activation='relu'))\n",
    "model.add(Dropout(0.2))\n",
    "model.add(MaxPooling2D(pool_size=2))\n",
    "model.add(Flatten())\n",
    "model.add(Dense(10, activation='softmax'))\n",
    "\n",
    "# summarize the model\n",
    "model.summary()"
   ]
  },
  {
   "cell_type": "code",
   "execution_count": 14,
   "metadata": {},
   "outputs": [],
   "source": [
    "model.compile(\n",
    "    loss='categorical_crossentropy',\n",
    "    optimizer='rmsprop',\n",
    "    metrics=['accuracy'])"
   ]
  },
  {
   "cell_type": "code",
   "execution_count": 15,
   "metadata": {},
   "outputs": [
    {
     "name": "stdout",
     "output_type": "stream",
     "text": [
      "Epoch 1/10\n",
      "375/375 [==============================] - ETA: 0s - loss: 0.6009 - accuracy: 0.8200\n",
      "Epoch 00001: val_loss improved from inf to 0.30829, saving model to mnist.model.best.hdf5\n",
      "375/375 [==============================] - 11s 28ms/step - loss: 0.6009 - accuracy: 0.8200 - val_loss: 0.3083 - val_accuracy: 0.9337\n",
      "Epoch 2/10\n",
      "375/375 [==============================] - ETA: 0s - loss: 0.2233 - accuracy: 0.9309\n",
      "Epoch 00002: val_loss improved from 0.30829 to 0.19979, saving model to mnist.model.best.hdf5\n",
      "375/375 [==============================] - 12s 33ms/step - loss: 0.2233 - accuracy: 0.9309 - val_loss: 0.1998 - val_accuracy: 0.9604\n",
      "Epoch 3/10\n",
      "374/375 [============================>.] - ETA: 0s - loss: 0.1674 - accuracy: 0.9477\n",
      "Epoch 00003: val_loss improved from 0.19979 to 0.15735, saving model to mnist.model.best.hdf5\n",
      "375/375 [==============================] - 13s 33ms/step - loss: 0.1673 - accuracy: 0.9477 - val_loss: 0.1574 - val_accuracy: 0.9670\n",
      "Epoch 4/10\n",
      "374/375 [============================>.] - ETA: 0s - loss: 0.1395 - accuracy: 0.9562\n",
      "Epoch 00004: val_loss improved from 0.15735 to 0.13527, saving model to mnist.model.best.hdf5\n",
      "375/375 [==============================] - 13s 34ms/step - loss: 0.1393 - accuracy: 0.9562 - val_loss: 0.1353 - val_accuracy: 0.9690\n",
      "Epoch 5/10\n",
      "375/375 [==============================] - ETA: 0s - loss: 0.1240 - accuracy: 0.9624\n",
      "Epoch 00005: val_loss improved from 0.13527 to 0.11959, saving model to mnist.model.best.hdf5\n",
      "375/375 [==============================] - 14s 36ms/step - loss: 0.1240 - accuracy: 0.9624 - val_loss: 0.1196 - val_accuracy: 0.9712\n",
      "Epoch 6/10\n",
      "375/375 [==============================] - ETA: 0s - loss: 0.1123 - accuracy: 0.9651\n",
      "Epoch 00006: val_loss improved from 0.11959 to 0.10869, saving model to mnist.model.best.hdf5\n",
      "375/375 [==============================] - 14s 37ms/step - loss: 0.1123 - accuracy: 0.9651 - val_loss: 0.1087 - val_accuracy: 0.9747\n",
      "Epoch 7/10\n",
      "375/375 [==============================] - ETA: 0s - loss: 0.0990 - accuracy: 0.9690\n",
      "Epoch 00007: val_loss improved from 0.10869 to 0.08919, saving model to mnist.model.best.hdf5\n",
      "375/375 [==============================] - 13s 35ms/step - loss: 0.0990 - accuracy: 0.9690 - val_loss: 0.0892 - val_accuracy: 0.9783\n",
      "Epoch 8/10\n",
      "375/375 [==============================] - ETA: 0s - loss: 0.0930 - accuracy: 0.9708\n",
      "Epoch 00008: val_loss did not improve from 0.08919\n",
      "375/375 [==============================] - 13s 34ms/step - loss: 0.0930 - accuracy: 0.9708 - val_loss: 0.0942 - val_accuracy: 0.9803\n",
      "Epoch 9/10\n",
      "375/375 [==============================] - ETA: 0s - loss: 0.0887 - accuracy: 0.9717\n",
      "Epoch 00009: val_loss improved from 0.08919 to 0.08830, saving model to mnist.model.best.hdf5\n",
      "375/375 [==============================] - 13s 35ms/step - loss: 0.0887 - accuracy: 0.9717 - val_loss: 0.0883 - val_accuracy: 0.9778\n",
      "Epoch 10/10\n",
      "374/375 [============================>.] - ETA: 0s - loss: 0.0813 - accuracy: 0.9744\n",
      "Epoch 00010: val_loss improved from 0.08830 to 0.08265, saving model to mnist.model.best.hdf5\n",
      "375/375 [==============================] - 13s 35ms/step - loss: 0.0814 - accuracy: 0.9743 - val_loss: 0.0826 - val_accuracy: 0.9823\n"
     ]
    },
    {
     "data": {
      "text/plain": [
       "<tensorflow.python.keras.callbacks.History at 0x17b03cb9c10>"
      ]
     },
     "execution_count": 15,
     "metadata": {},
     "output_type": "execute_result"
    }
   ],
   "source": [
    "from keras.callbacks import ModelCheckpoint\n",
    "\n",
    "checkpointer = ModelCheckpoint(\n",
    "                filepath='mnist.model.best.hdf5',\n",
    "                verbose=1,\n",
    "                save_best_only=True)\n",
    "model.fit(X_train, y_train,\n",
    "          batch_size=128, epochs=10,\n",
    "          validation_split=0.2,\n",
    "          callbacks=[checkpointer],\n",
    "          verbose=1, shuffle=True)"
   ]
  },
  {
   "cell_type": "markdown",
   "metadata": {},
   "source": [
    "테스트 결과 98.54%의 정확도가 나오는 것을 볼 수 있습니다. 기존 신경망보다 미묘하지만 조금 더 정확도가 커진 것을 볼 수 있지요.테스트 데이터가 10,000장인 것을 생각했을 때, 0.54%가 증가한 것은 54개의 이미지를 더 정확히 분류했다는 것을 알 수 있습니다."
   ]
  },
  {
   "cell_type": "code",
   "execution_count": 15,
   "metadata": {},
   "outputs": [
    {
     "name": "stdout",
     "output_type": "stream",
     "text": [
      "313/313 [==============================] - 1s 4ms/step - loss: 0.0678 - accuracy: 0.9854\n",
      "Test accuracy: 98.54000210762024%\n"
     ]
    }
   ],
   "source": [
    "model.load_weights('mnist.model.best.hdf5')\n",
    "\n",
    "loss_and_metrics = model.evaluate(X_test, y_test)\n",
    "accuracy = 100 * loss_and_metrics[1]\n",
    "\n",
    "print(\"Test accuracy: {}%\".format(accuracy))"
   ]
  },
  {
   "cell_type": "markdown",
   "metadata": {},
   "source": [
    "## 참고자료"
   ]
  },
  {
   "cell_type": "markdown",
   "metadata": {},
   "source": [
    "- [Tensorflow 공식 홈페이지](https://www.tensorflow.org/versions/r1.0/get_started/mnist/beginners)\n",
    "- Udacity 강의 'Artificial Intelligence Nanodegree - Convolutional Neural Networks' [aind2-cnn Jupyter Notebook 파일](https://github.com/udacity/aind2-cnn/blob/master/mnist-mlp/mnist_mlp.ipynb)\n",
    "- Keras Documentation https://keras.io/"
   ]
  }
 ],
 "metadata": {
  "kernelspec": {
   "display_name": "Python 3 (ipykernel)",
   "language": "python",
   "name": "python3"
  },
  "language_info": {
   "codemirror_mode": {
    "name": "ipython",
    "version": 3
   },
   "file_extension": ".py",
   "mimetype": "text/x-python",
   "name": "python",
   "nbconvert_exporter": "python",
   "pygments_lexer": "ipython3",
   "version": "3.8.12"
  }
 },
 "nbformat": 4,
 "nbformat_minor": 2
}
