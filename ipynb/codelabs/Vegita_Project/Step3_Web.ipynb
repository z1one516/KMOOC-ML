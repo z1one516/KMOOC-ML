{
 "cells": [
  {
   "cell_type": "markdown",
   "metadata": {},
   "source": [
    "하나님이 세상을 이처럼 사랑하사 독생자를 주셨으니 이는 그를 믿는 자마다 멸망하지 않고 영생을 얻게 하려 하심이라 (요3:16)\n",
    "\n",
    "----\n",
    "<center><img src=\"https://github.com/idebtor/KMOOC-ML/blob/master/ipynb/images/bannergreen.png?raw=true\" width=1000></center>\n",
    "\n",
    "**NOTE:** The following materials have been compiled and adapted from the numerous sources including my own. Please help me to keep this tutorial up-to-date by reporting any issues or questions. Send any comments or criticisms to `idebtor@gmail.com` Your assistances and comments will be appreciated."
   ]
  },
  {
   "cell_type": "markdown",
   "metadata": {},
   "source": [
    "---------\n",
    "# 배추가격 예측 AI 만들기"
   ]
  },
  {
   "cell_type": "markdown",
   "metadata": {},
   "source": [
    "# 플라스크 웹 서버와 웹 디자인 구현하기"
   ]
  },
  {
   "cell_type": "markdown",
   "metadata": {},
   "source": [
    "## Bootstrap"
   ]
  },
  {
   "cell_type": "markdown",
   "metadata": {},
   "source": [
    "부트스트랩은 트위터에서 사용하는 각종 레이아웃, 버튼, 입력창 등의 디자인을 CSS와 Javascript로 만들어 놓은 것이다. 웹 디자이너나 개발자 사이에서는 웹 디자인의 혁명이라고 불릴 정도로 폭발적은 반응을 얻는 프레임워크이다.\n",
    "\n",
    "\n",
    "\n",
    " '프레임워크' 라고 하는 것은 재사용이 가능한 요소들의 집합되어 있으며, 정해진 구조와 틀 안에서 이것들이 확장이 가능한 기반 코드로 이루어 짐을 뜻한다. 부트스트랩은 프레임워크다.\n",
    "\n",
    " 추가적으로 부트스트랩은 오픈소스이며, 상업적으로 이용이 가능하다. 브라우저에 bootstrap template 키워드로 검색하면 어마어마한 양의 부트스트랩 템플릿이 존재하고, 무료로 제공하는 경우도 있으나 유료로 판매하는 경우도 많다.\n",
    " \n",
    " ----\n"
   ]
  },
  {
   "cell_type": "markdown",
   "metadata": {},
   "source": [
    "## 실습 - Bootstrap 사용해보기"
   ]
  },
  {
   "cell_type": "markdown",
   "metadata": {},
   "source": [
    "1. https://mdbootstrap.com/freebies/ 해당 사이트로 이동한다\n",
    "1. 스크롤을 내려서 원하는 템플릿을 다운로드 받아준다.\n",
    "1. 다운 받은 파일들을 새폴더에 넣어주고 이름을 Web으로 설정한다. (Web 폴더는 Vegita Project 폴더 안에 있어야 한다.)\n",
    "1. html 파일명을 index.html로 변경한다.\n",
    "1. Vegita Project 폴더에서 templates 폴더를 새로 만들어 주고, templates 폴더 안으로 index.html파일을 옮겨준다.\n",
    "1. Vegita Project 폴더에서 static 폴더를 새로 만들어 주고, 폴더 안에 css, font, img, js, scss 등(디자인 및 자바스크립트 파일)을 넣어준다."
   ]
  },
  {
   "cell_type": "markdown",
   "metadata": {},
   "source": [
    "## 실습 - 서버 구동 및 모델 연동"
   ]
  },
  {
   "cell_type": "markdown",
   "metadata": {},
   "source": [
    "1. Web 폴더에 server.py 파일을 생성한다. (제공됨)\n",
    "1. 파이썬에 flask가 설치 되어있지 않다면, cmd를 열고 Flask를 설치해준다.-> pip install flask\n",
    "1. Vegita Project 폴더에서 model 폴더를 새로 만들어 주고, model 폴더 안에 학습된 모델을 넣어준다.\n",
    "1. 프롬프트를 열고 해당 경로에서 python server.py 명령어로 web 실행\n",
    "\n",
    "------"
   ]
  },
  {
   "cell_type": "markdown",
   "metadata": {},
   "source": [
    "# 참고자료"
   ]
  },
  {
   "cell_type": "markdown",
   "metadata": {},
   "source": [
    "안경잡이개발자\n",
    "https://ndb796.tistory.com/124\n",
    "\n",
    "개발자의 기록습관\n",
    "https://ict-nroo.tistory.com/21"
   ]
  }
 ],
 "metadata": {
  "kernelspec": {
   "display_name": "Python 3",
   "language": "python",
   "name": "python3"
  },
  "language_info": {
   "codemirror_mode": {
    "name": "ipython",
    "version": 3
   },
   "file_extension": ".py",
   "mimetype": "text/x-python",
   "name": "python",
   "nbconvert_exporter": "python",
   "pygments_lexer": "ipython3",
   "version": "3.8.3"
  }
 },
 "nbformat": 4,
 "nbformat_minor": 4
}
