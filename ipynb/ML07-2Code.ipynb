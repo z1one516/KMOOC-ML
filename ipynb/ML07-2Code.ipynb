{
 "cells": [
  {
   "cell_type": "markdown",
   "metadata": {},
   "source": [
    "새 계명을 너희에게 주노니 서로 사랑하라 내가 너희를 사랑한 것 같이 너희도 서로 사랑하라 너희가 서로 사랑하면 이로써 모든 사람이 너희가 내 제자인 줄 알리라\t(요13:34-35)\n",
    "<center><img src=\"https://github.com/idebtor/KMOOC-ML/blob/master/ipynb/images/MLwithPython.png?raw=true\" width=1000></center>\n",
    "\n",
    "\n",
    "# Week 7-2 Feed Forward NN Example\n",
    "#### Machine Learning with Python by idebtor@gmail.com\n",
    "\n",
    "-----------------------------------\n",
    "\n",
    "## 2. 숫자 인식 인공신경망 구현"
   ]
  },
  {
   "cell_type": "markdown",
   "metadata": {},
   "source": [
    "아래 셀에 있는 순방향 신경망 코드를 실행하기 위해서는 현재 이 파일(JoyML07-2Code.ipynb)의 위치에서 다음과 같은 파일들이 필요합니다. \n",
    "\n",
    "1. joy.py\n",
    "2. data/w_xh.weights <br>\n",
    "   data/w_hy.weights\n",
    "   \n",
    "   `[다음 파일은 셀을 실행할 때, 자동으로 한번에 한하여 다운을 받습니다]`\n",
    "3. data/t10k-images-idx3-ubyte.gz <br>\n",
    "   data/t10k-labels-idx1-ubyte.gz <br>\n",
    "   data/train-images-idx3-ubyte.gz <br>\n",
    "   data/train-labels-idx1-ubyte.gz <br>\n",
    "\n",
    "3번 항목의 4개의 파일을 다운을 받을 때 약간의 지체 현상을 볼 수 있습니다. 그 다음부터는 data폴더에 있는 자료를 부르거나 새롭게 생성한 mnist.pkl을 사용하기 때문에 속도가 상당히 빠릅니다. 혹은 교수자의 GitHub에서 직접 다운을 받아 data폴더에 저장하실 수 있습니다. \n",
    "   \n",
    "> https://github.com/idebtor/KMOOC-ML\n",
    "\n",
    "예를 들면, GitHub에 연결하여, `joy.py` 파일이름 위에서 오른쪽 마우스 버튼을 클릭하여, \"다른 이름으로 링크 저장\"을 선택하여 알맞는 폴더에 저장하면 됩니다. 혹은 `[Clone or download]`으로 전체를 다운받아서 사용해도 좋습니다. "
   ]
  },
  {
   "cell_type": "code",
   "execution_count": 1,
   "metadata": {},
   "outputs": [
    {
     "name": "stderr",
     "output_type": "stream",
     "text": [
      "C:\\Users\\user\\Anaconda3\\lib\\site-packages\\h5py\\__init__.py:36: FutureWarning: Conversion of the second argument of issubdtype from `float` to `np.floating` is deprecated. In future, it will be treated as `np.float64 == np.dtype(float).type`.\n",
      "  from ._conv import register_converters as _register_converters\n"
     ]
    },
    {
     "name": "stdout",
     "output_type": "stream",
     "text": [
      "Downloading train-images-idx3-ubyte.gz ... Done\n",
      "Downloading train-labels-idx1-ubyte.gz ... Done\n",
      "Downloading t10k-images-idx3-ubyte.gz ... Done\n",
      "Downloading t10k-labels-idx1-ubyte.gz ... Done\n",
      "Converting train-images-idx3-ubyte.gz to NumPy Array ...Done\n",
      "Converting train-labels-idx1-ubyte.gz to NumPy Array ...Done\n",
      "Converting t10k-images-idx3-ubyte.gz to NumPy Array ...Done\n",
      "Converting t10k-labels-idx1-ubyte.gz to NumPy Array ...Done\n",
      "Creating pickle file ...Done!\n",
      "image(class label): 7\n",
      "[0] = 0.0\n",
      "[1] = 0.002\n",
      "[2] = 0.001\n",
      "[3] = 0.0\n",
      "[4] = 0.0\n",
      "[5] = 0.001\n",
      "[6] = 0.0\n",
      "[7] = 0.979\n",
      "[8] = 0.006\n",
      "[9] = 0.003\n",
      "image(predicted) =  7\n"
     ]
    }
   ],
   "source": [
    "import joy\n",
    "import numpy as np\n",
    "\n",
    "g = lambda x : 1 / (1 + np.exp(-x))\n",
    "\n",
    "(X,y) = joy.load_mnist_num(7)\n",
    "W1 = joy.load_mnist_weight('data/w_xh.weights')\n",
    "Z1 = np.dot(W1, X)\n",
    "A1 = g(Z1)\n",
    "\n",
    "W2 = joy.load_mnist_weight('data/w_hy.weights')\n",
    "Z2 = np.dot(W2, A1)\n",
    "yhat = g(Z2)\n",
    "\n",
    "print('image(class label):', y)\n",
    "# print('predict:', np.round_(yhat, 3))\n",
    "# print yhat one by one\n",
    "for i, iyhat in enumerate(yhat):\n",
    "    print('[{}] = {}'.format(i, np.round(yhat[i], 3)))\n",
    "    \n",
    "print('image(predicted) = ', np.argmax(yhat))"
   ]
  },
  {
   "cell_type": "markdown",
   "metadata": {},
   "source": [
    "-------\n",
    "_Rejoice always, pray continually, give thanks in all circumstances; for this is God’s will for you in Christ Jesus. (1 Thes 5:16-18)_"
   ]
  }
 ],
 "metadata": {
  "kernelspec": {
   "display_name": "Python 3 (ipykernel)",
   "language": "python",
   "name": "python3"
  },
  "language_info": {
   "codemirror_mode": {
    "name": "ipython",
    "version": 3
   },
   "file_extension": ".py",
   "mimetype": "text/x-python",
   "name": "python",
   "nbconvert_exporter": "python",
   "pygments_lexer": "ipython3",
   "version": "3.8.12"
  }
 },
 "nbformat": 4,
 "nbformat_minor": 2
}
