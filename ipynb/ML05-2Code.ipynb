{
 "cells": [
  {
   "cell_type": "markdown",
   "metadata": {},
   "source": [
    "다음 셀에 있는 코멘드(`!cat `)가 Windows환경에서는 작동하지 않을 수 있습니다. \n",
    "- 이를 해결하기 위한 다양한 방법이 있지만, 한 가지 방법은 파이썬 배포판 중에 하나인 아나콘다에 있는 conda코맨드를 이용해서 유닉스 코맨드 환경을 설치하는 것입니다. \n",
    "- 먼저 관리자 모드로 윈도우의 파워쉘(Powershell) 이나 코멘드(cmd)창을 시작하여 다음 코맨드를 실행합니다. (몇 분의 시간이 걸립니다)\n",
    "\n",
    "`conda install posix` "
   ]
  },
  {
   "cell_type": "code",
   "execution_count": 1,
   "metadata": {},
   "outputs": [
    {
     "name": "stderr",
     "output_type": "stream",
     "text": [
      "'cat'��(��) ���� �Ǵ� �ܺ� ����, ������ �� �ִ� ���α׷�, �Ǵ�\n",
      "��ġ ������ �ƴմϴ�.\n"
     ]
    }
   ],
   "source": [
    "!cat data/joydata.txt"
   ]
  },
  {
   "cell_type": "markdown",
   "metadata": {},
   "source": [
    "## 2.1 학습 자료 전처리: 자료의 편향성"
   ]
  },
  {
   "cell_type": "code",
   "execution_count": 2,
   "metadata": {},
   "outputs": [
    {
     "name": "stdout",
     "output_type": "stream",
     "text": [
      "[[-1.72 -3.12]\n",
      " [ 0.31  1.85]\n",
      " [ 1.56  2.85]\n",
      " [ 2.64  2.41]\n",
      " [ 1.23  2.54]] [1 1 1 1 1]\n",
      "[[-2.26  0.01]\n",
      " [-1.41 -0.23]\n",
      " [-1.2  -0.71]\n",
      " [-1.69  0.7 ]\n",
      " [-1.52 -1.14]] [0 0 0 0 0]\n"
     ]
    }
   ],
   "source": [
    "import numpy as np\n",
    "data = np.genfromtxt('data/joydata.txt')\n",
    "x, y = data[:, :2], data[:, 2]\n",
    "y = y.astype(int)\n",
    "print(x[:5], y[:5])\n",
    "print(x[-5:], y[-5:])"
   ]
  },
  {
   "cell_type": "markdown",
   "metadata": {},
   "source": [
    "## 2.2 Shuffling"
   ]
  },
  {
   "cell_type": "code",
   "execution_count": 4,
   "metadata": {},
   "outputs": [
    {
     "name": "stdout",
     "output_type": "stream",
     "text": [
      "[[ 0.53  2.94]\n",
      " [ 0.29 -1.99]\n",
      " [ 0.51  2.44]\n",
      " [ 3.92  3.48]\n",
      " [ 2.58  1.79]] [1 1 0 0 0]\n",
      "[[ 0.68  1.43]\n",
      " [ 3.13  0.92]\n",
      " [-0.49 -2.64]\n",
      " [-1.05 -3.85]\n",
      " [ 1.09  3.12]] [0 1 1 0 1]\n"
     ]
    }
   ],
   "source": [
    "data = np.genfromtxt('data/joydata.txt')\n",
    "x, y = data[:, :2], data[:, 2]\n",
    "y = y.astype(int)\n",
    "np.random.shuffle(x) # logic error : x,y should be splited after shuffling\n",
    "np.random.shuffle(y)\n",
    "print(x[:5], y[:5])\n",
    "print(x[-5:], y[-5:])"
   ]
  },
  {
   "cell_type": "markdown",
   "metadata": {},
   "source": [
    "올바른 코드"
   ]
  },
  {
   "cell_type": "code",
   "execution_count": 57,
   "metadata": {},
   "outputs": [
    {
     "name": "stdout",
     "output_type": "stream",
     "text": [
      "[[ 1.74  0.63]\n",
      " [ 2.17  2.64]\n",
      " [-1.41 -0.23]\n",
      " [-2.94 -3.47]\n",
      " [-2.14 -1.52]] [1 1 0 0 0]\n",
      "[[ 0.97  2.68]\n",
      " [ 1.26  2.54]\n",
      " [ 0.85  1.46]\n",
      " [-0.68 -1.52]\n",
      " [ 0.29 -1.99]] [1 1 1 0 0]\n"
     ]
    }
   ],
   "source": [
    "import numpy as np\n",
    "data = np.genfromtxt('data/joydata.txt')\n",
    "np.random.shuffle(data)\n",
    "x, y = data[:, :2], data[:, 2]\n",
    "y = y.astype(np.int)\n",
    "print(x[:5], y[:5])\n",
    "print(x[-5:], y[-5:])"
   ]
  },
  {
   "cell_type": "markdown",
   "metadata": {},
   "source": [
    "## 2.3 정규화 코드"
   ]
  },
  {
   "cell_type": "code",
   "execution_count": 58,
   "metadata": {},
   "outputs": [],
   "source": [
    "xmax = np.max(x)\n",
    "xmin = np.min(x)\n",
    "x = (x - xmin) / (xmax - xmin)"
   ]
  },
  {
   "cell_type": "markdown",
   "metadata": {},
   "source": [
    "## 2.4 표준화 코드"
   ]
  },
  {
   "cell_type": "code",
   "execution_count": 59,
   "metadata": {},
   "outputs": [],
   "source": [
    "mu = x.mean(axis = 0)\n",
    "sigma = x.std(axis = 0)\n",
    "x = (x - mu) / sigma"
   ]
  },
  {
   "cell_type": "markdown",
   "metadata": {},
   "source": [
    "## 2.5 자료 분리 (train, test)"
   ]
  },
  {
   "cell_type": "code",
   "execution_count": 131,
   "metadata": {},
   "outputs": [],
   "source": [
    "import numpy as np\n",
    "data = np.genfromtxt('data/joydata.txt')\n",
    "np.random.seed(1)\n",
    "np.random.shuffle(data)\n",
    "x, y = data[:, :2], data[:, 2]\n",
    "y = y.astype(np.int)\n",
    "\n",
    "num = int(x.shape[0] * 0.8) ##percentage\n",
    "x_train, x_test = x[:num], x[num:]\n",
    "y_train, y_test = y[:num], y[num:]"
   ]
  },
  {
   "cell_type": "code",
   "execution_count": 142,
   "metadata": {},
   "outputs": [
    {
     "data": {
      "image/png": "[encoded data removed]",
      "text/plain": [
       "<Figure size 720x288 with 2 Axes>"
      ]
     },
     "metadata": {},
     "output_type": "display_data"
    }
   ],
   "source": [
    "## remove 1st column before plotting; change shape(mx3) into shape(mx2) or use x_train, x_test\n",
    "## x_train = X_train[ : , 1:]     \n",
    "\n",
    "fig, ax = plt.subplots(1, 2, sharex=True, sharey=True, figsize=(10, 4))\n",
    "ax[0].scatter(x_train[y_train==1, 0], x_train[y_train==1, 1], label='class 1', marker='s')\n",
    "ax[0].scatter(x_train[y_train==0, 0], x_train[y_train==0, 1], label='class 2', marker='o')\n",
    "ax[1].scatter(x_test[y_test==1, 0], x_test[y_test==1, 1], label='class 1', marker='s')\n",
    "ax[1].scatter(x_test[y_test==0, 0], x_test[y_test==0, 1], label='class 2', marker='o')\n",
    "ax[0].set_title('Training dataset')\n",
    "ax[1].set_title('Test dataset')\n",
    "ax[0].set_xlabel('x1')\n",
    "ax[0].set_ylabel('x2')\n",
    "ax[0].legend()\n",
    "plt.show()"
   ]
  },
  {
   "cell_type": "markdown",
   "metadata": {},
   "source": [
    "## 2.6 편향을 포함하기 위한 특성 벡터 X의 자료 구조\n",
    "\n",
    "- 훈련자료와 검증자료에 존재할 수 있는 편향$^{bias}$을 다루기 위하여 자료의 모든 각 특성에$x^{(i)}_0 = 1$추가합니다. 특성 $x^{(i)}_0 = 1$이 추가된 자료에 대해 대문자($X$)사용하여 다른 자료와 구별하도록 합니다.  \n",
    "- np.c 와 np.r 은 넘피 배열에 행과 열을 추가하는데 사용하는 방법이며, 구체적인 것은 넘피 자료를 참고하십시오.  "
   ]
  },
  {
   "cell_type": "code",
   "execution_count": 143,
   "metadata": {},
   "outputs": [
    {
     "name": "stdout",
     "output_type": "stream",
     "text": [
      "[[ 1.   -2.64 -2.2 ]\n",
      " [ 1.   -2.97 -1.53]\n",
      " [ 1.    1.    0.46]\n",
      " [ 1.   -2.84 -3.22]\n",
      " [ 1.   -0.05 -1.95]]\n"
     ]
    }
   ],
   "source": [
    "X_train = np.c_[ np.ones(len(x_train)), x_train ]\n",
    "X_test  = np.c_[ np.ones(len(x_test)), x_test ]\n",
    "print(X_train[:5])"
   ]
  },
  {
   "cell_type": "markdown",
   "metadata": {},
   "source": [
    "## 3.1 학습(훈련/예측) 단계: 퍼셉트론 코딩\n",
    "\n",
    "앞에서 구현한 perceptron() 함수를 활용하여 다음과 일반적인 percetron_train() 함수를 어렵지 않게 만들 수 있습니다. 특히 이 함수는 다양한 인자를 받아서 학습 알고리즘을 수행함으로 산출되는 퍼셉트론의 가중치를 반환합니다.\n",
    "\n",
    "앞 장에서 사용한 perceptron 함수와 다른 점은 가중치 w를 더 이상 매개변수롤 사용하지 않았으며, 대신에 입력 특성벡터에 X0 원소가 포함되어 있는지 여부를 알리는 매개변수가 새로 포함되었습니다. "
   ]
  },
  {
   "cell_type": "code",
   "execution_count": 151,
   "metadata": {},
   "outputs": [],
   "source": [
    "def perceptron_train(X, y, X0=False, eta=0.1, epochs=1, random_seed=1):\n",
    "    \"\"\"  Perceptron training function for binary class labels\n",
    "    Input Parameters\n",
    "        X : numpy.ndarray, shape=(n_samples, m_features), by default X0=False\n",
    "            A 2D NumPy array containing the training examples\n",
    "            or \n",
    "            If X0=True, X's shape=(n_samples, m_features+1) \n",
    "            It includes the bias or x0 = 1 for all samples \n",
    "        \n",
    "        y : numpy.ndarray, shape=(n_samples,)\n",
    "            A 1D NumPy array containing the true class labels\n",
    "        \n",
    "        X0: If True, then X must have X_0 = 1 in all samples.\n",
    "             Set it Faslse, if X does not have X_0 \n",
    "        \n",
    "        eta : float (default: 0.1) \n",
    "            A learning rate for the parameter updates. Note that a learning\n",
    "            rate has no effect on the direction of the decision boundary\n",
    "            if the model weights are initialized to all zeros.\n",
    "        \n",
    "        epochs : int (default: 1), Number of passes over the training dataset.\n",
    "        \n",
    "        random_seed : int or None (default: 1)\n",
    "            Seed for the pseudo-random number generator that initializes the\n",
    "            weights w if w is None.\n",
    "    \n",
    "    Returns \n",
    "        w : numpy.ndarray, shape=(m_features, )\n",
    "    \n",
    "        If you wants W : numpy.ndarray, shape=(epochs, m_features) to use \n",
    "        when calling , then invoke this function with epochs = 1 multiple times \n",
    "        and save the result in the form of W = np.vstack([W, w]). \n",
    "        You may initialize the W = np.array([w]), where w is an initial weights.\n",
    "    \"\"\"\n",
    "    if X0 == False:\n",
    "        X = np.c_[ np.ones(len(X)), X ]\n",
    "    \n",
    "    randnum = np.random.RandomState(random_seed) \n",
    "    w = randnum.normal(loc=0.0, scale=0.01, size=X.shape[1])\n",
    "           \n",
    "    maxlabel, minlabel = y.max(), y.min()                 # for use of bipolar or unit step function\n",
    "    for _ in range(epochs):\n",
    "        for xi, yi in zip(X, y):\n",
    "            z = np.dot(xi, w)                             # Compute net input, same as np.dot(w.T, x)\n",
    "            yhat = np.where(z > 0.0, maxlabel, minlabel)  # Apply unit step func and get output\n",
    "            #print('xi{}, \\t (yi,yhat)=({},{})'.format(np.round(xi,2), yi, yhat))\n",
    "            if yi != yhat:\n",
    "                delta = eta * (yi - yhat) * xi                # Compute delta    \n",
    "                w += delta                                    # Adjust weight\n",
    "                #print('xi{}, \\t (yi,yhat)=({},{}), delta{}, w{}'.format\n",
    "                #         (np.round(xi,2), yi, yhat, np.round(delta,2), np.round(w,2)))\n",
    "        \n",
    "    return w"
   ]
  },
  {
   "cell_type": "markdown",
   "metadata": {},
   "source": [
    "## 3.2 학습(훈련/예측) 단계: 퍼셉트론 호출"
   ]
  },
  {
   "cell_type": "code",
   "execution_count": 152,
   "metadata": {},
   "outputs": [
    {
     "name": "stdout",
     "output_type": "stream",
     "text": [
      "[[ 1.   -2.64 -2.2 ]\n",
      " [ 1.   -2.97 -1.53]\n",
      " [ 1.    1.    0.46]\n",
      " [ 1.   -2.84 -3.22]\n",
      " [ 1.   -0.05 -1.95]]\n",
      "[0 0 1 0 0]\n",
      "w =  [-0.02416758  0.04263733  0.01383804]\n"
     ]
    }
   ],
   "source": [
    "print(X_train[:5])\n",
    "print(y_train[:5])\n",
    "w = perceptron_train(X_train, y_train, X0=True, eta=0.02, epochs=1, random_seed=2)\n",
    "print('w = ', w)"
   ]
  },
  {
   "cell_type": "markdown",
   "metadata": {},
   "source": [
    "## 3.3 예측 및 평가 단계: 이진 페셉트론 "
   ]
  },
  {
   "cell_type": "code",
   "execution_count": 153,
   "metadata": {},
   "outputs": [],
   "source": [
    "def perceptron_predict(X, w):\n",
    "    z = np.dot(X, w)\n",
    "    yhat = np.where(z > 0., 1, 0)\n",
    "    return yhat"
   ]
  },
  {
   "cell_type": "markdown",
   "metadata": {},
   "source": [
    "## 3.4 예측 및 평가 단계:  이진 페셉트론 "
   ]
  },
  {
   "cell_type": "code",
   "execution_count": 154,
   "metadata": {},
   "outputs": [
    {
     "name": "stdout",
     "output_type": "stream",
     "text": [
      "w =  [-0.02416758  0.04263733  0.01383804]\n",
      "Misclassified:1/80\n"
     ]
    }
   ],
   "source": [
    "#version 0.1\n",
    "print('w = ', w)\n",
    "yhat = perceptron_predict(X_train, w) \n",
    "missed = 0 # misclassified count\n",
    "m_samples = len(y_train)\n",
    "for m in range(m_samples):\n",
    "    if yhat[m] != y_train[m]:\n",
    "        missed += 1\n",
    "print('Misclassified:{}/{}'.format(missed, m_samples))"
   ]
  },
  {
   "cell_type": "code",
   "execution_count": 155,
   "metadata": {},
   "outputs": [
    {
     "name": "stdout",
     "output_type": "stream",
     "text": [
      "Misclassified:1/20\n"
     ]
    }
   ],
   "source": [
    "#version 0.1\n",
    "yhat = perceptron_predict(X_test, w) \n",
    "missed = 0 # misclassified count\n",
    "m_samples = len(y_test)\n",
    "for m in range(m_samples):\n",
    "    if yhat[m] != y_test[m]:\n",
    "        missed += 1\n",
    "print('Misclassified:{}/{}'.format(missed, m_samples))"
   ]
  },
  {
   "cell_type": "code",
   "execution_count": 156,
   "metadata": {},
   "outputs": [
    {
     "name": "stdout",
     "output_type": "stream",
     "text": [
      "Misclassified:1/20\n"
     ]
    }
   ],
   "source": [
    "#version 0.2\n",
    "yhat = perceptron_predict(X_test, w)\n",
    "missed = np.sum(yhat.flatten() != y_test)\n",
    "print('Misclassified:{}/{}'.format(missed, m_samples))"
   ]
  },
  {
   "cell_type": "markdown",
   "metadata": {},
   "source": [
    "## 3.1 예측 및 평가 단계: 시각화"
   ]
  },
  {
   "cell_type": "code",
   "execution_count": 157,
   "metadata": {},
   "outputs": [
    {
     "data": {
      "image/png": "[encoded data removed]",
      "text/plain": [
       "<Figure size 432x288 with 1 Axes>"
      ]
     },
     "metadata": {},
     "output_type": "display_data"
    }
   ],
   "source": [
    "%run code/plot_xyw.py\n",
    "plot_xyw(X_train, y_train, w.flatten(), X0=True)"
   ]
  },
  {
   "cell_type": "code",
   "execution_count": 158,
   "metadata": {},
   "outputs": [
    {
     "data": {
      "image/png": "[encoded data removed]",
      "text/plain": [
       "<Figure size 432x288 with 1 Axes>"
      ]
     },
     "metadata": {},
     "output_type": "display_data"
    }
   ],
   "source": [
    "plot_xyw(X_test, y_test, w.flatten(), X0=True)"
   ]
  },
  {
   "cell_type": "markdown",
   "metadata": {},
   "source": [
    "------------\n",
    "_In the beginning God created the heavens and the earth. Genesis1:1_"
   ]
  }
 ],
 "metadata": {
  "kernelspec": {
   "display_name": "Python 3 (ipykernel)",
   "language": "python",
   "name": "python3"
  },
  "language_info": {
   "codemirror_mode": {
    "name": "ipython",
    "version": 3
   },
   "file_extension": ".py",
   "mimetype": "text/x-python",
   "name": "python",
   "nbconvert_exporter": "python",
   "pygments_lexer": "ipython3",
   "version": "3.12.0"
  }
 },
 "nbformat": 4,
 "nbformat_minor": 2
}
