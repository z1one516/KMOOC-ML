{
 "cells": [
  {
   "cell_type": "markdown",
   "metadata": {},
   "source": [
    "이르시되 기도 외에 다른 것으로는 이런 종류가 나갈 수 없느니라 하시니라 (막9:29)\n",
    "<center><img src=\"https://github.com/idebtor/KMOOC-ML/blob/master/ipynb/images/MLwithPython.png?raw=true\" width=1000></center>"
   ]
  },
  {
   "cell_type": "markdown",
   "metadata": {},
   "source": [
    "# Week 3-1 Artificial Neuron\n",
    "\n",
    "\n",
    "## AND Neuron Implementation"
   ]
  },
  {
   "cell_type": "markdown",
   "metadata": {},
   "source": [
    "In the following AND() function, set the return value of `None` properly such that it produces AND logic.\n",
    "아래의 `AND()` 함수의 반환값 `None`을 알맞게 수정하십시오. "
   ]
  },
  {
   "cell_type": "code",
   "execution_count": 9,
   "metadata": {},
   "outputs": [],
   "source": [
    "import numpy as np\n",
    "def AND(x1, x2):\n",
    "    x = np.array([1, x1, x2])      # input\n",
    "    w = np.array([-0.7, 0.5, 0.5]) # bias, weight\n",
    "    return None"
   ]
  },
  {
   "cell_type": "code",
   "execution_count": 10,
   "metadata": {},
   "outputs": [
    {
     "name": "stdout",
     "output_type": "stream",
     "text": [
      "AND(0, 0) =  0\n",
      "AND(0, 1) =  0\n",
      "AND(1, 0) =  0\n",
      "AND(1, 1) =  1\n"
     ]
    }
   ],
   "source": [
    "print(\"AND(0, 0) = \", AND(0, 0))\n",
    "print(\"AND(0, 1) = \", AND(0, 1))\n",
    "print(\"AND(1, 0) = \", AND(1, 0))\n",
    "print(\"AND(1, 1) = \", AND(1, 1))"
   ]
  },
  {
   "cell_type": "markdown",
   "metadata": {},
   "source": [
    "## AND Neuron Visualization"
   ]
  },
  {
   "cell_type": "code",
   "execution_count": 11,
   "metadata": {},
   "outputs": [
    {
     "data": {
      "image/png": "[encoded data removed]",
      "text/plain": [
       "<Figure size 432x288 with 1 Axes>"
      ]
     },
     "metadata": {
      "needs_background": "light"
     },
     "output_type": "display_data"
    }
   ],
   "source": [
    "import matplotlib.pyplot as plt  \n",
    "%matplotlib inline\n",
    "\n",
    "# code to plot the line b + w_1 x_1 + w_2 x_2 = 0\n",
    "w1 = 0.5\n",
    "w2 = 0.5\n",
    "b = -0.7\n",
    "x1 = np.arange(-2.5, 3.5, .5)\n",
    "x2 = -b/w2 - w1/w2*x1\n",
    "    \n",
    "plt.plot(x1, x2)    \n",
    "plt.axhline(0, color='black', linewidth=1)\n",
    "plt.axvline(0, color='black', linewidth=1)\n",
    "plt.axis('equal')\n",
    "plt.grid(True)\n",
    "plt.xlabel('x1')\n",
    "plt.ylabel('x2')\n",
    "#plt.savefig('images\\weights_bias.png')\n",
    "plt.show()"
   ]
  },
  {
   "cell_type": "markdown",
   "metadata": {},
   "source": [
    "## Classification and Classifier\n",
    "\n",
    "- Add the code to plot the line (or classifier) copied from the cell above. 위의 직선을 그리는 코드 내용을 아래 코드 셀 끝에 복사해서 넣어주세요\n",
    "- Try to run the following code with some different value of seed in np.random.seed(0) and observe how the classifier works. seed(0)에서 0 대신에 다른 값들을 넣어서 실행해보십시오.\n",
    "- Why does it plot dots less than ndots = 6 sometimes?  종종 점들이 약간 모자라게 보이는데 왜 그럴까요? 항상 ndots만큼 보이도록 코드를 수정해보십시오."
   ]
  },
  {
   "cell_type": "code",
   "execution_count": 27,
   "metadata": {},
   "outputs": [
    {
     "data": {
      "image/png": "[encoded data removed]",
      "text/plain": [
       "<Figure size 432x288 with 1 Axes>"
      ]
     },
     "metadata": {
      "needs_background": "light"
     },
     "output_type": "display_data"
    }
   ],
   "source": [
    "# code to plot some random dots\n",
    "ndots = 6\n",
    "np.random.seed(0)   \n",
    "px1 = [np.random.randint(-2, 3) for _ in np.arange(ndots)]\n",
    "px2 = [np.random.randint(-1, 3) for _ in np.arange(ndots)]\n",
    "for ipx1, ipx2 in zip(px1, px2):\n",
    "    if (b + w1*ipx1 + w2*ipx2) <= 0:\n",
    "        plt.plot(ipx1, ipx2, 'ro')\n",
    "    else:\n",
    "        plt.plot(ipx1, ipx2, 'bs')\n",
    "\n",
    "# code to plot the line b + w_1 x_1 + w_2 x_2 = 0\n"
   ]
  },
  {
   "cell_type": "markdown",
   "metadata": {},
   "source": [
    "## OR Neuron Implementation\n",
    "\n",
    "\n",
    "#### Isn't your job?"
   ]
  },
  {
   "cell_type": "markdown",
   "metadata": {},
   "source": []
  }
 ],
 "metadata": {
  "kernelspec": {
   "display_name": "Python 3 (ipykernel)",
   "language": "python",
   "name": "python3"
  },
  "language_info": {
   "codemirror_mode": {
    "name": "ipython",
    "version": 3
   },
   "file_extension": ".py",
   "mimetype": "text/x-python",
   "name": "python",
   "nbconvert_exporter": "python",
   "pygments_lexer": "ipython3",
   "version": "3.8.12"
  }
 },
 "nbformat": 4,
 "nbformat_minor": 2
}
