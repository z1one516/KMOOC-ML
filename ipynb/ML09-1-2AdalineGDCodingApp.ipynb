{
 "cells": [
  {
   "cell_type": "markdown",
   "metadata": {},
   "source": [
    "이와 같이 성령도 우리의 연약함을 도우시나니 우리는 마땅히 기도할 바를 알지 못하나 오직 성령이 말할 수 없는 탄식으로 우리를 위하여 친히 간구하시느니라 마음을 살피시는 이가 성령의 생각을 아시나니 이는 성령이 하나님의 뜻대로 성도를 위하여 간구하심이니라 (요8:26-27)\n",
    "<center><img src=\"https://github.com/idebtor/KMOOC-ML/blob/master/ipynb/images/MLwithPython.png?raw=true\" width=1000></center>\n",
    "\n",
    "__NOTE:__ The following materials have been compiled and adapted from the numerous sources including my own. Please help me to keep this tutorial up-to-date by reporting any issues or questions. Send any comments or criticisms to `idebtor@gmail.com` Your assistances and comments will be appreciated."
   ]
  },
  {
   "cell_type": "markdown",
   "metadata": {},
   "source": [
    "# 제 9-1강: 경사하강법의 아달라인 구현\n",
    "\n",
    "## 학습 목표\n",
    "- 경사하강법의 가중치 조정 알고리즘을 학습한다.\n",
    "- 아달라인 경사하강법을 구현한다. \n",
    "\n",
    "## 학습 내용\n",
    "- 경사하강법 가중치 조정 알고리즘\n",
    "- 경사하강법 스텝의 방향과 크기\n",
    "- 학습률\n",
    "- 아달라인 경사하강법 구현\n",
    "\n",
    "\n",
    "# 제 8-2강: 경사하강법의 아달라인 적용\n",
    "\n",
    "## 학습 목표\n",
    "- 붓꽃 학습자료의 속성들을 학습한다.\n",
    "- 붓꽃 학습자료를 바탕으로 아달라인 객체를 테스트한다.\n",
    "- 모멘텀을 이용하여 비용함수의 값이 최소값으로 수렴하도록 한다.\n",
    "\n",
    "## 학습 내용\n",
    "- 붓꽃 학습자료 속성\n",
    "- 붓꽂 학습자료 예제\n",
    "- 지역 최소와 전역 최소 \n",
    "- 모멘텀"
   ]
  },
  {
   "cell_type": "code",
   "execution_count": 5,
   "metadata": {},
   "outputs": [
    {
     "data": {
      "text/plain": [
       "<module 'joy' from 'C:\\\\Users\\\\user\\\\Dropbox\\\\_MoocML\\\\ipynbShared\\\\joy.py'>"
      ]
     },
     "execution_count": 5,
     "metadata": {},
     "output_type": "execute_result"
    }
   ],
   "source": [
    "import numpy as np\n",
    "import imp\n",
    "import joy\n",
    "imp.reload(joy)"
   ]
  },
  {
   "cell_type": "markdown",
   "metadata": {},
   "source": [
    "## 1. 붓꽃 학습자료$^{Iris \\ Dataset}$\n",
    "\n",
    "### 1.1 붓꽃 학습자료 소개"
   ]
  },
  {
   "cell_type": "markdown",
   "metadata": {},
   "source": [
    "프로그래밍을 처음 배울 때, 'Hello World'를 출력하는 것과 같이 기계학습을 시작하면서 다루는 유명한 몇 개의 데이터셋이 있습니다. 그 중에 하나가 붓꽃 학습자료입니다.  \n",
    "\n",
    "지금까지 우리는 가상적인 학습 자료로 기계학습을 ‘연습’하였는데, 이제 처음으로 과학자들이 실제적으로 사용하는 붓꽃 학습자료로 기계학습 알고리즘을 본격적으로 적용해보고자 합니다.  우리가 첫 번째로 시도하고자 하는 자료는 1936년에 발표된 논문(The use of multiple measurements in taxonomic problems, Ronald Fisher)에서 사용된 자료입니다. 이 자료는 기계학습 분야에서 최근에 많이 사용되고 있으며, 세 종류의 품종(세토사$^{Setosa}$, 버시칼라$^{Versicolor}$, 버지니카$^{Virginica}$)의 붓꽃$^{Iris}$에서 각각 50개의 표본$^{sample}$ 즉 총 150개의 표본을 추출하였습니다. 각 표본$^{sample}$ 에는 4개의 특성$^{feature}$, 즉 꽃잎$^{petal}$의 길이와 너비, 꽃받침$^{sepal}$의 길이와 너비, 그리고 붓꽃 종류의 이름을 포함하고 있습니다. "
   ]
  },
  {
   "cell_type": "markdown",
   "metadata": {},
   "source": [
    "<center><img src=\"https://github.com/idebtor/KMOOC-ML/blob/master/ipynb/images/ch8/iris3photo.png?raw=true\" width=\"600\">\n",
    "<center>그림 1: 세 종류의 붓꽃</center>"
   ]
  },
  {
   "cell_type": "markdown",
   "metadata": {},
   "source": [
    "### 1.2 특성행렬 표기"
   ]
  },
  {
   "cell_type": "markdown",
   "metadata": {},
   "source": [
    "이러한 붓꽃 학습자료를 파일에 저장되어 있는 형태대로 특성 행렬$^{feature \\ matrix} \\mathbf{X}$로 표기하면, 각 행은 샘플을 나타내며, 각 열은 특성을 나타내게 됩니다. 그러면, $\\mathbf{X}$는 150x4 행렬이며, (m x n)은 (m examples, n features)의 형식입니다. 클래스 레이블은 y로 표기하며 합니다. 수학적으로는 다음과 같이 표기하며, 여기서 $\\mathbb{R}$은 실수$^{real \\ number}$를 나타내며, $\\in$은 집합에 속한다는 의미입니다. $x^{(i)}$윗 첨자(i)는 입력하는 학습자료의 일련번호 즉 행을 나타내고, $x_j$아랫 첨자 $j$는 학습 자료의 특성을 나타냅니다. \n",
    "\n",
    "\\begin{align}\n",
    "  \\mathbf{X} \\in  \\mathbb{R}^{150x4} \n",
    "\\end{align}\n",
    "\n",
    "\\begin{align}\n",
    "\\mathbf{X} = \n",
    "\\begin{pmatrix}\n",
    "   x^{(1)}_1 & x^{(1)}_2  & x^{(1)}_3 & x^{(1)}_4\\\\\n",
    "   x^{(2)}_1 & x^{(2)}_2  & x^{(2)}_3 & x^{(2)}_4\\\\\n",
    "   \\vdots & \\vdots & \\vdots & \\vdots \\\\\n",
    "   x^{(150)}_1 & x^{(150)}_2  & x^{(150)}_3 & x^{(150)}_4\n",
    "\\end{pmatrix} \n",
    "\\end{align}"
   ]
  },
  {
   "cell_type": "markdown",
   "metadata": {},
   "source": [
    "특성 행렬$^{feature \\ matrix} \\mathbf{X}$의 행$^{row}$은 한 붓꽃 샘플의 4가지 특성들을 의미하며, 다음과 같이 표기할 수 있습니다. \n",
    "\\begin{align}\n",
    "  \\mathbf{x}^{(i)} \\in  \\mathbb{R}^{1x4} \n",
    "\\end{align}\n",
    "\n",
    "\\begin{align}\n",
    "\\mathbf{x}^{(i)} = \n",
    "\\begin{pmatrix}\n",
    "   x^{(i)}_1 & x^{(i)}_2 & x^{(i)}_3 & x^{(i)}_4 \n",
    "\\end{pmatrix}\n",
    "\\end{align}"
   ]
  },
  {
   "cell_type": "markdown",
   "metadata": {},
   "source": [
    "특성 행렬$^{feature \\ matrix} \\mathbf{X}$의 열$^{column}$은 무엇을 의미하는지 짐작할 수 있겠죠?  열은 전체 표본에 대하여 붓꽃 표본의 네가지 특성들 중에 하나를 나타냅니다.  그 중에 하나의 특성인 j번째 특성을 추출하면 다음과 같은 150x1의 컬럼 벡터가 됩니다. \n",
    "\n",
    "\\begin{align}\n",
    "  \\mathbf{x}_j \\in  \\mathbb{R}^{150x1} \n",
    "\\end{align}\n",
    "\n",
    "\\begin{align}\n",
    "\\mathbf{x}_j = \n",
    "\\begin{pmatrix}\n",
    "   x^{(1)}_j\\\\\n",
    "   x^{(2)}_j\\\\\n",
    "   \\vdots \\\\\n",
    "   x^{(150)}_j\n",
    "\\end{pmatrix}\n",
    "\\end{align}"
   ]
  },
  {
   "cell_type": "markdown",
   "metadata": {},
   "source": [
    "그러면 붓꽃자료에 마지막 남아 있는 자료는 레이블 벡터 $\\mathbf{y}$ 이 됩니다. 각 샘플이 어떤 종류의 품종에 해당하는지 표시하는 세 클래스 레이블은 다음과 표기합니다. 이 벡터에는 전체 표본에 대한 레이블을 표시하게 되며, 레이블은 'Setosa', 'Vericolor', 'Virginica' 중 하나가 표시 됩니다."
   ]
  },
  {
   "cell_type": "markdown",
   "metadata": {},
   "source": [
    "\\begin{align} \\mathbf{y} \\in  \\mathbb{R}^{150x1} \\end{align}\n",
    "\n",
    "\\begin{align}\n",
    " \\mathbf{y} = \n",
    " \\begin{pmatrix}    y^{(1)}\\\\    y^{(2)}\\\\    \\vdots \\\\    y^{(150)} \\end{pmatrix}, \n",
    " \\quad y \\in big({Setosa, Vericolor, Virginica} \\big)\n",
    "\\end{align}"
   ]
  },
  {
   "cell_type": "markdown",
   "metadata": {},
   "source": [
    "__JoyPopQuiz__:\n",
    "\n",
    "다음의 표기는 무엇을 의미하는지 설명하십시오. \n",
    "\n",
    "- $x^{(1)}_4 = 3$\n",
    "\n",
    "__JoyPopAnswer__: 첫번째 표본의 4번째 특성값 (꽃잎의 길이) 이 3cm 라는 의미입니다.\n",
    "\n"
   ]
  },
  {
   "cell_type": "markdown",
   "metadata": {},
   "source": [
    "__JoyPopQuiz__:<br>\n",
    "다음의 표기는 무엇을 의미하는지 설명하십시오.\n",
    "- $y^{(3)}$ = 'Vericolor'"
   ]
  },
  {
   "cell_type": "markdown",
   "metadata": {},
   "source": [
    "__JoyPopAnswer__: 3번째 표본의 클래스 레이블은 'Vericolor'입니다."
   ]
  },
  {
   "cell_type": "markdown",
   "metadata": {},
   "source": [
    "###  1.3 특성 행렬의 형상: $\\mathbf{X} \\in  \\mathbb{R}^{150x4}$ vs $\\mathbf{X} \\in  \\mathbb{R}^{4x150}$\n",
    "\n",
    "여기서 유의할 점은 기계학습 연구자들이 특성행렬을 항상 (m x n) 즉 (m examples, n features)의 형식으로 나타내는 것은 아닙니다.  어떤 이들은 (n x m) 즉 (n features, m examples) 형식을 내기도 합니다. \n",
    "\n",
    "우리 강의에서도 이런 두 가지 형식을 때에 따라 적절한 것을 택하여 사용할 것입니다. 붓꽃 자료에서는 자료가 (m x n) 형식으로 저장되어 있기에, 파일에 있는 그대로 읽고, 그 형식대로 자료 구조를 만들었기 때문에 (m x n)형식을 사용합니다. 여러분도 이렇게 서로 다른 특성 행렬의 형상을 다루는데 익숙해지길 바랍니다."
   ]
  },
  {
   "cell_type": "markdown",
   "metadata": {},
   "source": [
    "### 1.4 붓꽃 학습자료 읽어오기"
   ]
  },
  {
   "cell_type": "markdown",
   "metadata": {},
   "source": [
    "이 붓꽃$^{Iris}$자료는 얼바인 캘리포니아 대학교$^{UC \\ Irvine}$의 기계학습 데이타베이스에서 다음과 같이 추출하여 관찰할 수 있습니다.  데이터베이스에서 자료를 추출하기 위하여 Python의 판다스$^{pandas}$사용하였는데, `DataFrame`은 2차원의 자료를 표현하는데 적합한 아주 유용한 판다스 자료구조 형식입니다. 판다스 `DataFrame`의 `head()`와 `tail()` 메소드는 자료의 처음과 마지막 부분 몇 개를 볼 수 있습니다.  자료의 각 열은 꽃잎의 길이, 너비, 꽃받침의 길이와 너비, 꽃의 종류 순서 즉 세토사, 버시칼라, 버지니카 순서로 각각 50개의 샘플들로 저장되어 있습니다.  길이와 너비의 단위는 cm입니다.\n",
    "\n",
    "만약, 얼바인 대학의 서버가 작동하지 않으면, 여러분의 컴퓨터에 자료를 미리 다운을 받아 두고 다음과 같은 코드로 자료를 읽을 수 있습니다. \n",
    "\n",
    "```\n",
    "df = pd.read_csv('my_local/path/data/iris.data', header=None)```\n",
    "\n",
    "다음 셀에서 코드를 읽고, 앞 부분을 출력해봅니다. "
   ]
  },
  {
   "cell_type": "code",
   "execution_count": 61,
   "metadata": {},
   "outputs": [
    {
     "data": {
      "text/html": [
       "<div>\n",
       "<style scoped>\n",
       "    .dataframe tbody tr th:only-of-type {\n",
       "        vertical-align: middle;\n",
       "    }\n",
       "\n",
       "    .dataframe tbody tr th {\n",
       "        vertical-align: top;\n",
       "    }\n",
       "\n",
       "    .dataframe thead th {\n",
       "        text-align: right;\n",
       "    }\n",
       "</style>\n",
       "<table border=\"1\" class=\"dataframe\">\n",
       "  <thead>\n",
       "    <tr style=\"text-align: right;\">\n",
       "      <th></th>\n",
       "      <th>0</th>\n",
       "      <th>1</th>\n",
       "      <th>2</th>\n",
       "      <th>3</th>\n",
       "      <th>4</th>\n",
       "    </tr>\n",
       "  </thead>\n",
       "  <tbody>\n",
       "    <tr>\n",
       "      <th>0</th>\n",
       "      <td>5.1</td>\n",
       "      <td>3.5</td>\n",
       "      <td>1.4</td>\n",
       "      <td>0.2</td>\n",
       "      <td>Iris-setosa</td>\n",
       "    </tr>\n",
       "    <tr>\n",
       "      <th>1</th>\n",
       "      <td>4.9</td>\n",
       "      <td>3.0</td>\n",
       "      <td>1.4</td>\n",
       "      <td>0.2</td>\n",
       "      <td>Iris-setosa</td>\n",
       "    </tr>\n",
       "    <tr>\n",
       "      <th>2</th>\n",
       "      <td>4.7</td>\n",
       "      <td>3.2</td>\n",
       "      <td>1.3</td>\n",
       "      <td>0.2</td>\n",
       "      <td>Iris-setosa</td>\n",
       "    </tr>\n",
       "    <tr>\n",
       "      <th>3</th>\n",
       "      <td>4.6</td>\n",
       "      <td>3.1</td>\n",
       "      <td>1.5</td>\n",
       "      <td>0.2</td>\n",
       "      <td>Iris-setosa</td>\n",
       "    </tr>\n",
       "    <tr>\n",
       "      <th>4</th>\n",
       "      <td>5.0</td>\n",
       "      <td>3.6</td>\n",
       "      <td>1.4</td>\n",
       "      <td>0.2</td>\n",
       "      <td>Iris-setosa</td>\n",
       "    </tr>\n",
       "  </tbody>\n",
       "</table>\n",
       "</div>"
      ],
      "text/plain": [
       "     0    1    2    3            4\n",
       "0  5.1  3.5  1.4  0.2  Iris-setosa\n",
       "1  4.9  3.0  1.4  0.2  Iris-setosa\n",
       "2  4.7  3.2  1.3  0.2  Iris-setosa\n",
       "3  4.6  3.1  1.5  0.2  Iris-setosa\n",
       "4  5.0  3.6  1.4  0.2  Iris-setosa"
      ]
     },
     "execution_count": 61,
     "metadata": {},
     "output_type": "execute_result"
    }
   ],
   "source": [
    "import pandas as pd\n",
    "df = pd.read_csv('https://archive.ics.uci.edu/ml/'\n",
    "        'machine-learning-databases/iris/iris.data', header=None)\n",
    "df.head()"
   ]
  },
  {
   "cell_type": "markdown",
   "metadata": {},
   "source": [
    "### 1.5 붓꽃 학습자료 시각화\n",
    "\n",
    "Panda DataFrame형식으로 저장되어 있는 세 종류의 붓꽃 150개의 샘플 중에 처음 100개 샘플 즉 세토사와 버시칼라 샘플을 각각 50개씩 읽어오고, 또한 그 샘플 중에 첫번째와 세번째의 특성인 꽃잎과 꽃받침의 길이만 추출하여 시각화하는 코드는 다음과 같습니다. "
   ]
  },
  {
   "cell_type": "code",
   "execution_count": 62,
   "metadata": {},
   "outputs": [
    {
     "data": {
      "image/png": "[encoded data removed]",
      "text/plain": [
       "<Figure size 432x288 with 1 Axes>"
      ]
     },
     "metadata": {},
     "output_type": "display_data"
    },
    {
     "name": "stdout",
     "output_type": "stream",
     "text": [
      "X.shape(100, 2), y.shape(100,)\n"
     ]
    }
   ],
   "source": [
    "%matplotlib inline\n",
    "import matplotlib.pyplot as plt\n",
    "import numpy as np\n",
    "import pandas as pd\n",
    "\n",
    "# read iris data set\n",
    "df = pd.read_csv('https://archive.ics.uci.edu/ml/'\n",
    "        'machine-learning-databases/iris/iris.data', header=None)\n",
    "\n",
    "# select setosa and versicolor\n",
    "y = df.iloc[0:100, 4].values\n",
    "y = np.where(y == 'Iris-setosa', 1, -1)\n",
    "\n",
    "# extract sepal length and petal length\n",
    "X = df.iloc[0:100, [0, 2]].values\n",
    "\n",
    "# plot data\n",
    "plt.scatter(X[:50, 0], X[:50, 1], color='blue', marker='o', label='setosa')\n",
    "plt.scatter(X[50:100, 0], X[50:100, 1], color='orange', marker='x', label='versicolor')\n",
    "\n",
    "plt.xlabel('sepal length [cm]')\n",
    "plt.ylabel('petal length [cm]')\n",
    "plt.legend(loc='best')\n",
    "\n",
    "# plt.savefig('images/setosa_versicolor.png', dpi=300)\n",
    "plt.show()\n",
    "print('X.shape{}, y.shape{}'.format(X.shape, y.shape))"
   ]
  },
  {
   "cell_type": "markdown",
   "metadata": {},
   "source": [
    "__JoyPopQuiz__: X와 y의 shape은 각각 무엇입니까?\n",
    "\n",
    "__JoyPopAnswer__: <br>\n",
    "X: 100 x 2<br>\n",
    "y: 100 x 1"
   ]
  },
  {
   "cell_type": "markdown",
   "metadata": {},
   "source": [
    "__자료 시각화__"
   ]
  },
  {
   "cell_type": "markdown",
   "metadata": {},
   "source": [
    "우리가 지금까지 사용해온 `plot_xyw()` 함수를 이용하여도 간단히 시각화할 수 있습니다. "
   ]
  },
  {
   "cell_type": "code",
   "execution_count": 63,
   "metadata": {},
   "outputs": [
    {
     "data": {
      "image/png": "[encoded data removed]",
      "text/plain": [
       "<Figure size 432x288 with 1 Axes>"
      ]
     },
     "metadata": {},
     "output_type": "display_data"
    }
   ],
   "source": [
    "joy.plot_xyw(X, y, title='iris data', classes=['setosa','versicolor'])"
   ]
  },
  {
   "cell_type": "markdown",
   "metadata": {},
   "source": [
    "### 1.5 붓꽃 학습자료 시각화 \n",
    "\n",
    "특성 자료 축 $x_1, x_2$의 최대값과 최소값을 관찰하며 표준화로 인한 변화를 볼 수 있습니다. "
   ]
  },
  {
   "cell_type": "code",
   "execution_count": 64,
   "metadata": {},
   "outputs": [
    {
     "name": "stdout",
     "output_type": "stream",
     "text": [
      "[[-0.5810659  -1.01435952]\n",
      " [-0.89430898 -1.01435952]\n",
      " [-1.20755205 -1.08374115]]\n"
     ]
    },
    {
     "data": {
      "image/png": "[encoded data removed]",
      "text/plain": [
       "<Figure size 432x288 with 1 Axes>"
      ]
     },
     "metadata": {},
     "output_type": "display_data"
    }
   ],
   "source": [
    "mu, sigma = X.mean(axis=0), X.std(axis=0)\n",
    "Xstd = (X - mu) / sigma\n",
    "print(Xstd[:3])\n",
    "joy.plot_xyw(Xstd, y, title='iris data', classes=['setosa','versicolor'])"
   ]
  },
  {
   "cell_type": "markdown",
   "metadata": {},
   "source": [
    "## 2. AdalineGD 클래스 구현\n",
    "\n",
    "이는 경사하강법을 사용하여 구현한 아달라인(Adaptive Linear Neuron) 이진 분류기를 구현한 클래스이며, 주요 메소드와 인자는 다음과 같습니다. \n",
    "\n",
    "- __init()__: Perceptron 클래스로 마찬가지로`__init()__`함수의 인자는 학습률 eta, 반복횟수 epochs, 난수시드 random_seed입니다. 인스턴스 생성할 때 인자로 전달할 수 있습니다. \n",
    "\n",
    "- __fit()__: 훈련자료로 가중치를 구하는 메소드입니다. 훈련자료 X와 클래스 레이블 y를 인자로 받습니다. 가중치 w를 선택적 인자로 받을 수 있으나, w를 인자를 설정하지 않으면, 작은 난수로 초기화됩니다.\n",
    "    - 출력값 $\\hat{y}$을 계산하는 방식이 Perceptron 클래스와 다른 점을 유의하십시오.  \n",
    "    - 각 샘플마다 출력값 $\\hat{y}$을 구하는 것이 아니라 모든 훈련자료를 for 루프없이 한번에 계산합니다. 각 훈련자료의 오차의 총합을 구하여, 이 오차를 줄이는 방향으로 가중치를 조정합니다. 결과적으로 epochs는 가중치가 조정되는 횟수입니다.  \n",
    "\n",
    "- __net_input()__: 모든 훈련자료의 각 샘플과 가중치를 곱한 값의 총합 z를 계산합니다. \n",
    "- __activation()__: 활성화 함수 역활을 하는 메소드이지만, 여기서는 Identity(아이덴티티)함수를 사용함으로 계산에 아무런 아무 영향을 미치지 않습니다. 코드의 흐름 즉 개념을 보여주기 위해 구현해 둔 것입니다.  나중에 우리가 다룰 로지스틱 회귀를 구현할 때는 Identity함수 대신에 시그모이드 함수를 사용하기 위한 것입니다.  \n",
    "- __predict()__: 노드(뉴론)의 출력값 즉 $\\hat{y}$으로 클래스를 예측하는 메소드입니다. \n",
    "\n"
   ]
  },
  {
   "cell_type": "code",
   "execution_count": 6,
   "metadata": {},
   "outputs": [],
   "source": [
    "# Implementation of  Widrow's Adaptive Linear classifier algorithm\n",
    "# Author: idebtor@gmail.com\n",
    "# 2018.03.21 - Creation\n",
    "class AdalineGD(object):\n",
    "    \"\"\"ADAptive LInear NEuron classifier.\n",
    "    Parameters\n",
    "        eta: float, Learning rate (between 0.0 and 1.0)\n",
    "        epochs: int, Passes over the training dataset.\n",
    "        random_seed : int, Random number generator seed for reproducibility\n",
    "\n",
    "    Attributes\n",
    "        w_ : 1d-array, Weights after fitting.\n",
    "        cost_ : list, Sum-of-squares cost function value in each epoch.\n",
    "    \"\"\"\n",
    "    def __init__(self, eta=0.01, epochs=10, random_seed=1):\n",
    "        self.eta = eta\n",
    "        self.epochs = epochs\n",
    "        self.random_seed = random_seed\n",
    "\n",
    "    def fit(self, X, y):\n",
    "        \"\"\" Fit training data.\n",
    "        Parameters\n",
    "            X: numpy.ndarray, shape=(n_samples, m_features), \n",
    "                Training vectors, where n_samples is the number of samples and\n",
    "                n_features is the number of features.\n",
    "            y : array-like, shape = [n_samples]\n",
    "                Target values.\n",
    "        Returns\n",
    "            self : object\n",
    "        \"\"\"\n",
    "\n",
    "        np.random.seed(self.random_seed)\n",
    "        self.w = np.random.random(size=X.shape[1] + 1)\n",
    "\n",
    "        self.maxy, self.miny = y.max(), y.min()\n",
    "        self.cost_ = []\n",
    "        self.w_ = np.array([self.w])\n",
    "\n",
    "        for i in range(self.epochs):\n",
    "            Z = self.net_input(X)\n",
    "            yhat = self.activation(Z)\n",
    "            errors = (y - yhat)\n",
    "            self.w[1:] += self.eta * np.dot(errors, X)\n",
    "            self.w[0] += self.eta * np.sum(errors)\n",
    "            cost = 0.5 * np.sum(errors**2)\n",
    "            self.cost_.append(cost)\n",
    "            self.w_ = np.vstack([self.w_, self.w]) \n",
    "        return self\n",
    "\n",
    "    def net_input(self, X):            \n",
    "        \"\"\"Compute the value of z, net input  \"\"\"\n",
    "        return np.dot(X, self.w[1:]) + self.w[0]\n",
    "\n",
    "    def activation(self, X):  \n",
    "        \"\"\"Identity activation function: \"\"\"\n",
    "        return X\n",
    "\n",
    "    def predict(self, X):      \n",
    "        \"\"\"Predict the class label with  \"\"\"\n",
    "        mid = (self.maxy + self.miny) / 2\n",
    "        Z = self.net_input(X)\n",
    "        yhat = self.activation(Z)\n",
    "        return np.where(yhat > mid, self.maxy, self.miny)"
   ]
  },
  {
   "cell_type": "markdown",
   "metadata": {},
   "source": [
    "## Adaline GD with Momentum\n",
    "\n",
    "모멘텀은 '운동량'을 뜻이며, 관성이라고 생각할 수 있습니다. 어떤 한 방향으로 움직이던 물체가 힘을 받아 계속해서 같은 방향으로 움직이며 가속되는 물리법칙을 나타내는 것입니다. 반대 방향을 힘을 받는다면 움직임이 줄어드는 현상을 말합니다. 이를 수식으로 표현하면 다음과 같습니다. \n",
    "\n",
    "\n",
    "\\begin{align} \n",
    "v := \\gamma v + \\eta \\frac{\\partial{J(w)}}{\\partial{w}} \n",
    "\\end{align}\n",
    "\n",
    "여기서 새롭게 등장하는 $v$라는 기호는 속력을 나타내는 velocity의 첫글자입니다. 가속도를 나타내는 $\\gamma$(감마)는 특성자료에 따라 다르지만 일반적으로 0.9의 값을 사용합니다. 그러나, 여기 예제에서 사용한 간단한 붓꽃 자료에서는 0.5 정도로 사용해서 무리하게 가속하지 않도록 합니다. 가중치에 따른 오차를 구하는 과정은 이전과 동일하고, 다만 가중치를 조정할 때, 다음과 같이 가중치 조정 값에 속력을 추가하면 됩니다. \n",
    "\n",
    "\\begin{align} \n",
    "\\mathbf{\\Delta w} := \\mathbf{\\Delta w} + v\n",
    "\\end{align}\n"
   ]
  },
  {
   "cell_type": "code",
   "execution_count": 7,
   "metadata": {},
   "outputs": [],
   "source": [
    "#%%writefile code/AdalineGD_Momentum.py\n",
    "# Implementation of  Widrow's Adaptive Linear classifier algorithm\n",
    "# Author: idebtor@gmail.com\n",
    "# 2018.03.21 - Creation\n",
    "\n",
    "class AdalineGD_Momentum(object):\n",
    "    \"\"\"ADAptive LInear NEuron classifier.\n",
    "    Parameters\n",
    "        eta: float, Learning rate (between 0.0 and 1.0)\n",
    "        epochs: int, Passes over the training dataset.\n",
    "        random_seed : int, random funtion seed for reproducibility\n",
    "\n",
    "    Attributes\n",
    "        w_ : 1d-array, Weights after fitting.\n",
    "        cost_ : list, Sum-of-squares cost function value in each epoch.\n",
    "    \"\"\"\n",
    "    def __init__(self, eta=0.01, epochs=10, random_seed=1):\n",
    "        self.eta = eta\n",
    "        self.epochs = epochs\n",
    "        self.random_seed = random_seed\n",
    "\n",
    "    def fit(self, X, y):\n",
    "        \"\"\" Fit training data.\n",
    "        Parameters\n",
    "            X: numpy.ndarray, shape=(n_samples, m_features), \n",
    "                Training vectors, where n_samples is the number of \n",
    "                samples and n_features is the number of features.\n",
    "            y : array-like, shape = [n_samples]\n",
    "                Target values.\n",
    "        Returns\n",
    "            self : object\n",
    "        \"\"\"            \n",
    "        np.random.seed(self.random_seed)\n",
    "        self.w = np.random.random(size=X.shape[1] + 1)\n",
    "            \n",
    "        self.maxy, self.miny = y.max(), y.min()\n",
    "        self.cost_ = []\n",
    "        self.w_ = np.array([self.w])\n",
    "        \n",
    "        \"\"\"Momentum\"\"\"\n",
    "        self.v1 = np.zeros_like(self.w[1:])\n",
    "        self.v2 = np.zeros_like(self.w[0])\n",
    "        gamma = 0.5\n",
    "\n",
    "        for i in range(self.epochs):\n",
    "            yhat = self.activation(self.net_input(X))\n",
    "            errors = (y - yhat)\n",
    "            \n",
    "            self.v1 = gamma * self.v1 + self.eta * np.dot(errors, X)\n",
    "            self.v2 = gamma * self.v2 + self.eta * np.sum(errors)\n",
    "            \n",
    "            self.w[1:] += self.v1 #self.eta * np.dot(errors, X)\n",
    "            self.w[0] += self.v2 #self.eta * np.sum(errors)\n",
    "            cost = 0.5 * np.sum(errors**2)\n",
    "            self.cost_.append(cost)\n",
    "            self.w_ = np.vstack([self.w_, self.w]) \n",
    "        return self\n",
    "\n",
    "    def net_input(self, X):            \n",
    "        \"\"\"Compute the value of z, net input  \"\"\"\n",
    "        return np.dot(X, self.w[1:]) + self.w[0]\n",
    "\n",
    "    def activation(self, X):  \n",
    "        \"\"\"Identity activation function: \"\"\"\n",
    "        return X\n",
    "\n",
    "    def predict(self, X):      \n",
    "        \"\"\"Predict the class label with  \"\"\"\n",
    "        mid = (self.maxy + self.miny) / 2\n",
    "        Z = self.net_input(X)\n",
    "        yhat = self.activation(Z)\n",
    "        return np.where(yhat > mid, self.maxy, self.miny)"
   ]
  },
  {
   "cell_type": "code",
   "execution_count": 8,
   "metadata": {},
   "outputs": [],
   "source": [
    "def fit(self, X, y):         \n",
    "    np.random.seed(self.random_seed)\n",
    "    self.w = np.random.random(size=X.shape[1] + 1)\n",
    "\n",
    "    self.maxy, self.miny = y.max(), y.min()\n",
    "    self.cost_ = []\n",
    "    self.w_ = np.array([self.w])\n",
    "\n",
    "    \"\"\"Momentum\"\"\"\n",
    "    self.v1 = np.zeros_like(self.w[1:])\n",
    "    self.v2 = np.zeros_like(self.w[0])\n",
    "    gamma = 0.5\n",
    "\n",
    "    for i in range(self.epochs):\n",
    "        yhat = self.activation(self.net_input(X))\n",
    "        errors = (y - yhat)\n",
    "\n",
    "        self.v1 = gamma*self.v1 + self.eta*np.dot(errors, X)\n",
    "        self.v2 = gamma*self.v2 + self.eta*np.sum(errors)\n",
    "\n",
    "        self.w[1:] += self.v1 \n",
    "        self.w[0]  += self.v2 \n",
    "        cost = 0.5 * np.sum(errors**2)\n",
    "        self.cost_.append(cost)\n",
    "        self.w_ = np.vstack([self.w_, self.w]) \n",
    "    return self"
   ]
  },
  {
   "cell_type": "markdown",
   "metadata": {},
   "source": [
    "## 3. AdalineGD 클래스 사용 예제\n",
    "\n",
    "우리가 구현한 아달라인 경사하강법 알고리즘에 붓꽃자료를 사용하여 분류를 하고자 합니다. \n",
    "\n",
    "### 3.1 __붓꽃자료 사용 예제__ \n",
    "\n",
    "1. 붓꽃자료(X, y)를 읽어옵니다. \n",
    "2. AdalineGD() 클래스를 호출하여 하나의 인스탄스(ada)를 생성합니다. \n",
    "3. 붓꽃자료로 학습$^{training}$하여 최적의 가중치를 구합니다. (결과는 인스탄스 ada에 저장되어 있습니다)\n",
    "4. 결과를 시각화합니다. \n",
    "\n",
    "이 과정을 다음과 같이 코딩하였습니다. "
   ]
  },
  {
   "cell_type": "code",
   "execution_count": 9,
   "metadata": {},
   "outputs": [
    {
     "data": {
      "image/png": "[encoded data removed]",
      "text/plain": [
       "<Figure size 432x288 with 1 Axes>"
      ]
     },
     "metadata": {},
     "output_type": "display_data"
    }
   ],
   "source": [
    "%matplotlib inline\n",
    "\n",
    "X, y = joy.iris_data()\n",
    "ada = AdalineGD(epochs=10, eta=0.1, random_seed = 1)\n",
    "ada.fit(X, y)\n",
    "joy.plot_xyw(X, y, ada.w, title='iris data', classes=['setosa','versicolor'])"
   ]
  },
  {
   "cell_type": "markdown",
   "metadata": {},
   "source": [
    "시각적으로 결과를 확인하고자 하나 아무 것도 보이질 않습니다. 무엇이 잘못되었는지 추적을 해보아야 합니다.  우리가 가장 먼저할 수 있는 것은 학습 과정에서 추적하여 저장한 `cost_`자료를 시각화해보는 것입니다.  `cost_`는 각 epoch마다 계산한 비용(오차)를 저장해 둔 list 자료 형식입니다.  다음 코드를 참고를 하십시오. "
   ]
  },
  {
   "cell_type": "code",
   "execution_count": 10,
   "metadata": {},
   "outputs": [
    {
     "data": {
      "image/png": "[encoded data removed]",
      "text/plain": [
       "<Figure size 432x288 with 1 Axes>"
      ]
     },
     "metadata": {},
     "output_type": "display_data"
    }
   ],
   "source": [
    "%matplotlib inline\n",
    "import matplotlib.pyplot as plt \n",
    "\n",
    "plt.plot(range(len(ada.cost_)), ada.cost_)\n",
    "plt.xlabel('Epochs')\n",
    "plt.ylabel('Error Squared Sum')\n",
    "plt.show()"
   ]
  },
  {
   "cell_type": "code",
   "execution_count": 11,
   "metadata": {},
   "outputs": [
    {
     "data": {
      "text/plain": [
       "Text(0.5,1,'Adaline: epochs:10, eta:0.1')"
      ]
     },
     "execution_count": 11,
     "metadata": {},
     "output_type": "execute_result"
    },
    {
     "data": {
      "image/png": "[encoded data removed]",
      "text/plain": [
       "<Figure size 432x288 with 1 Axes>"
      ]
     },
     "metadata": {},
     "output_type": "display_data"
    }
   ],
   "source": [
    "plt.plot(range(1, len(ada.cost_) + 1), np.log10(ada.cost_), marker='o')\n",
    "plt.xlabel('Epochs')\n",
    "plt.ylabel('log(Sum-squared-error)')\n",
    "plt.title('Adaline: epochs:{}, eta:{}'.format(ada.epochs, ada.eta))"
   ]
  },
  {
   "cell_type": "markdown",
   "metadata": {},
   "source": [
    "훈련의 반복 횟수가 늘어날 수록 비용(오차)이 감소하지 않고 증가하였다는 것을 알 수 있습니다.  그러면, 이제 무엇을 해야 하죠?  소위 말하는 하이퍼 파라미터$^{hyperparameter}$들 중에서 우리가 조정가능한 것들을 조정해보아야 합니다.  우리가 지금 변화를 시도해볼 수 있는 하이퍼파라미터는 반복횟수 epochs와 학습률 eta뿐입니다. 그런데, epochs를 크게하는 도움이 될 것 같지 않으므로, 학습률을 먼저 조정해볼 수 있습니다.  "
   ]
  },
  {
   "cell_type": "markdown",
   "metadata": {},
   "source": [
    "### 3.2 학습률의 선택\n",
    "\n",
    "이제 학습률을 작게 해보거나 더 크게 해보십시오. 예를 들면, 0.5, 0.2, 0.1, 0.01, 0.001, 0.0001, 0.0005 입니다. 어느 학습률이 가장 좋은 결과를 나타냅니까?  \n",
    "\n",
    "쉽지 않은 문제입니다. 체계적이고 합리적인 방법으로 답을 찾아야 하지만 그렇지 못하고 우리의 경험에 기초하여, 직관적으로 혹은 다양한 방법을 시도해보면서 답을 찾아가는 방법(휴리스틱$^{heuristic}$)도 우리가 기계학습을 하면서 흔히 겪는 문제입니다.  이런 휴리스틱도 가능한 줄여 가도록 하는 것이 기계 학습에서 당면한 과제입니다. \n",
    "\n",
    "다음은 학습률 0.1과 0.0001일 경우의 실행 결과를 보여줍니다.  여기서 우리가 선택한 학습률 0.1의 경우는 비용함수가 수렴하지 않고 발산하는 것을 관찰할 수 있습니다. 반면에 학습률이 0.0001인 경우에는 비용함수에서 전역 최저점을 찾기 위해서는 반복횟수를 늘려야 한다는 것을 알 수 있습니다.   "
   ]
  },
  {
   "cell_type": "code",
   "execution_count": 12,
   "metadata": {},
   "outputs": [
    {
     "data": {
      "text/plain": [
       "Text(0.5,1,'Adaline w/o Momentum, eta:0.0001')"
      ]
     },
     "execution_count": 12,
     "metadata": {},
     "output_type": "execute_result"
    },
    {
     "data": {
      "image/png": "[encoded data removed]",
      "text/plain": [
       "<Figure size 432x288 with 1 Axes>"
      ]
     },
     "metadata": {},
     "output_type": "display_data"
    }
   ],
   "source": [
    "%matplotlib inline\n",
    "import numpy as np\n",
    "import matplotlib.pyplot as plt \n",
    "import joy\n",
    "\n",
    "X, y = joy.iris_data()\n",
    "ada1 = AdalineGD(epochs=10, eta=0.0001, random_seed=1).fit(X,y)\n",
    "plt.plot(range(1, len(ada1.cost_) + 1), ada1.cost_, marker='o')\n",
    "plt.xlabel('Epochs')\n",
    "plt.ylabel('Sum of Squared Error')\n",
    "plt.title('Adaline w/o Momentum, eta:{}'.format(ada1.eta))"
   ]
  },
  {
   "cell_type": "markdown",
   "metadata": {},
   "source": [
    "### 3.3 모멘텀 추가한 결과 값 비교하기 \n",
    "\n",
    "강의 영상에서 이미 우리가 관찰했듯이, 여기 예제에서 사용한 붓꽃 자료는 모멘텀을 추가한 것이 이진 분류 모델의 결과에 어떤 차이를 만들어내는지 시각적으로 구별하기 어려울 정도였습니다.  붓꽃 자료에 모멘텀을 적용한 경우와 그렇하지 않은 경우를 각각 그래프로 나타낸 후 우리 자신이 시각적으로 그 차이를 비교하는 코드와 결과가 여기 있습니다. 두 경우 모두 학습률 eta를 작게 설정한 것은 결과를 서로 비교 가능하도록 하기 위함입니다.   "
   ]
  },
  {
   "cell_type": "code",
   "execution_count": 13,
   "metadata": {
    "scrolled": true
   },
   "outputs": [
    {
     "data": {
      "image/png": "[encoded data removed]",
      "text/plain": [
       "<Figure size 720x288 with 2 Axes>"
      ]
     },
     "metadata": {},
     "output_type": "display_data"
    }
   ],
   "source": [
    "X, y = joy.iris_data()\n",
    "\n",
    "fig, ax = plt.subplots(nrows=1, ncols=2, figsize=(10, 4))\n",
    "ada1 = AdalineGD(epochs=10, eta=0.0001, random_seed=1).fit(X,y)\n",
    "ax[0].plot(range(1, len(ada1.cost_) + 1), ada1.cost_, marker='o')\n",
    "ax[0].set_xlabel('Epochs')\n",
    "ax[0].set_ylabel('Sum of Squared Error')\n",
    "ax[0].set_title('Adaline w/o Momentum, eta:{}'.format(ada1.eta))\n",
    "\n",
    "ada2 = AdalineGD_Momentum(epochs=10, eta=0.0001, random_seed=1).fit(X, y)\n",
    "ax[1].plot(range(1, len(ada2.cost_) + 1), ada2.cost_, marker='o')\n",
    "ax[1].set_xlabel('Epochs')\n",
    "ax[1].set_title('Adaline With Momentum, eta:{}'.format(ada1.eta))\n",
    "plt.show()"
   ]
  },
  {
   "cell_type": "markdown",
   "metadata": {},
   "source": [
    "### 3.4 모멘텀 추가한 결과를 한 그래프에서 비교하기\n",
    "\n",
    "이 과제의 목적은 모멘텀을 적용한 경우와 적용하지 않은 경우를 서로 한 그래프에서 비교할 수 있도록 출력하는 그래프 코드입니다.  좀더 상세한 비교를 위해 학습률($\\eta = 0.00005$)을 좀 더 작게 설정하였습니다.  "
   ]
  },
  {
   "cell_type": "code",
   "execution_count": 20,
   "metadata": {},
   "outputs": [
    {
     "data": {
      "image/png": "[encoded data removed]",
      "text/plain": [
       "<Figure size 360x288 with 1 Axes>"
      ]
     },
     "metadata": {},
     "output_type": "display_data"
    }
   ],
   "source": [
    "X, y = joy.iris_data()\n",
    "\n",
    "fig, ax = plt.subplots(nrows=1, ncols=1, figsize=(5, 4))\n",
    "ada1 = AdalineGD(epochs=10, eta=0.00005, random_seed=1).fit(X,y)\n",
    "ada2 = AdalineGD_Momentum(epochs=10, eta=0.00005, random_seed=1).fit(X, y)\n",
    "ax.plot(range(1, len(ada2.cost_) + 1), ada2.cost_, marker='s', label='with Momentum')\n",
    "ax.plot(range(1, len(ada1.cost_) + 1), ada1.cost_, marker='x', label='w/o Momentum')\n",
    "ax.set_xlabel('Epochs')\n",
    "ax.set_ylabel('Sum of Squared Error')\n",
    "ax.set_title('Adaline & Momentum')\n",
    "ax.legend(loc='best')\n",
    "plt.show()"
   ]
  },
  {
   "cell_type": "code",
   "execution_count": 11,
   "metadata": {},
   "outputs": [
    {
     "data": {
      "image/png": "[encoded data removed]",
      "text/plain": [
       "<Figure size 432x288 with 1 Axes>"
      ]
     },
     "metadata": {},
     "output_type": "display_data"
    }
   ],
   "source": [
    "%matplotlib inline\n",
    "import matplotlib.pyplot as plt \n",
    "\n",
    "plt.plot(range(1, len(ada2.cost_) + 1), ada2.cost_, marker='o')\n",
    "plt.xlabel('Epochs')\n",
    "plt.ylabel('Sum-squared-error')\n",
    "plt.title('Without Momentum')\n",
    "plt.show()"
   ]
  },
  {
   "cell_type": "markdown",
   "metadata": {
    "collapsed": true
   },
   "source": [
    "### 3.2 __붓꽃자료의 전처리__\n",
    "\n",
    "기계학습에서 자료를 다음과 같은 방법으로 전처리$^{preprocessing}$를 함으로 학습의 속도를 높이거나 비교 분석을 용이하게 합니다. \n",
    "좀 더 자세한 자료는 다음을 참고하십시오: [About Feature Scaling and  Normalization](http://sebastianraschka.com/Articles/2014_about_feature_scaling.html) "
   ]
  },
  {
   "cell_type": "markdown",
   "metadata": {},
   "source": [
    "- 표준화$^{standardization}$\n",
    "\n",
    "    특성자료의 분포가 평균이 0이 되고($\\mu = 0$), 표준편차($\\sigma = 1$)가 1인 표준정규분포 $N(0, 1)$가 되도록 조정하는 것을 표준화(또는 z-score normalization)이라고 합니다.  \n",
    "    \n",
    "    \\begin{align}\n",
    "         z &= \\frac{x - \\mu}{\\sigma}  \\\\\n",
    "         \\mu &= \\frac{1}{N} \\sum_{i=1}^N (x_i)  \\\\\n",
    "         \\sigma &= \\sqrt{\\frac{1}{N} \\sum_{i=1}^N (x_i - \\mu)^2}\n",
    "    \\end{align}"
   ]
  },
  {
   "cell_type": "markdown",
   "metadata": {},
   "source": [
    "- 정규화$^{normalization}$ 혹은 최소-최대 스케일링$^{Min-Max \\ scaling}$\n",
    "\n",
    "    특성자료의 값들이 모두 0와 1에 오도록 전처리하는 것인데, 정규화 방법은 다음과 같습니다. \n",
    "    \n",
    "    \\begin{align}\n",
    "        X_{norm} = \\frac{X - X_{min}}{X_{max}-X_{min}}\n",
    "    \\end{align}"
   ]
  },
  {
   "cell_type": "markdown",
   "metadata": {},
   "source": [
    "## 8-1 학습 정리\n",
    "- 경사하강법을 적용하여 가중치 조정하기\n",
    "- 스텝의 방향과 스텝의 크기(∆𝑤)\n",
    "- 학습률의 크기\n",
    "- 아달라인 알고리즘 구현하기\n",
    "\n",
    "## 8-2 학습 정리\n",
    "- 붓꽃 학습자료를 이해하기\n",
    "- 아달라인 객체 생성과 테스트\n",
    "- 지역 최소, 전역 최소\n",
    "- 모멘텀\n"
   ]
  },
  {
   "cell_type": "markdown",
   "metadata": {},
   "source": [
    "----------------\n",
    "_For God so loved the world that he gave his one and only Son, that whoever believes in him shall not perish but have eternal life. John3:16_"
   ]
  }
 ],
 "metadata": {
  "kernelspec": {
   "display_name": "Python 3 (ipykernel)",
   "language": "python",
   "name": "python3"
  },
  "language_info": {
   "codemirror_mode": {
    "name": "ipython",
    "version": 3
   },
   "file_extension": ".py",
   "mimetype": "text/x-python",
   "name": "python",
   "nbconvert_exporter": "python",
   "pygments_lexer": "ipython3",
   "version": "3.8.12"
  }
 },
 "nbformat": 4,
 "nbformat_minor": 2
}
