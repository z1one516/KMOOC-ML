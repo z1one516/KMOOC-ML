{
 "cells": [
  {
   "cell_type": "markdown",
   "metadata": {},
   "source": [
    "예수께서 대답하여 이르시되 기록되었으되 사람이 떡으로만 살 것이 아니요 하나님의 입으로부터 나오는 모든 말씀으로 살 것이라 하였느니라 하시니 (마4:4)\n",
    "\n",
    "<center><img src=\"https://github.com/idebtor/KMOOC-ML/blob/master/ipynb/images/MLwithPython.png?raw=true\" width=1000></center>\n",
    "\n",
    "__NOTE:__ The following materials have been compiled and adapted from the numerous sources including my own. Please help me to keep this tutorial up-to-date by reporting any issues or questions. Send any comments or criticisms to `idebtor@gmail.com` Your assistances and comments will be appreciated."
   ]
  },
  {
   "cell_type": "markdown",
   "metadata": {},
   "source": [
    "# 제 3-2 강: 미분\n",
    "\n",
    "- 학습 목표\n",
    "    - 미분 계수를 이해한다\n",
    "    - 여러가지 미분법을 이해한다\n",
    "    - 미분을 통한 최대, 최소 구하는 법을 이해한다\n",
    "    \n",
    "- 학습 내용\n",
    "    - 미분 계수\n",
    "    - 여러 가지 함수의 미분법\n",
    "    - 최대/최소"
   ]
  },
  {
   "cell_type": "markdown",
   "metadata": {},
   "source": [
    "## 1. 미분계수\n",
    "\n",
    "기계학습을 공부하다보면, 많은 사람들이 복잡한 수식에 포기를 하게 됩니다. 수학이 없는 기계학습을 공부하려고 합니다. 그러나 기계학습을 제대로 이해하기 위해서어느정도 수학을 알고 있어야 합니다. 그러나 다행인 것은, 너무 어려운 수학을 알 필요는 없다는 것입니다. 우리는 앞에서 배운 행렬연산들과 간단한 미분에 대해서만 알고 있어도 충분합니다. 앞에서 행렬 연산을 배우면서 느끼셨겠지만, 행렬의 매우 기본적인 것만 알아도 되듯이, 미분에서도 매우 기본적인 것들만 이해하시면 됩니다. 이번 강의에서는 미분이 무엇인지와 여러 함수들의 미분에 대해 간단하게 배우고 넘어가도록 하겠습니다. "
   ]
  },
  {
   "cell_type": "markdown",
   "metadata": {},
   "source": [
    "### 1.1 기울기\n",
    "\n",
    "수학에서 기울기는 변화율을 나타냅니다. x, y 좌표 상에서 직선의 기울기를 통해, x값에 따른 y의 변화율을 알 수 있는 것이지요. 변화율은 왜 중요할까요? 세상에 있는 모든 것은 지속적으로 변합니다. 변화율을 알고 있으면, 그 이후에 있을 일들에 대해 어느정도 예측할 수 있다는 것이 가장 큰 장점입니다. 가령 날씨를 예를 들어 볼때, 어느 날동안의 날씨의 변화율을 알고 있다면, 우리는 실수로 우산을 안챙겨가 소나기에 머리가 젖는 일은 없겠지요. 이렇듯 우리는 우리가 보이는 현상을 수학으로 나타내기 원하고, 보이는 현상의 변화를 예측하고 싶어합니다. 변화율을 알기 위해, 즉 기울기를 알기 위해서는 어떻게 해야할까요? \n",
    "\n",
    "#### 1.1.1 직선의 기울기\n",
    "2차원 좌표계에서 직선을 나타내는 직선이 있을 때, 우리는 그 직선의 기울기를 쉽게 알 수 있습니다. 직선의 방정식을 알고 있을 때에는 x의 계수를 구하거나, 직선 위의 두 점의 좌표를 알 때에는 두 점을 이용하여 기울기를 구할 수 있습니다. "
   ]
  },
  {
   "cell_type": "markdown",
   "metadata": {},
   "source": [
    "<center><img src=\"https://github.com/idebtor/KMOOC-ML/blob/master/ipynb/images/ch3/straight_line.png?raw=true\" width=400></center>\n",
    "<center>그림 1: 직선의 기울기</center>"
   ]
  },
  {
   "cell_type": "markdown",
   "metadata": {},
   "source": [
    "그림 1 그래프 왼쪽에 직선의 방정식 $f(x) = -2x+5$에서 $x$의 계수는 -2이므로, 해당 직선의 기울기는 -2입니다. 그림 1의 그래프에서 2 점의 좌표 (0, 5), (-5/2, 0)을 이용하여 직선의 기울기를 구하면\n",
    "\\begin{align}\n",
    "기울기(d) = \\frac{0 - \\frac{5}{2}}{5 - 0} = 2\n",
    "\\end{align}\n",
    "로 -2 인 것을 알 수 있습니다. "
   ]
  },
  {
   "cell_type": "markdown",
   "metadata": {},
   "source": [
    "#### 1.1.2 평균 변화율\n",
    "직선에서의 기울기는 쉽게 구할 수 있습니다. 그러나 곡선에서의 기울기는 어떻게 구해야 할까요? 다른 말로, x, y 좌표계에 나타난 곡선의 x에 따른 y의 변화율을 어떻게 구할 수 있을까요? 곡선을 나타내는 방정식은 $x$의 계수가 기울기가 되지 않습니다. 또한 두 점의 좌표를 안다고 곡선의 전체 기울기 즉, 변화율을 알 수 없지요. 그러나, 곡선의 평균 변화율을 구하거나, 순간 변화율을 구하는 것은 가능합니다. 곡선은 이 둘을 이용하여 x 값에 따른 y의 변화율을 측정합니다.\n",
    "\n",
    "평균변화율은 곡선의 $x_1$에서부터 $x_2$까지의 $y$의 평균적인 변화율을 나타냅니다. 평균변화율을 구하기 위해서는 곡선에서의 서로 다른 두 점의 좌표를 알아야 합니다."
   ]
  },
  {
   "cell_type": "markdown",
   "metadata": {},
   "source": [
    "<center><img src=\"https://github.com/idebtor/KMOOC-ML/blob/master/ipynb/images/ch3/average_rate_change.png?raw=true\" width=350></center>\n",
    "<center>그림 2: 평균 변화율 </center>"
   ]
  },
  {
   "cell_type": "markdown",
   "metadata": {},
   "source": [
    "곡선 $f(x)$의 $x_1$부터 $x_2$까지의 평균 변화율을 구하는 공식은 다음과 같습니다. \n",
    "\n",
    "\\begin{align}\n",
    "평균 변화율 = \\frac{f(x_2)-f(x_1)}{x_2 - x_1}\n",
    "\\end{align}\n",
    "\n",
    "만약,  $f(x)$가 $x^{2}$이고, $x_1$의 값이 1, $x_2$의 값이 3일 경우, $f(x)$의 1부터 3까지의 평균 변화율은 4가 됩니다."
   ]
  },
  {
   "cell_type": "markdown",
   "metadata": {},
   "source": [
    "#### 1.1.3 순간 변화율\n",
    "순간 변화율은 곡선의 $x_1$지점에서 $y$값의 순간적인 변화율을 나타냅니다. 이를 어떻게 구할 수 있을까요? 평균변화율을 구하는 과정에서 쉽게 힌트를 얻을 수 있습니다. 순간 변화율이 한 지점에서의 변화율을 나타내므로, 평균 변화율에서 $x_2$를 $x_1$ 지점에 가깝게 만들다 보면, 그래프의 $x_1$에서의 순간 변화율을 얻을 수 있습니다.\n",
    "\n",
    "이 때, 그려지는 직선을 곡선의 $x_1$에서의 __접선 $f'(x)$__이라고 부릅니다. 접선의 기울기가 곡선 $f(x)$의 $x_1$지점에서 $y$값의 순간 변화율이 되는 것이지요."
   ]
  },
  {
   "cell_type": "markdown",
   "metadata": {},
   "source": [
    "<center><img src=\"https://github.com/idebtor/KMOOC-ML/blob/master/ipynb/images/ch3/instantaneous_rate_of_change.png?raw=true\" width=350></center>\n",
    "<center>그림 3: 순간 변화율</center>"
   ]
  },
  {
   "cell_type": "markdown",
   "metadata": {},
   "source": [
    "### 1.2 미분계수"
   ]
  },
  {
   "cell_type": "markdown",
   "metadata": {},
   "source": [
    "순간 변화율을 통해 얻은 접선의 기울기는 어떻게 구할까요? 이는 함수의 극한을 이용해야 합니다. 위의 그림 3에서 순간 변화율을 구하기 위해서는 $x_2$값을 $x_1$이 될 때까지 값을 줄여나갔습니다. 이를 수식으로 나타내면 다음과 같습니다.\n",
    "\n",
    "\\begin{align}\n",
    "\\lim_{x_2 \\to x_1} \\frac{f(x_2)-f(x_1)}{x_2 - x_1} = f'(x_1)\n",
    "\\end{align}\n",
    "\n",
    "만약 이 극한 값이 존재한다면, 그 값이 $(x_1, f(x_1))$ 에서의 접선의 기울기라는 것인데, 이 값을 $f'(x_1)$이라 쓰고, $x_1$에서의 함수 $f(x)$의 미분계수라고 부릅니다. \n",
    "\n",
    "\n"
   ]
  },
  {
   "cell_type": "markdown",
   "metadata": {},
   "source": [
    "### 1.3 미분가능성"
   ]
  },
  {
   "cell_type": "markdown",
   "metadata": {},
   "source": [
    "이제, 직선 뿐만이 아니라, 곡선의 변화율에 대해서도 알 수 있게 되었습니다. 조심해야 할 것은, 모든 함수의 변화율을 쉽게 알면 좋겠지만, 미분계수를 구할 수 없는 함수들이 있습니다. 예를 들어 아래와 같은 그래프가 주어졌다고 할 때, $x = 0$에서 미분계수를 구할 수 없습니다. "
   ]
  },
  {
   "cell_type": "markdown",
   "metadata": {},
   "source": [
    "<center><img src=\"https://github.com/idebtor/KMOOC-ML/blob/master/ipynb/images/ch3/not_differential.png?raw=true\" width=300></center>\n",
    "<center>그림 4: 미분 불가능한 함수</center>"
   ]
  },
  {
   "cell_type": "markdown",
   "metadata": {},
   "source": [
    "왜 그럴까요? 미분 계수를 구하는 공식을 바탕으로 설명을 드리겠습니다. 미분 계수를 구하려면, 아래 수식의 __극한 값이 존재해야 합니다__.\n",
    "\n",
    "\\begin{align}\n",
    "\\lim_{x_2 \\to x_1} \\frac{f(x_2)-f(x_1)}{x_2 - x_1} = f'(x_1)\n",
    "\\end{align}\n",
    "\n",
    "만약 $x_1$이 0이고 $x_2$가 0에 가까이 간다고 했을 때, 두 가지 경우가 발생할 수 있습니다. $x_2$가 0보다 큰 값에서 $x_1$에 접근할 때와 $x_2$가 0보다 작은 값에서 $x_1$에 접근할 때입니다. \n",
    "\n",
    "$x_2$가 0보다 큰 값에서 $x_1$에 접근할 경우, $f(x) = x$이지만, $x_2$가 0보다 작은 값에서 $x_1$에 접근할 경우, $f(x) = -x$이기 때문입니다. 즉, 극한 값이 2개가 나오므로, 극한이 존재하지 않게 되고, x=0에서의 미분 계수는 존재하지 않게 되는 것이지요.\n"
   ]
  },
  {
   "cell_type": "markdown",
   "metadata": {},
   "source": [
    "## 2. 여러 가지 함수의 미분법\n",
    "\n",
    "이제 여러 가지 함수들의 미분법에 대해 설명하겠습니다. 여러 가지 함수라고 해봤자, 기계학습에서 주로 나오는 간단한 함수들의 미분을 다룰 것입니다. 복잡한 함수의 미분은 결국 간단한 함수들의 미분으로 이루어져있기 때문에, 기본적인 함수들의 미분을 알고 있으면 나중에 복잡한 함수의 미분도 손쉽게 할 수 있을 것입니다. "
   ]
  },
  {
   "cell_type": "markdown",
   "metadata": {},
   "source": [
    "### 2.1 기본적인 미분법"
   ]
  },
  {
   "cell_type": "markdown",
   "metadata": {},
   "source": [
    "우선 기본적인 함수들의 미분공식은 다음과 같습니다. 아래 수식에서 c는 상수입니다.\n",
    "- $f(x) = c$ 이면,   $f'(x) = 0$ 입니다.\n",
    "- $f(x) = cg(x)$ 이면,  $f'(x) = cg'(x)$ 입니다.\n",
    "- $f(x) = g(x) \\pm t(x)$ 이면,  $f'(x) = g'(x) \\pm t'(x)$ 입니다.\n",
    "- $f(x) = g(x)t(x)$ 이면,  $f'(x) = g'(x)t(x) + g(x)t'(x)$ 입니다.\n",
    "- $f(x) = \\frac{t(x)}{g(x)}$ 이면,  $f'(x) = \\frac{t'(x)g(x) - t(x)g'(x)}{g(x)^{2}}$ 입니다.\n",
    "- $f(x) = x^{n}$ 이면,   $f'(x) = nx^{n-1}$ 입니다."
   ]
  },
  {
   "cell_type": "markdown",
   "metadata": {},
   "source": [
    "### 2.2 합성함수의 미분법"
   ]
  },
  {
   "cell_type": "markdown",
   "metadata": {},
   "source": [
    "합성함수를 미분하기 위해서는 합성된 함수 모두 미분 가능해야 합니다. 즉, $t = f(x)$, $u = g(x)$일 때, 합성함수 $y = f(g(x))$가 미분 가능하기 위해서는 $f(x)$와 $g(x)$모두 미분가능해야 합니다. \n",
    "\n",
    "합성함수를 미분하기 위해서는 합성함수를 직접 구할 필요는 없습니다. 단순히, 합성된 함수의 도함수만을 이용하면 됩니다. 합성함수 $y = f(g(x))$를 미분하는 공식은 다음과 같습니다.\n",
    "\n",
    "${f(g(x))}' = f'(g(x)) \\times g'(x)$\n",
    "\n",
    "예를 들어, $f(x) = 1 / x$ 와 $g(x) = 1 + e^{-x}$인 두 함수의 합성함수 $f(g(x)) = \\frac{1}{1 + e^{-x}}$가 있다고 생각해 봅시다. 이 합성함수의 미분은 다음과 같이 진행하면 됩니다.\n",
    "\n",
    "\\begin{align}\n",
    "\\\\f'(x) = \\frac{-1}{x^{2}} \n",
    "\\\\f'(g(x)) = \\frac{-1}{g(x)^{2}} \n",
    "\\\\f'(g(x)) = \\frac{-1}{(1+e^{-x})^{2}} \n",
    "\\\\\n",
    "\\\\g'(x) = -e^{-x}\n",
    "\\\\\n",
    "\\\\{f(g(x))}' = f'(g(x))g'(x)\n",
    "\\\\{f(g(x))}' = \\frac{1}{(1+e^{-x})^{2}} e^{-x}\n",
    "\\end{align}\n",
    "\n",
    "한 스텝 한 스텝 차근차근 진행하면 어렵지 않다는 것을 알 수 있을 것입니다. "
   ]
  },
  {
   "cell_type": "markdown",
   "metadata": {},
   "source": [
    "### 2.3 삼각함수의 미분법"
   ]
  },
  {
   "cell_type": "markdown",
   "metadata": {},
   "source": [
    "인공 뉴론의 활성화 여부를 따지는 함수를 삼각함수로 이용하여 나타내는 경우가 있습니다. 우리는 이러한 함수의 미분또한 할 줄 알아야 합니다. 여러 삼각함수들의 미분 공식은 다음과 같습니다.\n",
    "- $f(x) = \\sin x$ 이면,  $f'(x) = \\cos x$ 입니다.  \n",
    "- $f(x) = \\cos x$ 이면,  $f'(x) = -\\sin x$ 입니다.  \n",
    "- $f(x) = \\tan x$ 이면,  $f'(x) = \\sec ^{2}x$ 입니다.  \n",
    "- $f(x) = \\sec x$ 이면,  $f'(x) = \\sec x \\tan x$ 입니다.  \n",
    "- $f(x) = \\csc x$ 이면,  $f'(x) = -\\csc x \\cot x$ 입니다.  \n",
    "- $f(x) = \\cot x$ 이면,  $f'(x) = -\\csc ^{2} x$ 입니다.  \n"
   ]
  },
  {
   "cell_type": "markdown",
   "metadata": {},
   "source": [
    "### 2.4 로그함수의 미분법"
   ]
  },
  {
   "cell_type": "markdown",
   "metadata": {},
   "source": [
    "로그함수를 미분하기 위해서는 합성함수와 같이 조건이 있습니다. $a>0$이고, $a\\neq1$, 이고 $x>0$인 $\\log_a x$에 대해서만 미분 가능합니다. \n",
    "로그함수를 미분하는 공식은 다음과 같습니다.\n",
    "\n",
    "- $f(x) = \\log_a x$ 이면,  $f'(x) = \\frac{1}{x\\ln a}$ 입니다.\n",
    "- $f(x) = \\ln x$ 이면,  $f'(x) = \\frac{1}{x}$ 입니다.\n",
    "\n",
    "$\\ln x$의 경우,  $\\log_a x$에서 $a$를 $e$로 바꾼 것 뿐이지만, 너무나도 자주 사용하는 함수의 미분이라 공식에 넣었습니다. "
   ]
  },
  {
   "cell_type": "markdown",
   "metadata": {},
   "source": [
    "### 2.5 지수함수의 미분법"
   ]
  },
  {
   "cell_type": "markdown",
   "metadata": {},
   "source": [
    "로그함수와 마찬가지로 지수함수를 미분하기 위해서는 조건이 있습니다. $a>0$이고, $a\\neq1$인 $a^{x}$에 대해서만 미분가능합니다. 지수함수를 미분하는 공식은 다음과 같습니다.\n",
    "\n",
    "- $f(x) = a^{x}$ 이면, $f'(x) = a^{x}\\ln a$ 입니다.\n",
    "- $f(x) = e^{x}$ 이면, $f'(x) = e^{x}$ 입니다.\n",
    "\n",
    "$e^{x}$의 경우, 지수함수에서 밑을 $a$에서 $e$로 바꾼 것 뿐이지만, 너무나도 자주 사용하는 함수의 미분이라 공식에 넣었습니다. "
   ]
  },
  {
   "cell_type": "markdown",
   "metadata": {},
   "source": [
    "### 2.6 편미분"
   ]
  },
  {
   "cell_type": "markdown",
   "metadata": {},
   "source": [
    "지금까지는 하나의 변수에 대해서만 미분을 다루었습니다. 그러나, 함수의 값을 결정하는데 하나의 변수만으로 결정되지 않고, 여러 값들로 결정되는 경우가 있습니다. 앞에서 배운 인공뉴론의 경우도, 하나의 입력값이 아닌, 여러 개의 입력값으로 하나의 출력값을 결정짓는 것 처럼 말이지요. 그렇다면 이러한 함수들의 미분은 어떻게 해야 할까요? "
   ]
  },
  {
   "cell_type": "markdown",
   "metadata": {},
   "source": [
    "편미분은 말에서도 알 수 있듯이, 부분적으로 미분을 하는 방법입니다. 여러 개의 변수로 이루어진 함수에서 하나의 변수를 기준으로 미분하고 나머지 변수들은 상수처럼 취급하여 미분을 하는 방법을 말합니다. \n",
    "\n",
    "편미분을 하는 방법은 간단합니다. $f(x, y)$가 주어졌을 때에, $x$에 대해서 편미분을 하고 싶다면, $y$는 상수 취급하여 $f(x, y)$를 $x$에 대하여 미분을 진행하면 됩니다. 만약 $y$에 대해서 편미분을 하고 싶다면, $x$는 상수 취급하여, $f(x, y)$를 $y$에 대하여 미분을 진행하면 됩니다.\n",
    "\n",
    "간단한 예시로, $f(x, y) = x^{2} + xy + y^{2}$라는 함수가 주어졌을 때, x에 대해 편미분을 수행한 결과와 y에 대해 편미분을 수행한 결과는 아래와 같습니다.\n",
    "\n",
    "- x 에 대해 편미분 : $f_x(x, y) = 2x + y$\n",
    "- y 에 대해 편미분 : $f_y(x, y) = 2y + x$\n",
    "\n",
    "조금 실용적인 예제로, 제품의 첫번째 재료 가격 $x$와 제품의 두 번째 재료 가격을 나타내는 $y$에 따른 전체 생산 가격을 결정하는 함수 $g(x, y)$가 존재한다고 가정해봅시다. 함수 $g(x, y)$가 다음과 같은 식을 가진다고 할 때, $g(x, y) = 9000y^{2} + 800x^{2} - 16000x$ 에러가 발생할 수 있는 확률에 따른 가격 변동은 어떤지 알아보려고 합니다. $x$에 대해 편미분을 수행하면, $g'(x, y) = 1600x - 16000$이라는 수식을 얻으며, 첫 번째 재료의 가격이 10 일 경우, 생산 가격이 가장 낮다는 것을 알 수 있습니다. "
   ]
  },
  {
   "cell_type": "markdown",
   "metadata": {},
   "source": [
    "## 3. 최대 / 최소"
   ]
  },
  {
   "cell_type": "markdown",
   "metadata": {},
   "source": [
    "미분이 무엇인지와 여러 함수의 미분법에 대해서 공부했습니다. 우리가 미분을 공부하는 이유는 변화율을 알기 위해서라고 했습니다. 이 변화율을 알면 미래를 어느정도 에측하는 것도 알수 있지만, 또 다른 좋은 점으로, 언제 함수가 최대와 최소를 이루는지 또한 알 수 있게 됩니다. \n",
    "\n",
    "이를 통해, 위에서 간단한 예제로 들었듯이 공장에서 생산 가격을 가장 최소로 낮추는 방법은 무엇인지에 대해 알 수 있습니다. 기계학습의 경우, 인공신경망을 구축하고 이를 학습 시키는데 있어서, 기대한 값과 실제 출력 값 사이의 오차를 최소로 낮추는 가중치 값을 미분을 통해 알 수 있습니다.\n",
    "\n",
    "인공신경망을 구축하는데 오차 최소 값을 찾기 위한 과정은 뒤에서 자세히 설명할 예정입니다. 이번에는 간단하게 미분을 통해 최대와 최소를 찾을 수 있다는 것에 대해 알고 가면 됩니다. "
   ]
  },
  {
   "cell_type": "markdown",
   "metadata": {},
   "source": [
    "가장 간단한 함수로, 이차함수 $f(x) = x^{2} - 2x$의 최소 값을 구하고자 합니다. 이 이차함수를 그래프로 그리면 아래 그림과 같습니다. "
   ]
  },
  {
   "cell_type": "markdown",
   "metadata": {},
   "source": [
    "<center><img src=\"https://github.com/idebtor/KMOOC-ML/blob/master/ipynb/images/ch3/quadratic_function.png?raw=true\" width = 350></center>\n",
    "<center>그림 5: 이차함수 $f(x) = x^{2} - 2x$</center>"
   ]
  },
  {
   "cell_type": "markdown",
   "metadata": {},
   "source": [
    "그림 5. 이차함수는 1에서 최소 값을 갖는 다는 것을 직관적으로 알 수 있습니다. 확인할 수 있는 방법은 하나하나 값을 대입해보는 수 밖에 없지요. 간단한 함수에서는 이처럼 하나하나 값을 대입해 봄으로써 함수의 최소 혹은 최대 값을 알 수 있지만, 그렇지 않은 경우, 일일이 값을 대입하기는 매우 힘든 일이 됩니다. 이를 위해 우리는 미분을 사용할 것입니다. \n",
    "\n",
    "곡선의 순간변화율을 이용하면 최소 값을 찾는대 훨씬 수월해집니다. 이차함수 $f(x) = x^{2} - 2x$를 미분하면, $f'(x) = 2x - 2$가 됩니다. 이를 그래프로 그리면 아래와 같습니다. "
   ]
  },
  {
   "cell_type": "markdown",
   "metadata": {},
   "source": [
    "<center><img src=\"https://github.com/idebtor/KMOOC-ML/blob/master/ipynb/images/ch3/quadratic_function_diff.png?raw=true\" width=200></center>\n",
    "<center>그림 6: $f'(x) = 2x - 2$</center>"
   ]
  },
  {
   "cell_type": "markdown",
   "metadata": {},
   "source": [
    "$f'(x) = 2x - 2$는 1을 기점으로 음수와 양수로 나누어 지는 것을 볼 수 있습니다. $f'(x)$의 값이 0보다 크다는 것은 무엇을 의미할까요? 곡선에서 순간 변화율, 즉 접선의 기울기가 0보다 크다는 것입니다. 만약 $f'(x)$의 값이 0보다 작으면 무엇을 의미할까요? 곡선에서의 순간 변화율, 즉 접선의 기울기가 0보다 작다는 것을 의미합니다."
   ]
  },
  {
   "cell_type": "markdown",
   "metadata": {},
   "source": [
    "<center><img src=\"https://github.com/idebtor/KMOOC-ML/blob/master/ipynb/images/ch3/three_quadratic_diff.png?raw=true\" width=700></center>\n",
    "<center>그림 7: $f'(x)$ 값의 부호의 의미</center>"
   ]
  },
  {
   "cell_type": "markdown",
   "metadata": {},
   "source": [
    "그렇다면 $f'(x)$의 값이 0보다 작다가 0을 거쳐 0보다 크게 된다는 뜻은 $f(x)$의 접선의 기울기가 음수에서 양수로 변한다는 뜻이고 $f'(x)$가 0이 되는 순간은, $f(x)$가 최소값이 된다는 것을 의미합니다.\n",
    "\n",
    "이와 같이 원함수를 미분한 함수의 값이 0이 되는 $x$값을 찾으면, 원함수의 최대 혹은 최소 값을 나타내는 $x$값을 알 수 있게 되는 것입니다. "
   ]
  },
  {
   "cell_type": "markdown",
   "metadata": {},
   "source": [
    "## 4. 수학적 기호\n",
    "\n",
    "말로 길게 풀어서 설명했지만, 매번 미분을 나타낼 때마다, 말로 길게 표현할 수는 없는 노릇입니다. 수학을 사용할 때는 수학답게 사용해야 합니다. 이를 위해 앞으로 우리는 수학적 기호를 사용하여 수식을 표현할 것입니다. 많은 수학적 기호들이 있지만, 그중에서도 미분에 관련된 수학적 기호 그 중에서도 기계학습을 배울 때 주로 다루는 3가지 기호만 기억하시면 됩니다. \n",
    "\n",
    "어떤 값이 변하는 것을 나타내는 수학적 기호는 $\\Delta$입니다. 만약, x값이 변한다고 수학적으로 표현하고 싶다면, $\\Delta x$라고 표기하면 됩니다. \n",
    "이를 이용해서 위에서 나온 미분 계수를 구하는 공식을 이용하여 특정 값에 국한된 것이 아닌 일반화시켜 표현할 수 있습니다.\n",
    "\n",
    "$x_2$와 $x_1$ 사이의 거리를 $h$라고 표현할 때, $h$는 계속해서 변하게 됩니다. 이 변화하는 $h$를 $\\Delta h$라고 표기하여, 미분 계수를 구하는 공식을 다시 나타내자면, 아래와 같습니다.\n",
    "\n",
    "\\begin{align}\n",
    "\\lim_{\\Delta h \\to 0} \\frac{f(x + \\Delta h)-f(x)}{\\Delta h} = f'(x)\n",
    "\\end{align}\n",
    "\n",
    "\n",
    "함수의 기울기의 변화를 나타내는 수학적 기호는 $d$를 이용합니다. 만약 함수 $f(x)$의 기울기의 변화를 나타내고자 할 때에는, $\\frac{d}{dx}f(x)$로 표기합니다. $\\Delta$로 표기하면 좋겠지만, 미분을 조금 더 강조하기 위해 $d$를 사용합니다. \n",
    "\n",
    "$f(x) = g(x) \\pm t(x)$를 미분한 결과를 $d$를 이용하여 표기하고자 하면 아래와 같습니다.\n",
    "\n",
    "\\begin{align}\n",
    "\\frac{d}{dx}f(x) = \\frac{d}{dx}g(x) \\pm \\frac{d}{dx}t(x)\n",
    "\\end{align}\n",
    "\n",
    "\n",
    "\n",
    "마지막으로 편미분을 나타내기 위한 수학적 기호는 $\\partial$을 사용합니다. 만약 함수 $f(x, y)$의 $x$에 대한 기울기의 변화를 나타내고자 할 때에는, $\\frac{\\partial}{\\partial x}f(x, y)$로 표기합니다. \n",
    "\n",
    "$f(x, y) = g(x, y) \\pm t(x, y)$를 미분한 결과를 $\\partial$를 이용하여 표기하고자 하면 아래와 같습니다.\n",
    "\n",
    "\\begin{align}\n",
    "\\frac{\\partial}{\\partial x}f(x, y) = \\frac{\\partial}{\\partial x}g(x, y) \\pm \\frac{\\partial}{\\partial x}t(x, y)\n",
    "\\end{align}"
   ]
  },
  {
   "cell_type": "markdown",
   "metadata": {},
   "source": [
    "## 학습 정리\n",
    "- 미분계수와 미분법의 이해\n",
    "- 미분을 통한 최대, 최소 구하는 법을 이해\n",
    "\n",
    "--------"
   ]
  },
  {
   "cell_type": "code",
   "execution_count": null,
   "metadata": {},
   "outputs": [],
   "source": []
  }
 ],
 "metadata": {
  "kernelspec": {
   "display_name": "Python 3 (ipykernel)",
   "language": "python",
   "name": "python3"
  },
  "language_info": {
   "codemirror_mode": {
    "name": "ipython",
    "version": 3
   },
   "file_extension": ".py",
   "mimetype": "text/x-python",
   "name": "python",
   "nbconvert_exporter": "python",
   "pygments_lexer": "ipython3",
   "version": "3.8.12"
  }
 },
 "nbformat": 4,
 "nbformat_minor": 2
}
