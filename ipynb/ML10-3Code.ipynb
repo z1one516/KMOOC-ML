{
 "cells": [
  {
   "cell_type": "markdown",
   "metadata": {},
   "source": [
    "예수께서 나아와 말씀하여 이르시되 하늘과 땅의 모든 권세를 내게 주셨으니 그러므로 너희는 가서 모든 민족을 제자로 삼아 아버지와 아들과 성령의 이름으로 침례를 베풀고 내가 너희에게 분부한 모든 것을 가르쳐 지키게 하라 볼지어다 내가 세상 끝날까지 너희와 항상 함께 있으리라 하시니라 (마28:18-20)\n",
    "<center><img src=\"https://github.com/idebtor/KMOOC-ML/blob/master/ipynb/images/MLwithPython.png?raw=true\" width=1000></center>\n",
    "\n",
    "# Week 9-3 XOR Neural Network Coding\n",
    "#### Machine Learning with Python by idebtor@gmail.com\n",
    "-----------------------------------\n",
    "\n",
    "## 1. XOR 신경망 클래스"
   ]
  },
  {
   "cell_type": "code",
   "execution_count": 3,
   "metadata": {},
   "outputs": [],
   "source": [
    "class NeuralNetwork():\n",
    "    \"\"\"This class implements a multi-perceptron\n",
    "       with backpropagation. This handles a simple logic\n",
    "       such as OR, AND, NAND, and NOR gates, including XOR.\"\"\"\n",
    "    \n",
    "    def __init__(self, net_arch, eta = 0.1, epochs = 10000, random_seed = 1):\n",
    "        self.layers = len(net_arch)\n",
    "        self.net_arch = net_arch\n",
    "        self.eta  = eta\n",
    "        self.epochs = epochs\n",
    "        self.random_seed = random_seed\n",
    "        \n",
    "    def g(self, x):\n",
    "        return 1 / (1 + np.exp((-x)))\n",
    "    \n",
    "    def g_prime(self, x):\n",
    "        return self.g(x) * (1 - self.g(x))\n",
    "    \n",
    "    def fit(self, X, Y):\n",
    "        np.random.seed(self.random_seed)\n",
    "        W1_shape = (self.net_arch[(1)], self.net_arch[(0)])\n",
    "        W2_shape = (self.net_arch[(2)], self.net_arch[(1)])\n",
    "        self.W1 = 2 * np.random.random(W1_shape) - 1\n",
    "        self.W2 = 2 * np.random.random(W2_shape) - 1\n",
    "        \n",
    "        self.cost_ = []\n",
    "        \n",
    "        for _ in range(self.epochs):\n",
    "            A0 = X\n",
    "            Z1 = np.dot(self.W1, A0)\n",
    "            A1 = self.g(Z1)\n",
    "            Z2 = np.dot(self.W2, A1)\n",
    "            A2 = self.g(Z2)\n",
    "            \n",
    "            E2 = Y - A2\n",
    "            E1 = np.dot(self.W2.T, E2)\n",
    "            \n",
    "            dZ2 = E2 * self.g_prime(Z2)\n",
    "            dZ1 = E1 * self.g_prime(Z1)\n",
    "            \n",
    "            self.W2 += np.dot(dZ2, A1.T)\n",
    "            self.W1 += np.dot(dZ1, A0.T)\n",
    "            self.cost_.append(np.sqrt(np.sum(E2 * E2)))\n",
    "        return self\n",
    "    \n",
    "    def net_input(self, X):\n",
    "        if X.shape[0] == self.w.shape[0]:\n",
    "            return np.dot(X, self.w)\n",
    "        else:\n",
    "            return np.dot(X, self.w[1:]) + self.w[0]\n",
    "        \n",
    "    def predict(self, X):\n",
    "        Z1 = np.dot(self.W1, X)\n",
    "        A1 = self.g(Z1)\n",
    "        Z2 = np.dot(self.W2, A1)\n",
    "        A2 = self.g(Z2)\n",
    "        return A2"
   ]
  },
  {
   "cell_type": "markdown",
   "metadata": {},
   "source": [
    "## 2. XOR 신경망 학습 결과: 은닉층 노드 3개"
   ]
  },
  {
   "cell_type": "code",
   "execution_count": 4,
   "metadata": {},
   "outputs": [
    {
     "name": "stdout",
     "output_type": "stream",
     "text": [
      "Final prediction of all\n",
      "[0 0] [0.048]\n",
      "[0 1] [0.955]\n",
      "[1 0] [0.499]\n",
      "[1 1] [0.501]\n"
     ]
    }
   ],
   "source": [
    "import numpy as np\n",
    "nn = NeuralNetwork(net_arch = [2, 3, 1], epochs = 1000)\n",
    "X = np.array([[0, 0, 1, 1], [0, 1, 0, 1]])\n",
    "Y = np.array([0, 1, 1, 0])\n",
    "nn.fit(X, Y)\n",
    "print(\"Final prediction of all\")\n",
    "A2 = nn.predict(X)\n",
    "for x, yhat in zip(X.T, A2.T):\n",
    "    print(x, np.round(yhat, 3))"
   ]
  },
  {
   "cell_type": "code",
   "execution_count": 5,
   "metadata": {},
   "outputs": [
    {
     "name": "stderr",
     "output_type": "stream",
     "text": [
      "/anaconda3/lib/python3.6/site-packages/h5py/__init__.py:36: FutureWarning: Conversion of the second argument of issubdtype from `float` to `np.floating` is deprecated. In future, it will be treated as `np.float64 == np.dtype(float).type`.\n",
      "  from ._conv import register_converters as _register_converters\n"
     ]
    },
    {
     "data": {
      "image/png": "[encoded data removed]",
      "text/plain": [
       "<matplotlib.figure.Figure at 0x10c381f28>"
      ]
     },
     "metadata": {},
     "output_type": "display_data"
    }
   ],
   "source": [
    "import joy\n",
    "import matplotlib.pyplot as plt\n",
    "%matplotlib inline\n",
    "joy.plot_decision_regions(X.T, Y, lambda Z: nn.predict(Z.T))\n",
    "plt.xlabel('x-axis')\n",
    "plt.ylabel('y-axis')\n",
    "plt.legend(loc = 'best')\n",
    "plt.show()"
   ]
  },
  {
   "cell_type": "code",
   "execution_count": 6,
   "metadata": {
    "scrolled": true
   },
   "outputs": [
    {
     "data": {
      "image/png": "[encoded data removed]",
      "text/plain": [
       "<matplotlib.figure.Figure at 0x1161a3a20>"
      ]
     },
     "metadata": {},
     "output_type": "display_data"
    }
   ],
   "source": [
    "plt.plot(range(len(nn.cost_)), nn.cost_, marker = 'o')\n",
    "plt.xlabel('Epochs')\n",
    "plt.ylabel('Error Squared Sum')\n",
    "plt.show()"
   ]
  },
  {
   "cell_type": "markdown",
   "metadata": {},
   "source": [
    "## 3. XOR 신경망 학습 결과: 은닉층 노드 4개"
   ]
  },
  {
   "cell_type": "code",
   "execution_count": 7,
   "metadata": {},
   "outputs": [
    {
     "name": "stdout",
     "output_type": "stream",
     "text": [
      "Final prediction of all\n",
      "[0 0] [0.077]\n",
      "[0 1] [0.935]\n",
      "[1 0] [0.94]\n",
      "[1 1] [0.043]\n"
     ]
    }
   ],
   "source": [
    "nn = NeuralNetwork(net_arch = [2, 4, 1], epochs = 1000)\n",
    "X = np.array([[0, 0, 1, 1], [0, 1, 0, 1]])\n",
    "Y = np.array([0, 1, 1, 0])\n",
    "nn.fit(X, Y)\n",
    "print(\"Final prediction of all\")\n",
    "A2 = nn.predict(X)\n",
    "for x, yhat in zip(X.T, A2.T):\n",
    "    print(x, np.round(yhat, 3))"
   ]
  },
  {
   "cell_type": "code",
   "execution_count": 8,
   "metadata": {},
   "outputs": [
    {
     "data": {
      "image/png": "[encoded data removed]",
      "text/plain": [
       "<matplotlib.figure.Figure at 0x116b735f8>"
      ]
     },
     "metadata": {},
     "output_type": "display_data"
    }
   ],
   "source": [
    "joy.plot_decision_regions(X.T, Y, lambda z : nn.predict(z.T))\n",
    "plt.xlabel('x-axis')\n",
    "plt.ylabel('y-axis')\n",
    "plt.legend(loc = 'best')\n",
    "plt.show()"
   ]
  },
  {
   "cell_type": "code",
   "execution_count": 9,
   "metadata": {},
   "outputs": [
    {
     "data": {
      "image/png": "[encoded data removed]",
      "text/plain": [
       "<matplotlib.figure.Figure at 0x116b73978>"
      ]
     },
     "metadata": {},
     "output_type": "display_data"
    }
   ],
   "source": [
    "plt.plot(range(len(nn.cost_)), nn.cost_, marker = 'o')\n",
    "plt.xlabel('Epochs')\n",
    "plt.ylabel('Error Squared Sum')\n",
    "plt.show()"
   ]
  },
  {
   "cell_type": "markdown",
   "metadata": {},
   "source": [
    "-------\n",
    "_Rejoice always, pray continually, give thanks in all circumstances; for this is God’s will for you in Christ Jesus. (1 Thes 5:16-18)_"
   ]
  }
 ],
 "metadata": {
  "kernelspec": {
   "display_name": "Python 3 (ipykernel)",
   "language": "python",
   "name": "python3"
  },
  "language_info": {
   "codemirror_mode": {
    "name": "ipython",
    "version": 3
   },
   "file_extension": ".py",
   "mimetype": "text/x-python",
   "name": "python",
   "nbconvert_exporter": "python",
   "pygments_lexer": "ipython3",
   "version": "3.8.12"
  }
 },
 "nbformat": 4,
 "nbformat_minor": 2
}
