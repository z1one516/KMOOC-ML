{
 "cells": [
  {
   "cell_type": "markdown",
   "metadata": {},
   "source": [
    "너희가 내 안에 거하고 내 말이 너희 안에 거하면 무엇이든지 원하는 대로 구하라 그리하면 이루리라 (요15:7)\n",
    "<center><img src=\"https://github.com/idebtor/KMOOC-ML/blob/master/ipynb/images/MLwithPython.png?raw=true\" width=1000></center>"
   ]
  },
  {
   "cell_type": "markdown",
   "metadata": {},
   "source": [
    "# Week 4-1 Perceptron\n",
    "\n",
    "## 2. 퍼셉트론 구조: 순입력 계산과정"
   ]
  },
  {
   "cell_type": "markdown",
   "metadata": {},
   "source": [
    "### 예제풀이 (1)"
   ]
  },
  {
   "cell_type": "code",
   "execution_count": 2,
   "metadata": {},
   "outputs": [
    {
     "name": "stdout",
     "output_type": "stream",
     "text": [
      "1.4\n"
     ]
    }
   ],
   "source": [
    "import numpy as np\n",
    "x = np.array([0, 1, 2, 3])\n",
    "w = np.array([0, 0.1, 0.2, 0.3])\n",
    "z = np.dot(x, w)\n",
    "print(z)"
   ]
  },
  {
   "cell_type": "markdown",
   "metadata": {},
   "source": [
    "### 예제풀이 (2)"
   ]
  },
  {
   "cell_type": "code",
   "execution_count": 3,
   "metadata": {},
   "outputs": [
    {
     "name": "stdout",
     "output_type": "stream",
     "text": [
      "1.157907568206559\n"
     ]
    }
   ],
   "source": [
    "x = np.array(np.arange(4))\n",
    "w = np.array(np.random.random(4))\n",
    "z = np.dot(w, x)\n",
    "print(z)"
   ]
  },
  {
   "cell_type": "markdown",
   "metadata": {},
   "source": [
    "### 예제풀이 (3)"
   ]
  },
  {
   "cell_type": "code",
   "execution_count": 4,
   "metadata": {},
   "outputs": [
    {
     "name": "stdout",
     "output_type": "stream",
     "text": [
      "2.367422736863018\n"
     ]
    }
   ],
   "source": [
    "x = np.array(np.arange(4))\n",
    "w = np.array(np.random.random(4))\n",
    "z = np.dot(w.T, x)\n",
    "print(z)"
   ]
  },
  {
   "cell_type": "markdown",
   "metadata": {},
   "source": [
    "### 예제풀이(2A)"
   ]
  },
  {
   "cell_type": "code",
   "execution_count": 5,
   "metadata": {},
   "outputs": [
    {
     "name": "stdout",
     "output_type": "stream",
     "text": [
      "3.555365667506398\n"
     ]
    }
   ],
   "source": [
    "np.random.seed(0)\n",
    "x = np.array(np.arange(4))\n",
    "w = np.array(np.random.random(4))\n",
    "z = np.dot(w, x)\n",
    "print(z)"
   ]
  },
  {
   "cell_type": "markdown",
   "metadata": {},
   "source": [
    "### 예제풀이(3A)"
   ]
  },
  {
   "cell_type": "code",
   "execution_count": 6,
   "metadata": {},
   "outputs": [
    {
     "name": "stdout",
     "output_type": "stream",
     "text": [
      "3.555365667506398\n"
     ]
    }
   ],
   "source": [
    "np.random.seed(0)\n",
    "x = np.array(np.arange(4))\n",
    "w = np.array(np.random.random(4))\n",
    "z = np.dot(w.T, x)\n",
    "print(z)"
   ]
  },
  {
   "cell_type": "markdown",
   "metadata": {},
   "source": [
    "## 2차원 배열 - reshape 메소드"
   ]
  },
  {
   "cell_type": "code",
   "execution_count": 7,
   "metadata": {},
   "outputs": [
    {
     "name": "stdout",
     "output_type": "stream",
     "text": [
      "x.shape=(4,), w.shape=(4,), w.T.shape=(4,)\n"
     ]
    }
   ],
   "source": [
    "print('x.shape={}, w.shape={}, w.T.shape={}'.format(x.shape, w.shape, w.T.shape))"
   ]
  },
  {
   "cell_type": "code",
   "execution_count": 8,
   "metadata": {},
   "outputs": [
    {
     "name": "stdout",
     "output_type": "stream",
     "text": [
      "[[3.55536567]]\n"
     ]
    }
   ],
   "source": [
    "np.random.seed(0)\n",
    "x = np.array(np.arange(4)).reshape(4, 1)\n",
    "w = np.array(np.random.random(4)).reshape(4, 1)\n",
    "z = np.dot(w.T, x) #.random((4, 1))도 가능!\n",
    "print(z)"
   ]
  },
  {
   "cell_type": "code",
   "execution_count": 11,
   "metadata": {},
   "outputs": [
    {
     "name": "stdout",
     "output_type": "stream",
     "text": [
      "[[0]\n",
      " [1]\n",
      " [2]\n",
      " [3]]\n",
      "[[0.5488135  0.71518937 0.60276338 0.54488318]]\n",
      "[[3.55536567]]\n",
      "shapes: x(4, 1), w(4, 1), w.T(1, 4), z(1, 1)\n"
     ]
    }
   ],
   "source": [
    "print(x)\n",
    "print(w.T)\n",
    "print(z)\n",
    "print('shapes: x{}, w{}, w.T{}, z{}'.format(x.shape, w.shape, w.T.shape, z.shape))"
   ]
  },
  {
   "cell_type": "code",
   "execution_count": 12,
   "metadata": {},
   "outputs": [
    {
     "name": "stdout",
     "output_type": "stream",
     "text": [
      "3.555365667506398\n"
     ]
    }
   ],
   "source": [
    "z = np.dot(w.T, x).squeeze()\n",
    "print(z)"
   ]
  }
 ],
 "metadata": {
  "kernelspec": {
   "display_name": "Python 3 (ipykernel)",
   "language": "python",
   "name": "python3"
  },
  "language_info": {
   "codemirror_mode": {
    "name": "ipython",
    "version": 3
   },
   "file_extension": ".py",
   "mimetype": "text/x-python",
   "name": "python",
   "nbconvert_exporter": "python",
   "pygments_lexer": "ipython3",
   "version": "3.8.12"
  }
 },
 "nbformat": 4,
 "nbformat_minor": 2
}
