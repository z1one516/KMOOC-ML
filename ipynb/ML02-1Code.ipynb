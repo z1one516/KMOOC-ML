{
 "cells": [
  {
   "cell_type": "markdown",
   "metadata": {},
   "source": [
    "사랑은 언제까지나 떨어지지 아니하되 예언도 폐하고 방언도 그치고 지식도 폐하리라. (고린도전서 13:4)   \n",
    "<center><img src=\"https://github.com/idebtor/KMOOC-ML/blob/master/ipynb/images/MLwithPython.png?raw=true\" width=1000></center>"
   ]
  },
  {
   "cell_type": "markdown",
   "metadata": {},
   "source": [
    "# 2 주차 1 강: 함수와 뉴론$^{Function \\ and \\ Neuron}$"
   ]
  },
  {
   "cell_type": "code",
   "execution_count": 3,
   "metadata": {},
   "outputs": [
    {
     "name": "stdout",
     "output_type": "stream",
     "text": [
      "0mile:0.0km\n",
      "1mile:1.61km\n",
      "2mile:3.22km\n",
      "3mile:4.83km\n",
      "4mile:6.44km\n"
     ]
    }
   ],
   "source": [
    "import matplotlib.pyplot as plt\n",
    "%matplotlib inline\n",
    "\n",
    "def mileToKm(x):\n",
    "    \"\"\"x 마일을 Km로 변환하여 반환\"\"\"\n",
    "    return 1.61 * x\n",
    "\n",
    "def plotMileToKm(x,y):\n",
    "    \"\"\"x, y의 값들을 그래프로 출력\"\"\"\n",
    "    plt.figure()\n",
    "    plt.plot(x,y)\n",
    "    plt.title('Mile to Km')\n",
    "    plt.xlabel('Mile')\n",
    "    plt.ylabel('Km')\n",
    "    plt.show()\n",
    "\n",
    "for mile in range(0, 5):\n",
    "        print('{}mile:{}km'.format(mile, mileToKm(mile)))"
   ]
  },
  {
   "cell_type": "code",
   "execution_count": 4,
   "metadata": {},
   "outputs": [
    {
     "data": {
      "image/png": "[encoded data removed]",
      "text/plain": [
       "<matplotlib.figure.Figure at 0x2b381bf88d0>"
      ]
     },
     "metadata": {},
     "output_type": "display_data"
    }
   ],
   "source": [
    "import matplotlib.pyplot as plt\n",
    "%matplotlib inline\n",
    "\n",
    "def mileToKm(x):\n",
    "    \"\"\"x 마일을 Km로 변환하여 반환\"\"\"\n",
    "    return 1.61 * x\n",
    "\n",
    "def plotMileToKm(x,y):\n",
    "    \"\"\"x, y의 값들을 그래프로 출력\"\"\"\n",
    "    plt.figure()\n",
    "    plt.plot(x,y)\n",
    "    plt.title('Mile to Km')\n",
    "    plt.xlabel('Mile')\n",
    "    plt.ylabel('Km')\n",
    "    plt.show()\n",
    "    \n",
    "x = [0, 1, 2, 3, 4]\n",
    "y = [0, 1.61, 3.33, 4.83, 6.44]\n",
    "plotMileToKm(x,y)"
   ]
  },
  {
   "cell_type": "code",
   "execution_count": 5,
   "metadata": {},
   "outputs": [
    {
     "data": {
      "image/png": "[encoded data removed]",
      "text/plain": [
       "<matplotlib.figure.Figure at 0x2b381c58518>"
      ]
     },
     "metadata": {},
     "output_type": "display_data"
    }
   ],
   "source": [
    "import matplotlib.pyplot as plt\n",
    "%matplotlib inline\n",
    "\n",
    "def mileToKm(x):\n",
    "    \"\"\"x 마일을 Km로 변환하여 반환\"\"\"\n",
    "    return 1.61 * x\n",
    "\n",
    "def plotMileToKm(x,y):\n",
    "    \"\"\"x, y의 값들을 그래프로 출력\"\"\"\n",
    "    plt.figure()\n",
    "    plt.plot(x, y, '-sr')\n",
    "    plt.title('Mile to Km')\n",
    "    plt.xlabel('Mile')\n",
    "    plt.ylabel('Km')\n",
    "    plt.show()\n",
    "    \n",
    "x = [0, 1, 2, 3, 4]\n",
    "y = [0, 1.61, 3.33, 4.83, 6.44]\n",
    "plotMileToKm(x,y)"
   ]
  },
  {
   "cell_type": "code",
   "execution_count": 6,
   "metadata": {},
   "outputs": [
    {
     "data": {
      "image/png": "[encoded data removed]",
      "text/plain": [
       "<matplotlib.figure.Figure at 0x2b3ffa315f8>"
      ]
     },
     "metadata": {},
     "output_type": "display_data"
    }
   ],
   "source": [
    "import matplotlib.pyplot as plt\n",
    "%matplotlib inline\n",
    "\n",
    "def mileToKm(x):\n",
    "    \"\"\"x 마일을 Km로 변환하여 반환\"\"\"\n",
    "    return 1.61 * x\n",
    "\n",
    "def plotMileToKm(x,y):\n",
    "    \"\"\"x, y의 값들을 그래프로 출력\"\"\"\n",
    "    plt.figure()\n",
    "    plt.plot(x, y, 'ob')\n",
    "    plt.title('Mile to Km')\n",
    "    plt.xlabel('Mile')\n",
    "    plt.ylabel('Km')\n",
    "    plt.show()\n",
    "    \n",
    "x = [0, 1, 2, 3, 4]\n",
    "y = [0, 1.61, 3.33, 4.83, 6.44]\n",
    "plotMileToKm(x,y)"
   ]
  },
  {
   "cell_type": "code",
   "execution_count": 7,
   "metadata": {},
   "outputs": [
    {
     "name": "stdout",
     "output_type": "stream",
     "text": [
      "[0.0, 1.61, 3.22, 4.83, 6.44]\n"
     ]
    }
   ],
   "source": [
    "import matplotlib.pyplot as plt\n",
    "%matplotlib inline\n",
    "\n",
    "def mileToKm(x):\n",
    "    \"\"\"x 마일을 Km로 변환하여 반환\"\"\"\n",
    "    return 1.61 * x\n",
    "\n",
    "def plotMileToKm(x,y):\n",
    "    \"\"\"x, y의 값들을 그래프로 출력\"\"\"\n",
    "    plt.figure()\n",
    "    plt.plot(x, y, 'ob')\n",
    "    plt.title('Mile to Km')\n",
    "    plt.xlabel('Mile')\n",
    "    plt.ylabel('Km')\n",
    "    plt.show()\n",
    "\n",
    "y = []\n",
    "for mile in range(0, 5):\n",
    "    y.append(mileToKm(mile))\n",
    "print(y)"
   ]
  },
  {
   "cell_type": "code",
   "execution_count": 8,
   "metadata": {},
   "outputs": [
    {
     "name": "stdout",
     "output_type": "stream",
     "text": [
      "[0.0, 1.61, 3.22, 4.83, 6.44]\n"
     ]
    }
   ],
   "source": [
    "import matplotlib.pyplot as plt\n",
    "%matplotlib inline\n",
    "\n",
    "def mileToKm(x):\n",
    "    \"\"\"x 마일을 Km로 변환하여 반환\"\"\"\n",
    "    return 1.61 * x\n",
    "\n",
    "def plotMileToKm(x,y):\n",
    "    \"\"\"x, y의 값들을 그래프로 출력\"\"\"\n",
    "    plt.figure()\n",
    "    plt.plot(x, y, 'ob')\n",
    "    plt.title('Mile to Km')\n",
    "    plt.xlabel('Mile')\n",
    "    plt.ylabel('Km')\n",
    "    plt.show()\n",
    "    \n",
    "y = [ mileToKm(mile) for mile in range(0,5)]\n",
    "print(y)"
   ]
  },
  {
   "cell_type": "code",
   "execution_count": 9,
   "metadata": {},
   "outputs": [
    {
     "name": "stdout",
     "output_type": "stream",
     "text": [
      "[0 1 2 3 4]\n",
      "[0.   1.61 3.22 4.83 6.44]\n"
     ]
    },
    {
     "data": {
      "image/png": "[encoded data removed]",
      "text/plain": [
       "<matplotlib.figure.Figure at 0x2b381d16518>"
      ]
     },
     "metadata": {},
     "output_type": "display_data"
    }
   ],
   "source": [
    "import numpy as np\n",
    "import matplotlib.pyplot as plt\n",
    "%matplotlib inline\n",
    "\n",
    "def mileToKm(x):\n",
    "    \"\"\"x 마일을 Km로 변환하여 반환\"\"\"\n",
    "    return 1.61 * x\n",
    "\n",
    "def plotMileToKm(x,y):\n",
    "    \"\"\"x, y의 값들을 그래프로 출력\"\"\"\n",
    "    plt.figure()\n",
    "    plt.plot(x, y, 'ob')\n",
    "    plt.title('Mile to Km')\n",
    "    plt.xlabel('Mile')\n",
    "    plt.ylabel('Km')\n",
    "    plt.show()\n",
    "    \n",
    "x = np.arange(0, 5)\n",
    "y = mileToKm(x)\n",
    "print(x)\n",
    "print(y)\n",
    "plotMileToKm(x, y)"
   ]
  }
 ],
 "metadata": {
  "kernelspec": {
   "display_name": "Python 3 (ipykernel)",
   "language": "python",
   "name": "python3"
  },
  "language_info": {
   "codemirror_mode": {
    "name": "ipython",
    "version": 3
   },
   "file_extension": ".py",
   "mimetype": "text/x-python",
   "name": "python",
   "nbconvert_exporter": "python",
   "pygments_lexer": "ipython3",
   "version": "3.8.12"
  }
 },
 "nbformat": 4,
 "nbformat_minor": 4
}
